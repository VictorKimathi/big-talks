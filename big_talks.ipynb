{
  "nbformat": 4,
  "nbformat_minor": 0,
  "metadata": {
    "colab": {
      "name": "big-talks.ipynb",
      "provenance": [],
      "collapsed_sections": []
    },
    "kernelspec": {
      "name": "python3",
      "display_name": "Python 3"
    },
    "accelerator": "GPU",
    "widgets": {
      "application/vnd.jupyter.widget-state+json": {
        "11edde7e77f54d1d92e4b783f232534a": {
          "model_module": "@jupyter-widgets/controls",
          "model_name": "HBoxModel",
          "state": {
            "_view_name": "HBoxView",
            "_dom_classes": [],
            "_model_name": "HBoxModel",
            "_view_module": "@jupyter-widgets/controls",
            "_model_module_version": "1.5.0",
            "_view_count": null,
            "_view_module_version": "1.5.0",
            "box_style": "",
            "layout": "IPY_MODEL_a59a87d3c9d04259919a3ccdba432c8c",
            "_model_module": "@jupyter-widgets/controls",
            "children": [
              "IPY_MODEL_046de756cbc84bc6b6bd11599e72784c",
              "IPY_MODEL_8ae441ef815b4fc2ab9673506c5f86ce"
            ]
          }
        },
        "a59a87d3c9d04259919a3ccdba432c8c": {
          "model_module": "@jupyter-widgets/base",
          "model_name": "LayoutModel",
          "state": {
            "_view_name": "LayoutView",
            "grid_template_rows": null,
            "right": null,
            "justify_content": null,
            "_view_module": "@jupyter-widgets/base",
            "overflow": null,
            "_model_module_version": "1.2.0",
            "_view_count": null,
            "flex_flow": null,
            "width": null,
            "min_width": null,
            "border": null,
            "align_items": null,
            "bottom": null,
            "_model_module": "@jupyter-widgets/base",
            "top": null,
            "grid_column": null,
            "overflow_y": null,
            "overflow_x": null,
            "grid_auto_flow": null,
            "grid_area": null,
            "grid_template_columns": null,
            "flex": null,
            "_model_name": "LayoutModel",
            "justify_items": null,
            "grid_row": null,
            "max_height": null,
            "align_content": null,
            "visibility": null,
            "align_self": null,
            "height": null,
            "min_height": null,
            "padding": null,
            "grid_auto_rows": null,
            "grid_gap": null,
            "max_width": null,
            "order": null,
            "_view_module_version": "1.2.0",
            "grid_template_areas": null,
            "object_position": null,
            "object_fit": null,
            "grid_auto_columns": null,
            "margin": null,
            "display": null,
            "left": null
          }
        },
        "046de756cbc84bc6b6bd11599e72784c": {
          "model_module": "@jupyter-widgets/controls",
          "model_name": "FloatProgressModel",
          "state": {
            "_view_name": "ProgressView",
            "style": "IPY_MODEL_784f2d8b28fb4c4e816eac86088ecd3b",
            "_dom_classes": [],
            "description": "100%",
            "_model_name": "FloatProgressModel",
            "bar_style": "success",
            "max": 44,
            "_view_module": "@jupyter-widgets/controls",
            "_model_module_version": "1.5.0",
            "value": 44,
            "_view_count": null,
            "_view_module_version": "1.5.0",
            "orientation": "horizontal",
            "min": 0,
            "description_tooltip": null,
            "_model_module": "@jupyter-widgets/controls",
            "layout": "IPY_MODEL_f03bcce65eb4456b9a130988f0c0cb82"
          }
        },
        "8ae441ef815b4fc2ab9673506c5f86ce": {
          "model_module": "@jupyter-widgets/controls",
          "model_name": "HTMLModel",
          "state": {
            "_view_name": "HTMLView",
            "style": "IPY_MODEL_ece26c727e0248339ddba7cf66cc9c73",
            "_dom_classes": [],
            "description": "",
            "_model_name": "HTMLModel",
            "placeholder": "​",
            "_view_module": "@jupyter-widgets/controls",
            "_model_module_version": "1.5.0",
            "value": " 44/44 [18:54&lt;00:00, 25.78s/ex]",
            "_view_count": null,
            "_view_module_version": "1.5.0",
            "description_tooltip": null,
            "_model_module": "@jupyter-widgets/controls",
            "layout": "IPY_MODEL_156eeaef7b814f12b313a294c090d171"
          }
        },
        "784f2d8b28fb4c4e816eac86088ecd3b": {
          "model_module": "@jupyter-widgets/controls",
          "model_name": "ProgressStyleModel",
          "state": {
            "_view_name": "StyleView",
            "_model_name": "ProgressStyleModel",
            "description_width": "initial",
            "_view_module": "@jupyter-widgets/base",
            "_model_module_version": "1.5.0",
            "_view_count": null,
            "_view_module_version": "1.2.0",
            "bar_color": null,
            "_model_module": "@jupyter-widgets/controls"
          }
        },
        "f03bcce65eb4456b9a130988f0c0cb82": {
          "model_module": "@jupyter-widgets/base",
          "model_name": "LayoutModel",
          "state": {
            "_view_name": "LayoutView",
            "grid_template_rows": null,
            "right": null,
            "justify_content": null,
            "_view_module": "@jupyter-widgets/base",
            "overflow": null,
            "_model_module_version": "1.2.0",
            "_view_count": null,
            "flex_flow": null,
            "width": null,
            "min_width": null,
            "border": null,
            "align_items": null,
            "bottom": null,
            "_model_module": "@jupyter-widgets/base",
            "top": null,
            "grid_column": null,
            "overflow_y": null,
            "overflow_x": null,
            "grid_auto_flow": null,
            "grid_area": null,
            "grid_template_columns": null,
            "flex": null,
            "_model_name": "LayoutModel",
            "justify_items": null,
            "grid_row": null,
            "max_height": null,
            "align_content": null,
            "visibility": null,
            "align_self": null,
            "height": null,
            "min_height": null,
            "padding": null,
            "grid_auto_rows": null,
            "grid_gap": null,
            "max_width": null,
            "order": null,
            "_view_module_version": "1.2.0",
            "grid_template_areas": null,
            "object_position": null,
            "object_fit": null,
            "grid_auto_columns": null,
            "margin": null,
            "display": null,
            "left": null
          }
        },
        "ece26c727e0248339ddba7cf66cc9c73": {
          "model_module": "@jupyter-widgets/controls",
          "model_name": "DescriptionStyleModel",
          "state": {
            "_view_name": "StyleView",
            "_model_name": "DescriptionStyleModel",
            "description_width": "",
            "_view_module": "@jupyter-widgets/base",
            "_model_module_version": "1.5.0",
            "_view_count": null,
            "_view_module_version": "1.2.0",
            "_model_module": "@jupyter-widgets/controls"
          }
        },
        "156eeaef7b814f12b313a294c090d171": {
          "model_module": "@jupyter-widgets/base",
          "model_name": "LayoutModel",
          "state": {
            "_view_name": "LayoutView",
            "grid_template_rows": null,
            "right": null,
            "justify_content": null,
            "_view_module": "@jupyter-widgets/base",
            "overflow": null,
            "_model_module_version": "1.2.0",
            "_view_count": null,
            "flex_flow": null,
            "width": null,
            "min_width": null,
            "border": null,
            "align_items": null,
            "bottom": null,
            "_model_module": "@jupyter-widgets/base",
            "top": null,
            "grid_column": null,
            "overflow_y": null,
            "overflow_x": null,
            "grid_auto_flow": null,
            "grid_area": null,
            "grid_template_columns": null,
            "flex": null,
            "_model_name": "LayoutModel",
            "justify_items": null,
            "grid_row": null,
            "max_height": null,
            "align_content": null,
            "visibility": null,
            "align_self": null,
            "height": null,
            "min_height": null,
            "padding": null,
            "grid_auto_rows": null,
            "grid_gap": null,
            "max_width": null,
            "order": null,
            "_view_module_version": "1.2.0",
            "grid_template_areas": null,
            "object_position": null,
            "object_fit": null,
            "grid_auto_columns": null,
            "margin": null,
            "display": null,
            "left": null
          }
        },
        "4ad5840d2fee48cd804e79e580b3bdad": {
          "model_module": "@jupyter-widgets/controls",
          "model_name": "HBoxModel",
          "state": {
            "_view_name": "HBoxView",
            "_dom_classes": [],
            "_model_name": "HBoxModel",
            "_view_module": "@jupyter-widgets/controls",
            "_model_module_version": "1.5.0",
            "_view_count": null,
            "_view_module_version": "1.5.0",
            "box_style": "",
            "layout": "IPY_MODEL_3e08365621914523b520c0c983e316a3",
            "_model_module": "@jupyter-widgets/controls",
            "children": [
              "IPY_MODEL_2a39f4a0d52746cea8eefd47b790154f",
              "IPY_MODEL_1cf6a459cf3d41798c8713c27604616e"
            ]
          }
        },
        "3e08365621914523b520c0c983e316a3": {
          "model_module": "@jupyter-widgets/base",
          "model_name": "LayoutModel",
          "state": {
            "_view_name": "LayoutView",
            "grid_template_rows": null,
            "right": null,
            "justify_content": null,
            "_view_module": "@jupyter-widgets/base",
            "overflow": null,
            "_model_module_version": "1.2.0",
            "_view_count": null,
            "flex_flow": null,
            "width": null,
            "min_width": null,
            "border": null,
            "align_items": null,
            "bottom": null,
            "_model_module": "@jupyter-widgets/base",
            "top": null,
            "grid_column": null,
            "overflow_y": null,
            "overflow_x": null,
            "grid_auto_flow": null,
            "grid_area": null,
            "grid_template_columns": null,
            "flex": null,
            "_model_name": "LayoutModel",
            "justify_items": null,
            "grid_row": null,
            "max_height": null,
            "align_content": null,
            "visibility": null,
            "align_self": null,
            "height": null,
            "min_height": null,
            "padding": null,
            "grid_auto_rows": null,
            "grid_gap": null,
            "max_width": null,
            "order": null,
            "_view_module_version": "1.2.0",
            "grid_template_areas": null,
            "object_position": null,
            "object_fit": null,
            "grid_auto_columns": null,
            "margin": null,
            "display": null,
            "left": null
          }
        },
        "2a39f4a0d52746cea8eefd47b790154f": {
          "model_module": "@jupyter-widgets/controls",
          "model_name": "FloatProgressModel",
          "state": {
            "_view_name": "ProgressView",
            "style": "IPY_MODEL_30bfc49798154e89ae1b6fdb4626ec3d",
            "_dom_classes": [],
            "description": "100%",
            "_model_name": "FloatProgressModel",
            "bar_style": "success",
            "max": 44,
            "_view_module": "@jupyter-widgets/controls",
            "_model_module_version": "1.5.0",
            "value": 44,
            "_view_count": null,
            "_view_module_version": "1.5.0",
            "orientation": "horizontal",
            "min": 0,
            "description_tooltip": null,
            "_model_module": "@jupyter-widgets/controls",
            "layout": "IPY_MODEL_08d1cdefb14649c891fe6baa0364f7cd"
          }
        },
        "1cf6a459cf3d41798c8713c27604616e": {
          "model_module": "@jupyter-widgets/controls",
          "model_name": "HTMLModel",
          "state": {
            "_view_name": "HTMLView",
            "style": "IPY_MODEL_1295f04cba3f4e17a93a8262c744d62a",
            "_dom_classes": [],
            "description": "",
            "_model_name": "HTMLModel",
            "placeholder": "​",
            "_view_module": "@jupyter-widgets/controls",
            "_model_module_version": "1.5.0",
            "value": " 44/44 [00:05&lt;00:00,  7.56ex/s]",
            "_view_count": null,
            "_view_module_version": "1.5.0",
            "description_tooltip": null,
            "_model_module": "@jupyter-widgets/controls",
            "layout": "IPY_MODEL_c4bff7b66a5d4627b3c3e682f08491d1"
          }
        },
        "30bfc49798154e89ae1b6fdb4626ec3d": {
          "model_module": "@jupyter-widgets/controls",
          "model_name": "ProgressStyleModel",
          "state": {
            "_view_name": "StyleView",
            "_model_name": "ProgressStyleModel",
            "description_width": "initial",
            "_view_module": "@jupyter-widgets/base",
            "_model_module_version": "1.5.0",
            "_view_count": null,
            "_view_module_version": "1.2.0",
            "bar_color": null,
            "_model_module": "@jupyter-widgets/controls"
          }
        },
        "08d1cdefb14649c891fe6baa0364f7cd": {
          "model_module": "@jupyter-widgets/base",
          "model_name": "LayoutModel",
          "state": {
            "_view_name": "LayoutView",
            "grid_template_rows": null,
            "right": null,
            "justify_content": null,
            "_view_module": "@jupyter-widgets/base",
            "overflow": null,
            "_model_module_version": "1.2.0",
            "_view_count": null,
            "flex_flow": null,
            "width": null,
            "min_width": null,
            "border": null,
            "align_items": null,
            "bottom": null,
            "_model_module": "@jupyter-widgets/base",
            "top": null,
            "grid_column": null,
            "overflow_y": null,
            "overflow_x": null,
            "grid_auto_flow": null,
            "grid_area": null,
            "grid_template_columns": null,
            "flex": null,
            "_model_name": "LayoutModel",
            "justify_items": null,
            "grid_row": null,
            "max_height": null,
            "align_content": null,
            "visibility": null,
            "align_self": null,
            "height": null,
            "min_height": null,
            "padding": null,
            "grid_auto_rows": null,
            "grid_gap": null,
            "max_width": null,
            "order": null,
            "_view_module_version": "1.2.0",
            "grid_template_areas": null,
            "object_position": null,
            "object_fit": null,
            "grid_auto_columns": null,
            "margin": null,
            "display": null,
            "left": null
          }
        },
        "1295f04cba3f4e17a93a8262c744d62a": {
          "model_module": "@jupyter-widgets/controls",
          "model_name": "DescriptionStyleModel",
          "state": {
            "_view_name": "StyleView",
            "_model_name": "DescriptionStyleModel",
            "description_width": "",
            "_view_module": "@jupyter-widgets/base",
            "_model_module_version": "1.5.0",
            "_view_count": null,
            "_view_module_version": "1.2.0",
            "_model_module": "@jupyter-widgets/controls"
          }
        },
        "c4bff7b66a5d4627b3c3e682f08491d1": {
          "model_module": "@jupyter-widgets/base",
          "model_name": "LayoutModel",
          "state": {
            "_view_name": "LayoutView",
            "grid_template_rows": null,
            "right": null,
            "justify_content": null,
            "_view_module": "@jupyter-widgets/base",
            "overflow": null,
            "_model_module_version": "1.2.0",
            "_view_count": null,
            "flex_flow": null,
            "width": null,
            "min_width": null,
            "border": null,
            "align_items": null,
            "bottom": null,
            "_model_module": "@jupyter-widgets/base",
            "top": null,
            "grid_column": null,
            "overflow_y": null,
            "overflow_x": null,
            "grid_auto_flow": null,
            "grid_area": null,
            "grid_template_columns": null,
            "flex": null,
            "_model_name": "LayoutModel",
            "justify_items": null,
            "grid_row": null,
            "max_height": null,
            "align_content": null,
            "visibility": null,
            "align_self": null,
            "height": null,
            "min_height": null,
            "padding": null,
            "grid_auto_rows": null,
            "grid_gap": null,
            "max_width": null,
            "order": null,
            "_view_module_version": "1.2.0",
            "grid_template_areas": null,
            "object_position": null,
            "object_fit": null,
            "grid_auto_columns": null,
            "margin": null,
            "display": null,
            "left": null
          }
        },
        "54091b99d42a4038b6edcb1c8fd8259e": {
          "model_module": "@jupyter-widgets/controls",
          "model_name": "HBoxModel",
          "state": {
            "_view_name": "HBoxView",
            "_dom_classes": [],
            "_model_name": "HBoxModel",
            "_view_module": "@jupyter-widgets/controls",
            "_model_module_version": "1.5.0",
            "_view_count": null,
            "_view_module_version": "1.5.0",
            "box_style": "",
            "layout": "IPY_MODEL_502a39faad0a4074a8cb7a76bb651384",
            "_model_module": "@jupyter-widgets/controls",
            "children": [
              "IPY_MODEL_b17d1355297240cbb078393e12ae814e",
              "IPY_MODEL_31df93a896944d92beda0adbfc4cfab5"
            ]
          }
        },
        "502a39faad0a4074a8cb7a76bb651384": {
          "model_module": "@jupyter-widgets/base",
          "model_name": "LayoutModel",
          "state": {
            "_view_name": "LayoutView",
            "grid_template_rows": null,
            "right": null,
            "justify_content": null,
            "_view_module": "@jupyter-widgets/base",
            "overflow": null,
            "_model_module_version": "1.2.0",
            "_view_count": null,
            "flex_flow": null,
            "width": null,
            "min_width": null,
            "border": null,
            "align_items": null,
            "bottom": null,
            "_model_module": "@jupyter-widgets/base",
            "top": null,
            "grid_column": null,
            "overflow_y": null,
            "overflow_x": null,
            "grid_auto_flow": null,
            "grid_area": null,
            "grid_template_columns": null,
            "flex": null,
            "_model_name": "LayoutModel",
            "justify_items": null,
            "grid_row": null,
            "max_height": null,
            "align_content": null,
            "visibility": null,
            "align_self": null,
            "height": null,
            "min_height": null,
            "padding": null,
            "grid_auto_rows": null,
            "grid_gap": null,
            "max_width": null,
            "order": null,
            "_view_module_version": "1.2.0",
            "grid_template_areas": null,
            "object_position": null,
            "object_fit": null,
            "grid_auto_columns": null,
            "margin": null,
            "display": null,
            "left": null
          }
        },
        "b17d1355297240cbb078393e12ae814e": {
          "model_module": "@jupyter-widgets/controls",
          "model_name": "FloatProgressModel",
          "state": {
            "_view_name": "ProgressView",
            "style": "IPY_MODEL_97028c4a05a549f1b08e91490d378949",
            "_dom_classes": [],
            "description": "100%",
            "_model_name": "FloatProgressModel",
            "bar_style": "success",
            "max": 1,
            "_view_module": "@jupyter-widgets/controls",
            "_model_module_version": "1.5.0",
            "value": 1,
            "_view_count": null,
            "_view_module_version": "1.5.0",
            "orientation": "horizontal",
            "min": 0,
            "description_tooltip": null,
            "_model_module": "@jupyter-widgets/controls",
            "layout": "IPY_MODEL_7888fc4097c14c5b8dbe4c5b756726ea"
          }
        },
        "31df93a896944d92beda0adbfc4cfab5": {
          "model_module": "@jupyter-widgets/controls",
          "model_name": "HTMLModel",
          "state": {
            "_view_name": "HTMLView",
            "style": "IPY_MODEL_962fa171adcf4106a4bfb76be4f6ef6c",
            "_dom_classes": [],
            "description": "",
            "_model_name": "HTMLModel",
            "placeholder": "​",
            "_view_module": "@jupyter-widgets/controls",
            "_model_module_version": "1.5.0",
            "value": " 1/1 [00:00&lt;00:00, 29.42it/s]",
            "_view_count": null,
            "_view_module_version": "1.5.0",
            "description_tooltip": null,
            "_model_module": "@jupyter-widgets/controls",
            "layout": "IPY_MODEL_9a3108049eea429aa719f31d275117d7"
          }
        },
        "97028c4a05a549f1b08e91490d378949": {
          "model_module": "@jupyter-widgets/controls",
          "model_name": "ProgressStyleModel",
          "state": {
            "_view_name": "StyleView",
            "_model_name": "ProgressStyleModel",
            "description_width": "initial",
            "_view_module": "@jupyter-widgets/base",
            "_model_module_version": "1.5.0",
            "_view_count": null,
            "_view_module_version": "1.2.0",
            "bar_color": null,
            "_model_module": "@jupyter-widgets/controls"
          }
        },
        "7888fc4097c14c5b8dbe4c5b756726ea": {
          "model_module": "@jupyter-widgets/base",
          "model_name": "LayoutModel",
          "state": {
            "_view_name": "LayoutView",
            "grid_template_rows": null,
            "right": null,
            "justify_content": null,
            "_view_module": "@jupyter-widgets/base",
            "overflow": null,
            "_model_module_version": "1.2.0",
            "_view_count": null,
            "flex_flow": null,
            "width": null,
            "min_width": null,
            "border": null,
            "align_items": null,
            "bottom": null,
            "_model_module": "@jupyter-widgets/base",
            "top": null,
            "grid_column": null,
            "overflow_y": null,
            "overflow_x": null,
            "grid_auto_flow": null,
            "grid_area": null,
            "grid_template_columns": null,
            "flex": null,
            "_model_name": "LayoutModel",
            "justify_items": null,
            "grid_row": null,
            "max_height": null,
            "align_content": null,
            "visibility": null,
            "align_self": null,
            "height": null,
            "min_height": null,
            "padding": null,
            "grid_auto_rows": null,
            "grid_gap": null,
            "max_width": null,
            "order": null,
            "_view_module_version": "1.2.0",
            "grid_template_areas": null,
            "object_position": null,
            "object_fit": null,
            "grid_auto_columns": null,
            "margin": null,
            "display": null,
            "left": null
          }
        },
        "962fa171adcf4106a4bfb76be4f6ef6c": {
          "model_module": "@jupyter-widgets/controls",
          "model_name": "DescriptionStyleModel",
          "state": {
            "_view_name": "StyleView",
            "_model_name": "DescriptionStyleModel",
            "description_width": "",
            "_view_module": "@jupyter-widgets/base",
            "_model_module_version": "1.5.0",
            "_view_count": null,
            "_view_module_version": "1.2.0",
            "_model_module": "@jupyter-widgets/controls"
          }
        },
        "9a3108049eea429aa719f31d275117d7": {
          "model_module": "@jupyter-widgets/base",
          "model_name": "LayoutModel",
          "state": {
            "_view_name": "LayoutView",
            "grid_template_rows": null,
            "right": null,
            "justify_content": null,
            "_view_module": "@jupyter-widgets/base",
            "overflow": null,
            "_model_module_version": "1.2.0",
            "_view_count": null,
            "flex_flow": null,
            "width": null,
            "min_width": null,
            "border": null,
            "align_items": null,
            "bottom": null,
            "_model_module": "@jupyter-widgets/base",
            "top": null,
            "grid_column": null,
            "overflow_y": null,
            "overflow_x": null,
            "grid_auto_flow": null,
            "grid_area": null,
            "grid_template_columns": null,
            "flex": null,
            "_model_name": "LayoutModel",
            "justify_items": null,
            "grid_row": null,
            "max_height": null,
            "align_content": null,
            "visibility": null,
            "align_self": null,
            "height": null,
            "min_height": null,
            "padding": null,
            "grid_auto_rows": null,
            "grid_gap": null,
            "max_width": null,
            "order": null,
            "_view_module_version": "1.2.0",
            "grid_template_areas": null,
            "object_position": null,
            "object_fit": null,
            "grid_auto_columns": null,
            "margin": null,
            "display": null,
            "left": null
          }
        }
      }
    }
  },
  "cells": [
    {
      "cell_type": "code",
      "metadata": {
        "id": "-fBX-0o3dCLD",
        "colab": {
          "base_uri": "https://localhost:8080/"
        },
        "outputId": "4b792a83-844f-4f0e-be35-4fc40d4520bc"
      },
      "source": [
        "!pip install -q transformers datasets faiss-gpu # Or faiss-cpu\n",
        "!git clone https://github.com/louis030195/big-talks"
      ],
      "execution_count": 1,
      "outputs": [
        {
          "output_type": "stream",
          "text": [
            "\u001b[K     |████████████████████████████████| 1.8MB 16.4MB/s \n",
            "\u001b[K     |████████████████████████████████| 163kB 37.5MB/s \n",
            "\u001b[K     |████████████████████████████████| 89.4MB 51kB/s \n",
            "\u001b[K     |████████████████████████████████| 2.9MB 51.9MB/s \n",
            "\u001b[K     |████████████████████████████████| 890kB 62.3MB/s \n",
            "\u001b[K     |████████████████████████████████| 245kB 59.3MB/s \n",
            "\u001b[K     |████████████████████████████████| 20.7MB 1.3MB/s \n",
            "\u001b[?25h  Building wheel for sacremoses (setup.py) ... \u001b[?25l\u001b[?25hdone\n",
            "Cloning into 'big-talks'...\n",
            "remote: Enumerating objects: 21, done.\u001b[K\n",
            "remote: Counting objects: 100% (21/21), done.\u001b[K\n",
            "remote: Compressing objects: 100% (17/17), done.\u001b[K\n",
            "remote: Total 21 (delta 3), reused 15 (delta 1), pack-reused 0\u001b[K\n",
            "Unpacking objects: 100% (21/21), done.\n"
          ],
          "name": "stdout"
        }
      ]
    },
    {
      "cell_type": "code",
      "metadata": {
        "id": "vnkMtwf_aOGy",
        "colab": {
          "base_uri": "https://localhost:8080/"
        },
        "outputId": "99245035-aa18-40a0-ab37-981985bc4e7e"
      },
      "source": [
        "import os\n",
        "import pandas as pd\n",
        "import requests\n",
        "import datetime\n",
        "from datasets import Dataset\n",
        "df = pd.read_json(\"big-talks/docs/big-talks.json\")\n",
        "dataset = Dataset.from_pandas(df)\n",
        "dataset"
      ],
      "execution_count": 15,
      "outputs": [
        {
          "output_type": "execute_result",
          "data": {
            "text/plain": [
              "Dataset({\n",
              "    features: ['basic'],\n",
              "    num_rows: 44\n",
              "})"
            ]
          },
          "metadata": {
            "tags": []
          },
          "execution_count": 15
        }
      ]
    },
    {
      "cell_type": "code",
      "metadata": {
        "id": "wTaS7b8ahQAG",
        "colab": {
          "base_uri": "https://localhost:8080/",
          "height": 919,
          "referenced_widgets": [
            "11edde7e77f54d1d92e4b783f232534a",
            "a59a87d3c9d04259919a3ccdba432c8c",
            "046de756cbc84bc6b6bd11599e72784c",
            "8ae441ef815b4fc2ab9673506c5f86ce",
            "784f2d8b28fb4c4e816eac86088ecd3b",
            "f03bcce65eb4456b9a130988f0c0cb82",
            "ece26c727e0248339ddba7cf66cc9c73",
            "156eeaef7b814f12b313a294c090d171"
          ]
        },
        "outputId": "337ad018-6f3c-4ac2-fb0d-697372361509"
      },
      "source": [
        "dataset.map(lambda s: print(s[\"basic\"]))"
      ],
      "execution_count": 19,
      "outputs": [
        {
          "output_type": "stream",
          "text": [
            "What insight about life have you acquired, that seems obvious to you but might not be obvious to everyone else?\n"
          ],
          "name": "stdout"
        },
        {
          "output_type": "display_data",
          "data": {
            "application/vnd.jupyter.widget-view+json": {
              "model_id": "11edde7e77f54d1d92e4b783f232534a",
              "version_minor": 0,
              "version_major": 2
            },
            "text/plain": [
              "HBox(children=(FloatProgress(value=0.0, max=44.0), HTML(value='')))"
            ]
          },
          "metadata": {
            "tags": []
          }
        },
        {
          "output_type": "stream",
          "text": [
            "What insight about life have you acquired, that seems obvious to you but might not be obvious to everyone else?\n",
            "In only one sentence, how would you explain the fundamentals of your profession that would contain the most information in the fewest words possible?\n",
            "If you could have anyone (dead or alive) on your personal board of directors what 1-3 people would you choose?\n",
            "When was the last time you changed your mind about something?\n",
            "Name a writer or publication you disagree with but still read.\n",
            "What single book is the best introduction to your field (or specialization within your field) for laypeople? \n",
            "What do you look for in a very close friend?\n",
            "What have you learned about yourself in the past year?\n",
            "In what ways is your family especially odd?\n",
            "What book have you recommended the most?\n",
            "Which one of your friends do you envy the most?\n",
            "If you were braver, what would you be doing with your life?\n",
            "What’s your worst intellectual habit?\n",
            "What’s a view that you hold but can’t defend?\n",
            "Would you rather be poor but esteemed, or rich but ignored?\n",
            "When you feel upset, how - ideally - would you like to be comforted?\n",
            "What’s the first piece of media you consume every day?\n",
            "What might your friends be most surprised to learn that you'd love to try professionally?\n",
            "What unfortunate character trait can be traced back directly to something in your past?\n",
            "When might you have been able to ask for more if you hadn't lost confidence?\n",
            "What do you need to believe in order to get through the day?\n",
            "What makes a person a good traveling companion?\n",
            "Are you where you want to be at this stage of your life?\n",
            "Do you think other people regard you as a good listener?\n",
            "Which of your talents is the world in danger of overlooking?\n",
            "What did school help to kill in you?\n",
            "What inspires you to learn?\n",
            "Who is the person who has most influenced the way you think?\n",
            "What would you want to correct about your school or university education?\n",
            "When does someone become 'grown up'?\n",
            "What are your ambitions?\n",
            "If you had to save three things from your house (Other than pets or people) what would you take?\n",
            "If you had to write a book, what would it be about?\n",
            "What do other people not understand about you?\n",
            "What kind of character trait that you don't possess do you find attractive in others?\n",
            "What’s a decision that seemed small at the time, but led to a big impact in your life today?\n",
            "In your field of work how do you spot an amateur?\n",
            "Between the ages 10 and 20, what did you have as a formative intellectual experience that helped make you into who you are?\n",
            "If you were given a free decade you could take off in a parallel reality and then return to the life you had at the exact same time, what would you do with that decade?\n",
            "Let’s say a young person comes to you and says, “I want to be the next you, not exactly a duplicate of what you do but some version of what that will be 30 years from now.” what skill do you tell them to invest in?\n",
            "You are (insert skill). Are there things you think you know about (skill) that maybe other people undervalue that you could instruct us with?\n",
            "What is the most significant constraint for making (insert project) bigger and better?\n",
            "Ulysses bucket list: \"Tell me something you have done, or want to do, that you think I should do? It can be anything, as challenging as you want it to be, or as easy. As long as you give me the rest of my life to complete it, I promise I will do it.\"\n",
            "What’s your favorite quote ?\n",
            "\n"
          ],
          "name": "stdout"
        },
        {
          "output_type": "execute_result",
          "data": {
            "text/plain": [
              "Dataset({\n",
              "    features: ['basic'],\n",
              "    num_rows: 44\n",
              "})"
            ]
          },
          "metadata": {
            "tags": []
          },
          "execution_count": 19
        }
      ]
    },
    {
      "cell_type": "code",
      "metadata": {
        "id": "Bq0v45axc-hj",
        "colab": {
          "base_uri": "https://localhost:8080/",
          "height": 183,
          "referenced_widgets": [
            "4ad5840d2fee48cd804e79e580b3bdad",
            "3e08365621914523b520c0c983e316a3",
            "2a39f4a0d52746cea8eefd47b790154f",
            "1cf6a459cf3d41798c8713c27604616e",
            "30bfc49798154e89ae1b6fdb4626ec3d",
            "08d1cdefb14649c891fe6baa0364f7cd",
            "1295f04cba3f4e17a93a8262c744d62a",
            "c4bff7b66a5d4627b3c3e682f08491d1",
            "54091b99d42a4038b6edcb1c8fd8259e",
            "502a39faad0a4074a8cb7a76bb651384",
            "b17d1355297240cbb078393e12ae814e",
            "31df93a896944d92beda0adbfc4cfab5",
            "97028c4a05a549f1b08e91490d378949",
            "7888fc4097c14c5b8dbe4c5b756726ea",
            "962fa171adcf4106a4bfb76be4f6ef6c",
            "9a3108049eea429aa719f31d275117d7"
          ]
        },
        "outputId": "154565c6-5b63-49ba-ac72-4ffa313b8a6e"
      },
      "source": [
        "from transformers import DPRContextEncoder, DPRContextEncoderTokenizer\n",
        "import torch\n",
        "torch.set_grad_enabled(False)\n",
        "ctx_encoder = DPRContextEncoder.from_pretrained(\"facebook/dpr-ctx_encoder-single-nq-base\")\n",
        "ctx_tokenizer = DPRContextEncoderTokenizer.from_pretrained(\"facebook/dpr-ctx_encoder-single-nq-base\")\n",
        "dataset_with_embeddings = dataset.map(lambda s: {'embeddings': ctx_encoder(**ctx_tokenizer(s[\"basic\"], return_tensors=\"pt\"))[0][0].numpy()})\n",
        "dataset_with_embeddings.add_faiss_index(column='embeddings')"
      ],
      "execution_count": 17,
      "outputs": [
        {
          "output_type": "display_data",
          "data": {
            "application/vnd.jupyter.widget-view+json": {
              "model_id": "4ad5840d2fee48cd804e79e580b3bdad",
              "version_minor": 0,
              "version_major": 2
            },
            "text/plain": [
              "HBox(children=(FloatProgress(value=0.0, max=44.0), HTML(value='')))"
            ]
          },
          "metadata": {
            "tags": []
          }
        },
        {
          "output_type": "stream",
          "text": [
            "\n"
          ],
          "name": "stdout"
        },
        {
          "output_type": "display_data",
          "data": {
            "application/vnd.jupyter.widget-view+json": {
              "model_id": "54091b99d42a4038b6edcb1c8fd8259e",
              "version_minor": 0,
              "version_major": 2
            },
            "text/plain": [
              "HBox(children=(FloatProgress(value=0.0, max=1.0), HTML(value='')))"
            ]
          },
          "metadata": {
            "tags": []
          }
        },
        {
          "output_type": "stream",
          "text": [
            "\n"
          ],
          "name": "stdout"
        },
        {
          "output_type": "execute_result",
          "data": {
            "text/plain": [
              "Dataset({\n",
              "    features: ['basic', 'embeddings'],\n",
              "    num_rows: 44\n",
              "})"
            ]
          },
          "metadata": {
            "tags": []
          },
          "execution_count": 17
        }
      ]
    },
    {
      "cell_type": "code",
      "metadata": {
        "colab": {
          "base_uri": "https://localhost:8080/"
        },
        "id": "3xgo1z6ocli3",
        "outputId": "18f0b610-3520-43da-fde6-0e7040f27e83"
      },
      "source": [
        "quote_embedding = ctx_encoder(**ctx_tokenizer(\"What did school help to kill in you?\", return_tensors=\"pt\"))[0][0].numpy()\n",
        "dataset_with_embeddings.get_nearest_examples('embeddings', quote_embedding, k=10)"
      ],
      "execution_count": 21,
      "outputs": [
        {
          "output_type": "execute_result",
          "data": {
            "text/plain": [
              "NearestExamplesResults(scores=array([ 0.      , 37.617718, 44.557613, 45.990013, 47.45672 , 47.98828 ,\n",
              "       50.85805 , 51.04663 , 52.86026 , 53.319313], dtype=float32), examples=OrderedDict([('basic', ['What did school help to kill in you?', 'What do other people not understand about you?', 'When was the last time you changed your mind about something?', 'What would you want to correct about your school or university education?', 'What’s your worst intellectual habit?', 'What do you need to believe in order to get through the day?', 'What have you learned about yourself in the past year?', 'If you had to write a book, what would it be about?', 'Which one of your friends do you envy the most?', 'If you were braver, what would you be doing with your life?']), ('embeddings', [[0.33822259306907654, -0.06435135006904602, -0.22143903374671936, 0.4183570146560669, -0.4046576917171478, 0.07075648754835129, 0.19269335269927979, 0.07952296733856201, -0.3306245803833008, 0.10905330628156662, 0.6149481534957886, -0.07974795997142792, 0.07003726065158844, -0.11226571351289749, -0.12088847160339355, -0.1417289823293686, 0.3552634119987488, 0.4660126864910126, -0.11246643960475922, -0.275003045797348, -0.47185060381889343, -0.011696585454046726, 0.188155397772789, 0.5793011784553528, -0.006462212186306715, 0.16737161576747894, 0.2562747299671173, 0.11479054391384125, 0.20750288665294647, 0.08141254633665085, 0.1414850354194641, 0.05524406582117081, -0.2464194893836975, -0.387138307094574, -0.5123062133789062, -0.008302119560539722, -0.04642416909337044, -0.2827525734901428, 0.123879075050354, 0.022739265114068985, -0.7516934275627136, -0.2204933911561966, -0.31541210412979126, 0.4286842346191406, -0.31710925698280334, -0.3296668231487274, -1.9508963823318481, -0.13751862943172455, 0.007509784772992134, -0.12070047110319138, 0.37187349796295166, 0.2076135277748108, 0.5012078881263733, 0.30406835675239563, -0.20826606452465057, 0.14457164704799652, -0.2553526759147644, 0.44718506932258606, 0.047236498445272446, -0.21901088953018188, 0.27215760946273804, 0.15081371366977692, -0.04497974365949631, 0.22967243194580078, -0.28507357835769653, 0.20963962376117706, 0.06589359045028687, 0.05422356724739075, -0.052096374332904816, -0.2510591745376587, -0.2337971031665802, -0.35011497139930725, -0.21678778529167175, -0.0809367373585701, -0.06730981171131134, -0.07612251490354538, 0.012458615005016327, 0.03403715044260025, -0.14595721662044525, 0.3846858739852905, -0.10728074610233307, 0.051347605884075165, 0.5430946946144104, -0.20390585064888, 0.38855573534965515, -0.08709093928337097, -0.1803676337003708, 0.23671483993530273, 0.34695836901664734, -0.010757257230579853, -0.20489832758903503, -0.07447750866413116, 0.5914139151573181, 0.47376078367233276, 0.10483253002166748, 0.17113393545150757, 0.2680973708629608, -0.20175980031490326, 0.006298442371189594, 0.44792118668556213, -0.16036169230937958, -0.1098567321896553, 0.24222759902477264, 0.028241200372576714, -0.3286130726337433, -0.33054378628730774, 0.2852180302143097, -0.3766745626926422, -0.16568207740783691, -1.4849419593811035, -0.7304283976554871, 0.044563475996255875, -0.37681108713150024, 0.03705882281064987, 0.0031448681838810444, 0.13837069272994995, 0.4247622489929199, 0.4825763702392578, 0.008056486956775188, 0.1619054675102234, -0.4785498082637787, 0.7161779999732971, 0.3850696086883545, -0.28932109475135803, 0.1692502498626709, 0.3568107783794403, 0.12207978963851929, -0.23798123002052307, -0.37864241003990173, -0.07707564532756805, 0.4383378326892853, 0.416852742433548, 0.03412193804979324, -0.00041893479647114873, -0.20316419005393982, -0.25054189562797546, 0.41360095143318176, 0.1349308043718338, -0.28671059012413025, -0.19734439253807068, -0.5571671724319458, 0.04225080460309982, -1.8706188201904297, 0.06571628898382187, 0.43268680572509766, -0.6823095679283142, -0.24822360277175903, -0.06686406582593918, 0.43043434619903564, 0.13254587352275848, 0.20712842047214508, 0.2501777410507202, -0.19059044122695923, 0.05892440304160118, 0.03253420814871788, 0.014708285219967365, -0.7131557464599609, -0.40817728638648987, 0.18013833463191986, 0.20257222652435303, -0.08228369802236557, -0.14250808954238892, 0.2684766352176666, -0.160085067152977, 0.033608123660087585, -0.02034037560224533, 0.04631553217768669, -0.0016167978756129742, -0.06251668184995651, 0.04034729674458504, -0.4211861193180084, -0.02101721055805683, -0.20604068040847778, -0.49158617854118347, -0.4490691125392914, -0.2377755045890808, 0.11009405553340912, 0.06020039692521095, -0.055715031921863556, -0.0909719169139862, -0.19176054000854492, 0.06632030010223389, -0.27351638674736023, -0.343494176864624, -0.14776894450187683, 0.4923093914985657, 0.21929435431957245, 0.15614545345306396, -0.2527017295360565, 0.09060345590114594, -0.21578027307987213, -0.07600272446870804, 0.15086613595485687, -0.28770336508750916, 1.1129087209701538, -0.6798303723335266, -0.18265458941459656, 0.3438724875450134, 0.3776266574859619, 0.18767955899238586, 0.03184767812490463, -0.2427331656217575, 0.13728444278240204, -0.06770087033510208, -0.12462954968214035, 2.3339662551879883, -0.01939048245549202, 0.21113264560699463, 0.2666480243206024, 0.3054886758327484, 0.0719352439045906, -0.11018502712249756, -0.0197890717536211, 0.39007821679115295, 0.010362747125327587, 0.24862907826900482, -0.050213053822517395, 0.12239311635494232, 0.32156142592430115, -0.30007684230804443, -0.14708895981311798, -0.6195170879364014, 0.5494993329048157, -0.22711169719696045, -0.17475005984306335, 0.14663083851337433, 0.4069860875606537, 0.14980052411556244, 0.060517020523548126, -0.8020151853561401, -0.14652059972286224, 0.23377707600593567, -0.05994432419538498, 0.22210197150707245, 0.059491466730833054, -0.17649248242378235, -0.22347456216812134, -0.19142504036426544, -0.11331045627593994, -0.001979205058887601, -0.2060159295797348, -0.2089594602584839, 0.0720350593328476, 0.3020542860031128, -0.020610738545656204, 0.5747828483581543, -0.280744731426239, 0.4956851303577423, -0.3073160648345947, -0.4225103259086609, -0.10220174491405487, 0.23579537868499756, 0.020263532176613808, -0.030678007751703262, 0.15140636265277863, -0.020483974367380142, -0.11715283989906311, -0.15911835432052612, 0.06376463174819946, 0.16201770305633545, 0.19757179915905, 0.08466751128435135, 0.1639271080493927, 0.057760000228881836, 0.03662633150815964, -0.2110036015510559, -0.32364872097969055, -0.7427812814712524, 0.44497618079185486, 0.5350339412689209, 0.34596550464630127, 0.21759866178035736, 0.18626528978347778, -3.003387689590454, -0.1039900854229927, 0.1509983390569687, 0.36223167181015015, 0.31903159618377686, -0.1749754548072815, 0.17188729345798492, -0.09139932692050934, 0.47317326068878174, -0.2062448263168335, -0.06663567572832108, 0.1804800033569336, -0.40315306186676025, 0.27928972244262695, -0.12053427845239639, 0.2966829538345337, -0.1660444587469101, 0.26172640919685364, -0.028529541566967964, -0.10840762406587601, -0.17568421363830566, 0.45566388964653015, 0.07659320533275604, 0.08539289236068726, 0.1637829691171646, 0.3192143440246582, -0.07876318693161011, 0.39551129937171936, 0.37117987871170044, -0.25467249751091003, 0.3239133954048157, 0.05112827941775322, -0.1367492824792862, -0.4965739846229553, 0.03696727380156517, -5.168276309967041, -0.09524167329072952, 0.38115566968917847, 0.23792074620723724, -0.2815759778022766, -0.010699328035116196, -0.017110677435994148, -0.06070927157998085, 0.08261709660291672, -0.0018302801763638854, 0.10925772786140442, 0.21594391763210297, 0.06194539740681648, 0.19332222640514374, -0.28036072850227356, -0.1563214659690857, 0.11431602388620377, 0.196964830160141, -0.13297341763973236, 0.47678086161613464, -0.13692937791347504, 0.1623084396123886, -0.1919695883989334, 0.39090096950531006, 0.06618265807628632, 0.5175448060035706, -0.3097575902938843, 0.11264681816101074, -0.4186084270477295, 0.29110604524612427, 0.04215154051780701, 0.049740325659513474, 0.13007640838623047, -0.07785583287477493, 0.011446140706539154, 0.013865680433809757, 0.36697623133659363, 0.2828792929649353, 0.11220227181911469, 0.3517223000526428, -0.32209324836730957, 0.19204950332641602, 0.04308170825242996, 0.19435635209083557, 0.13944080471992493, 0.24086037278175354, -0.13503992557525635, -0.24624192714691162, -0.38305994868278503, 0.32548925280570984, -0.23528222739696503, 0.11183850467205048, 0.8515320420265198, 0.15313655138015747, -0.01249596569687128, 0.011006902903318405, -0.021888956427574158, -0.18002061545848846, -0.2861737906932831, 0.0018002158030867577, 0.22296683490276337, 0.44774580001831055, 0.07026617228984833, -0.4833543002605438, -0.24076318740844727, 0.052130065858364105, -0.34349825978279114, -0.17461657524108887, 0.1337215155363083, 0.5328763127326965, -0.05069596320390701, -0.04458095133304596, 0.10973035544157028, -0.9376324415206909, -0.09499222040176392, 0.5776453018188477, -0.644784152507782, 0.3315412998199463, 0.16071335971355438, -0.08278711140155792, -0.3649320602416992, -0.4767360985279083, 0.18744227290153503, 0.4618097245693207, 0.07954692095518112, -0.4201449155807495, -0.26679134368896484, -0.001662105438299477, -0.2993808388710022, 0.5861082673072815, 0.6078744530677795, -0.0936402678489685, -0.05552209913730621, 0.3037693500518799, 0.5703988671302795, 0.6067888736724854, 0.27554869651794434, -0.5434877872467041, -0.004611289128661156, -0.2795591354370117, 0.5095565319061279, 0.18436338007450104, -0.2214048057794571, 0.3062587082386017, -0.32456132769584656, -0.1509285569190979, -0.6472368836402893, 0.5953165292739868, 0.5932577252388, -0.42790576815605164, 0.12747491896152496, 0.14435143768787384, -0.5472847819328308, 0.45707207918167114, 0.7344876527786255, -0.26076582074165344, 0.3337382376194, 0.1071949452161789, 0.40394923090934753, -0.10241241008043289, -0.08085136115550995, 0.3301351070404053, -0.08594942092895508, -0.25240203738212585, 0.019195277243852615, -0.00493662292137742, -0.25806519389152527, -0.16282062232494354, 0.17416924238204956, 0.43040966987609863, 0.32639792561531067, -0.23498347401618958, 0.05556844547390938, -0.39082640409469604, -0.05185309797525406, -0.17585094273090363, -0.21761134266853333, 0.303459495306015, -0.015342497266829014, -0.4063045382499695, -0.22540757060050964, -0.21451391279697418, 0.42684856057167053, 0.3212350308895111, 0.7587938904762268, 0.004049063194543123, -0.17972828447818756, -0.4979853332042694, -0.14781899750232697, -0.38658690452575684, -0.027257949113845825, -0.0495201013982296, 0.45010170340538025, 0.3422425091266632, -0.16259551048278809, 0.08433634042739868, 0.49430373311042786, -0.13714082539081573, -0.10136900842189789, -0.08691549301147461, 0.5858511328697205, -0.6535011529922485, -1.147706151008606, 0.32164427638053894, 0.41295164823532104, -0.2262742966413498, -0.060772206634283066, -0.1558370143175125, 0.1806948184967041, 0.32123008370399475, 0.28179457783699036, -0.5603868961334229, -0.07594761252403259, 0.13295231759548187, -0.10913679748773575, -0.3543911576271057, -0.014186729677021503, -0.1858062744140625, -0.29395535588264465, -0.4967063367366791, 0.001948983990587294, -0.34880611300468445, 0.008471339009702206, 0.23672355711460114, 0.33918634057044983, -0.14348940551280975, 0.08500697463750839, -0.03537540137767792, -0.6045446395874023, -0.42215415835380554, 0.08085151761770248, 0.11743614077568054, 0.3416585922241211, 0.166334867477417, -0.24076370894908905, -0.27570292353630066, -0.2246628999710083, 0.02122773975133896, 0.07416792213916779, 0.3932614326477051, 0.35440802574157715, 0.08853701502084732, -0.2821798026561737, 0.2740482985973358, 0.2897340655326843, -0.09962307661771774, 0.33833372592926025, 0.20285363495349884, -0.21452228724956512, -0.012019011192023754, -0.13700860738754272, -0.5353271961212158, -0.39196616411209106, 0.10085694491863251, 0.11558601260185242, -0.16408590972423553, 0.06628814339637756, -0.10753349214792252, 0.1554100066423416, -0.21109047532081604, 0.015601727180182934, 0.010185224004089832, -0.33759862184524536, -0.5140964984893799, -0.14685285091400146, 0.08287524431943893, 0.3074515163898468, -0.7420369386672974, 0.02806253544986248, -0.016492530703544617, 0.01996316760778427, 0.016204191371798515, 0.24779567122459412, 0.05841553956270218, -0.14977315068244934, -0.18327505886554718, -0.05662987008690834, 0.20402947068214417, -0.02876133657991886, 0.002746359910815954, 0.2915973663330078, -0.3197508454322815, -0.048545170575380325, -0.260436087846756, 0.054718684405088425, 0.6901996731758118, 0.1716637909412384, -0.12200471758842468, -0.29282456636428833, -0.30776989459991455, 0.338011771440506, -0.22539149224758148, 0.4387335777282715, -0.31123363971710205, 0.20624500513076782, -0.06210198253393173, -0.2230750471353531, -0.1380796879529953, 0.2588787078857422, 0.18841050565242767, -0.22785988450050354, 0.1491604596376419, -0.23897819221019745, 0.28519830107688904, -0.08282344043254852, 0.07734756171703339, 0.059951089322566986, -0.1199568510055542, 0.5186378955841064, -0.5546681880950928, 0.18284697830677032, -0.030032234266400337, -0.2882952392101288, 0.5615662336349487, -0.027546877041459084, -0.36846256256103516, -0.5247253775596619, -0.15834146738052368, -0.02366654947400093, 0.0012787068262696266, 1.5518162250518799, 0.11745285242795944, 0.1244109645485878, -0.39520809054374695, -0.006417271681129932, 0.00392839265987277, 0.07809396833181381, 0.06102539598941803, 0.041660044342279434, 0.4205988645553589, -0.024696748703718185, 0.16736266016960144, 0.13454508781433105, -0.20180059969425201, 0.25187504291534424, 0.6277592182159424, -0.5596933364868164, 0.048936665058135986, 0.39275431632995605, -0.3628365099430084, -0.4450932443141937, 0.6232832074165344, 0.4409053325653076, 0.08308185636997223, 0.17539790272712708, 0.42818620800971985, 0.3818044662475586, 0.3926088511943817, 0.018266627565026283, -0.3339022099971771, 0.05413929373025894, -0.10093870759010315, -0.12468425929546356, 0.32581257820129395, -0.3422304093837738, 0.30233266949653625, 0.24817922711372375, -0.4118904769420624, -0.08563969284296036, 0.11511124670505524, 0.31967565417289734, 0.008731727488338947, 0.6509486436843872, 0.2432710826396942, -0.10652764141559601, 0.11906976252794266, -0.25596097111701965, -0.3655397891998291, 0.046270910650491714, 0.3270227015018463, 0.3222683370113373, 0.5900179743766785, 0.038773778825998306, 0.12614905834197998, 0.029011311009526253, -0.01717975363135338, 0.2476155161857605, -0.19117383658885956, 0.27088531851768494, 0.4155254065990448, 0.5931081175804138, 0.14104875922203064, 0.24138101935386658, -0.15491314232349396, 0.028458094224333763, 0.14219439029693604, 0.2852385938167572, -0.17950576543807983, 0.2158319056034088, 0.09346184134483337, 0.14058615267276764, -0.13279402256011963, -0.2322424054145813, 0.09934212267398834, -0.19503501057624817, -0.014048411510884762, 0.503207802772522, -0.2684425711631775, -0.30248501896858215, -2.4780514240264893, -0.016875779256224632, -0.2745952606201172, 0.10427231341600418, -0.055584993213415146, 0.5473603010177612, 0.5241953730583191, -0.3349612355232239, 0.3426497280597687, -0.3119146227836609, 0.021604420617222786, -0.35690411925315857, -0.15323218703269958, 0.3598528802394867, -0.1603809893131256, 0.18325096368789673, 0.15950186550617218, 0.033495016396045685, -0.014557836577296257, 0.22938545048236847, 0.03754941746592522, 0.1964755356311798, 0.012411675415933132, -0.42284974455833435, -0.26359933614730835, 0.2139672040939331, -0.12225520610809326, -0.09579680114984512, -0.03470084071159363, -0.33522626757621765, -0.16986635327339172, 0.5371109247207642, -0.24486880004405975, 0.07976113259792328, 0.07429397851228714, -0.08002858608961105, 0.05946722626686096, -0.17432472109794617, 0.3450821340084076, 0.12067630141973495, -0.15434817969799042, 0.004354478325694799, 0.11557763814926147, -0.2169681191444397, 0.23698267340660095, -0.5141709446907043, 0.5470162034034729, -0.30766552686691284, 0.10598286986351013, -0.5268943309783936, 0.19387617707252502, 0.42732805013656616, 0.004008205607533455, 0.15208564698696136, -0.3199838399887085, 0.14308512210845947, 0.5103769302368164, 0.2257615625858307, -0.2281617820262909, -0.2545357346534729, 0.3601410984992981, 0.12641841173171997, 0.10860360413789749, 0.21966642141342163, 0.10345667600631714, -0.38005515933036804, -0.06271862983703613, -0.1752348095178604, 0.12753422558307648, -0.11990244686603546, 0.14041967689990997, 0.003712128149345517, -0.06731512397527695, -0.044374264776706696, 0.0421220138669014, 0.3081466257572174, 0.32744666934013367, 0.48952367901802063, -0.34567198157310486, 0.09017284214496613, -0.3064637780189514, -0.46418264508247375, -0.356783390045166, 0.23691335320472717, 0.2789919674396515, -5.859131336212158, 0.19150203466415405, -0.041437987238168716, -0.5842851400375366, -0.017701728269457817, 0.006323190871626139, 0.08486030995845795, -0.11367640644311905, 0.19117023050785065, 0.12137220799922943, 0.09465159475803375, 0.05409577116370201, -0.23670189082622528, -0.35806363821029663, 0.15165692567825317, 0.018050916492938995], [0.5808081030845642, 0.2474236935377121, -0.5811894536018372, 0.3772542476654053, -0.018400540575385094, -0.20610590279102325, 0.3063647747039795, 0.05455461144447327, -0.44938552379608154, -0.08520388603210449, 0.3956029713153839, 0.26991498470306396, -0.08148875832557678, 0.1726372241973877, 0.0037631310988217592, 0.1153491735458374, 0.29278236627578735, 0.5675629377365112, 0.1212795227766037, -0.11256680637598038, -0.6080076098442078, 0.03423338755965233, 0.27077117562294006, 0.18514671921730042, 0.02711556851863861, 0.11352455615997314, 0.3830152153968811, 0.292182594537735, -0.168345108628273, -0.014404592104256153, -0.040355466306209564, -0.14814285933971405, -0.3253045976161957, -0.27405691146850586, -0.33229702711105347, -0.0603824220597744, 0.036514997482299805, -0.27205556631088257, -0.21626633405685425, -0.260047048330307, -0.4717258810997009, -0.039487771689891815, -0.3408134877681732, 0.6653532981872559, -0.27945855259895325, -0.3027433454990387, -1.9395309686660767, -0.17561715841293335, -0.039039548486471176, -0.14364942908287048, 0.24055789411067963, 0.4033341109752655, 0.48937925696372986, 0.5031119585037231, 0.0319928415119648, 0.21787641942501068, -0.3825174868106842, 0.43260249495506287, -0.21458552777767181, -0.1902737021446228, 0.4646114110946655, 0.35908710956573486, 0.05260062217712402, 0.14932718873023987, 0.11576195061206818, 0.4817929267883301, 0.03980795294046402, -0.03080531768500805, 0.11700978130102158, -0.006456215865910053, -0.09989320486783981, -0.4358130395412445, -0.44732457399368286, -0.03695337101817131, -0.10629770904779434, -0.21222113072872162, -0.26078447699546814, -0.22426742315292358, 0.13031306862831116, 0.1562749296426773, -0.11584144830703735, 0.14517490565776825, 0.34827443957328796, -0.5984363555908203, 0.21784888207912445, -0.4075843095779419, -0.05150410160422325, 0.48343273997306824, -0.23843269050121307, 0.09882193803787231, -0.16416460275650024, -0.07818871736526489, 0.5941581130027771, 0.496574729681015, 0.05717868357896805, 0.17022502422332764, 0.5458763241767883, -0.13959352672100067, 0.18033373355865479, 0.4481046199798584, -0.12387724965810776, -0.18795810639858246, 0.1502833366394043, -0.36180827021598816, -0.05044052004814148, -0.334735631942749, -0.21041567623615265, -0.5066730976104736, 0.09157859534025192, -0.9691088795661926, -0.5759038925170898, 0.24581247568130493, -0.15899810194969177, -0.1466873586177826, -0.238185852766037, 0.0360596589744091, 0.5231412053108215, 0.18498149514198303, 0.040284689515829086, 0.000905632390640676, 0.12075140327215195, 0.5673337578773499, 0.4038630723953247, -0.3310975730419159, 0.2391466200351715, -0.04938527196645737, 0.014154400676488876, -0.1067623421549797, -0.16667303442955017, 0.20089098811149597, 0.36768919229507446, 0.5543389916419983, -0.2484799027442932, 0.11552242934703827, -0.08032753318548203, -0.22419533133506775, 0.36977317929267883, 0.2552243173122406, 0.009106144309043884, -0.23290972411632538, -0.43547919392585754, 0.15021654963493347, -1.7698732614517212, 0.1861533373594284, 0.3410710096359253, -0.4663054943084717, -0.3632259666919708, -0.11614582687616348, 0.0884123221039772, -0.06878525018692017, -0.11858433485031128, 0.302791953086853, -0.053500883281230927, 0.2703830897808075, -0.06453940272331238, -0.27159565687179565, -0.42609238624572754, -0.30920276045799255, 0.49960923194885254, 0.12221158295869827, 0.07304619997739792, -0.29760921001434326, 0.04697893187403679, -0.08828002214431763, -0.00432623503729701, -0.2592345178127289, 0.24822445213794708, 0.37626487016677856, 0.029788969084620476, 0.13134416937828064, -0.6167280673980713, 0.07031513005495071, -0.08669089525938034, -0.27177777886390686, -0.3219892978668213, -0.09448752552270889, -0.14136669039726257, 0.13386356830596924, -0.14386439323425293, 0.11423005163669586, -0.5337095856666565, 0.14433862268924713, -0.3371966779232025, -0.27851730585098267, 0.02763824723660946, 0.49442294239997864, 0.3348212242126465, 0.17428898811340332, -0.3630603849887848, -0.15614984929561615, -0.1360580325126648, -0.249576598405838, 0.16895049810409546, 0.17368195950984955, 0.9674904346466064, -0.816342294216156, -0.16912072896957397, 0.5095652937889099, 0.010410941205918789, 0.21165671944618225, -0.14913901686668396, -0.2061372548341751, -0.29755112528800964, 0.0065519907511770725, -0.17717990279197693, 2.152026653289795, 0.1138715073466301, 0.21339328587055206, 0.2380753606557846, 0.0796520859003067, 0.22555741667747498, -0.4022862911224365, -0.10440372675657272, -0.06047118455171585, -0.39969077706336975, 0.20868749916553497, -0.10409912467002869, 0.25494664907455444, 0.173196479678154, 0.0007402365445159376, 0.34845998883247375, -0.198714017868042, 0.4052635729312897, 0.021645458415150642, -0.3222915530204773, 0.042736463248729706, 0.29917240142822266, 0.49881047010421753, -0.0483703687787056, -1.061509370803833, -0.17270536720752716, 0.15817762911319733, -0.06347031891345978, -0.2186448872089386, -0.07649131119251251, -0.2068111151456833, 0.005091241095215082, -0.1679862141609192, -0.06105649098753929, 0.2429567575454712, -0.1766713410615921, -0.01085756253451109, 0.09361309558153152, 0.5660766363143921, -0.11867117136716843, 0.14954683184623718, -0.49884724617004395, 0.3721526861190796, -0.30640900135040283, -0.02925964817404747, 0.0069533102214336395, 0.3885120451450348, 0.09059783071279526, -0.17232097685337067, 0.33962371945381165, -0.06346229463815689, -0.3118003010749817, 0.30765044689178467, 0.15418727695941925, 0.10528992116451263, -0.19950167834758759, 0.31243571639060974, -0.2961067855358124, 0.2831171452999115, -0.22877754271030426, -0.0958045944571495, -0.15808716416358948, -0.6269388794898987, 0.5396132469177246, 0.6673197746276855, 0.7698841094970703, 0.14792203903198242, -0.13487471640110016, -2.272629976272583, 0.2652254104614258, 0.21287177503108978, 0.21695548295974731, 0.31725192070007324, -0.11271790415048599, 0.24627269804477692, 0.013619571924209595, 0.5276857018470764, 0.226154163479805, 0.07755476981401443, 0.11010216176509857, -0.5018208622932434, 0.5792883038520813, -0.153798907995224, 0.010394608601927757, -0.06519890576601028, -0.009319500997662544, 0.13161981105804443, -0.0973188728094101, -0.20615489780902863, 0.6139389872550964, 0.05275414139032364, 0.18357831239700317, 0.11704147607088089, 0.15280959010124207, -0.14141330122947693, 0.2649993598461151, 0.47123876214027405, -0.18165220320224762, -0.08281303942203522, 0.18483206629753113, 0.02974119782447815, -0.45275405049324036, -0.12684966623783112, -5.635753631591797, -0.15134376287460327, -0.11924726516008377, 0.14148008823394775, -0.1706094592809677, -0.3508528172969818, 0.15728279948234558, -0.10812489688396454, -0.24211175739765167, 0.15378856658935547, -0.09332583844661713, 0.2094033658504486, -0.24483641982078552, 0.13756465911865234, -0.14003323018550873, 0.02404932677745819, 0.4811463952064514, 0.10773665457963943, -0.03160775452852249, 0.6881802082061768, -0.3006565570831299, 0.42732295393943787, 0.12119507789611816, 0.1951638013124466, 0.2903001308441162, 0.5085960626602173, -0.1945676952600479, 0.04466994106769562, -0.342290997505188, -0.021011438220739365, -0.09486455470323563, -0.24023687839508057, -0.12332893908023834, 0.035735562443733215, 0.016083532944321632, -0.2882740795612335, 0.06972289830446243, 0.13141196966171265, 0.2926197052001953, 0.34941792488098145, -0.1555258184671402, 0.47842898964881897, 0.49908143281936646, 0.37802353501319885, 0.05085068941116333, -0.09598211944103241, -0.5272093415260315, -0.2869608402252197, -0.09290289878845215, 0.3164072334766388, 0.20379284024238586, -0.27597111463546753, 1.212134838104248, 0.011142403818666935, -0.2802812457084656, -0.28359079360961914, 0.3978385627269745, -0.24459628760814667, -0.47106075286865234, 0.09500608593225479, 0.1968434900045395, 0.04754279553890228, -0.1401471346616745, -0.4362882673740387, 0.06493816524744034, -0.11360244452953339, -0.5662165284156799, -0.27676472067832947, 0.1844402402639389, 0.13108719885349274, -0.6953807473182678, 0.027824457734823227, 0.24455450475215912, -1.0712473392486572, -0.04648970067501068, 0.3345015347003937, -0.5783324241638184, 0.2827951908111572, 0.29782000184059143, -0.23732522130012512, -0.514678955078125, -0.5516307950019836, -0.23478391766548157, -0.021497882902622223, 0.13089129328727722, -0.7592230439186096, -0.01976802945137024, 0.2637682557106018, -0.2958005964756012, 0.5125894546508789, 0.9874727129936218, 0.06782526522874832, 0.1551579087972641, 0.3601774275302887, 0.473800390958786, 0.7526867389678955, 0.19029130041599274, -0.6153055429458618, -0.043260831385850906, -0.19983050227165222, 0.10199620574712753, -0.23676961660385132, -0.14753717184066772, -0.001478437683545053, -0.021262595430016518, -0.1699056774377823, -0.5987792611122131, 0.3766923248767853, 0.5003699064254761, -0.29819488525390625, 0.0787309855222702, 0.2516966462135315, -0.33609482645988464, 0.23685762286186218, 0.6600139737129211, -0.1289345920085907, 0.261514812707901, 0.35905617475509644, 0.18069705367088318, -0.18033163249492645, 0.11870298534631729, 0.40162187814712524, -0.0849844440817833, -0.21964634954929352, -0.10215482860803604, 0.06562680006027222, -0.08754178136587143, -0.3055456280708313, -0.018856266513466835, 0.5253573060035706, 0.40413805842399597, -0.08076312392950058, 0.14399240911006927, -0.4181225597858429, -0.08267860859632492, -0.09122763574123383, 0.10095462948083878, 0.14949741959571838, -0.16703660786151886, -0.593219518661499, -0.09665090590715408, 0.08022307604551315, 0.1335894763469696, 0.615857720375061, 0.2140471339225769, 0.07645370066165924, -0.1782217025756836, 0.19055944681167603, -0.2203277200460434, -0.16548480093479156, -0.27133631706237793, -0.14341488480567932, 0.3913557827472687, -0.12154246121644974, -0.21858182549476624, 0.1117050051689148, 0.38967645168304443, 0.012657572515308857, 0.07705061882734299, -0.23106957972049713, 0.21415771543979645, -0.4620819091796875, -1.1428420543670654, 0.19106796383857727, 0.835676908493042, -0.0349840484559536, 0.008654235862195492, -0.19291822612285614, -0.07536207139492035, 0.5704481601715088, 0.06232896074652672, -0.16507479548454285, -0.13830770552158356, -0.0893038809299469, 0.017027489840984344, -0.0672454982995987, -0.10964091867208481, 0.2098795771598816, 0.09093118458986282, -0.23928488790988922, 0.011354484595358372, -0.17419975996017456, -0.14620175957679749, 0.3741358518600464, 0.22780460119247437, 0.10775068402290344, 0.17484509944915771, -0.31501951813697815, -0.47867411375045776, -0.18808874487876892, 0.0669746845960617, 0.2159797102212906, 0.32666999101638794, 0.19322147965431213, -0.09899705648422241, -0.04318323731422424, 0.2008761614561081, -0.019095368683338165, -0.09841060638427734, 0.2285788208246231, 0.2823485732078552, 0.2589622437953949, -0.4517808258533478, 0.6231202483177185, 0.4219188690185547, -0.29176875948905945, 0.5411953330039978, 0.2699210047721863, -0.3569941520690918, 0.2049325406551361, -0.5680400133132935, -0.2455713301897049, -0.29019975662231445, -0.0291362926363945, -0.27265438437461853, -0.2046019434928894, 0.16145111620426178, 0.0774788111448288, -0.2433789074420929, -0.13669197261333466, 0.13740399479866028, -0.26606839895248413, -0.26482051610946655, -0.29181617498397827, -0.23522964119911194, 0.2127230167388916, 0.14657282829284668, -0.5538648962974548, 0.28639164566993713, -0.13947932422161102, -0.17386581003665924, 0.2777630090713501, 0.3838613033294678, -0.0882091298699379, -0.2257087528705597, -0.1801188886165619, -0.0262941662222147, 0.3602605164051056, -0.07250736653804779, 0.0547284372150898, 0.41429486870765686, -0.1476295292377472, -0.182071253657341, -0.14578403532505035, -0.13105499744415283, 0.18295146524906158, 0.10042032599449158, -0.4663178324699402, -0.5222729444503784, -0.42298266291618347, 0.4392946660518646, -0.22085857391357422, -0.07364267855882645, -0.3959360718727112, 0.23469403386116028, 0.07431285828351974, -0.209646537899971, 0.048390645533800125, 0.18052631616592407, 0.06755796819925308, 0.10960584878921509, 0.0021734796464443207, 0.09916242212057114, -0.08163517713546753, 0.07791312038898468, 0.019237330183386803, -0.02026696689426899, -0.10987868160009384, 0.4083465337753296, -0.18000830709934235, -0.24591967463493347, -0.06357099115848541, -0.06450092047452927, 0.36371222138404846, -0.24646532535552979, -0.1830185502767563, -0.46050381660461426, -0.0619298480451107, 0.1523643583059311, 0.15455079078674316, 1.396462082862854, 0.23829655349254608, 0.04544973745942116, -0.608173131942749, 0.04008650407195091, 0.4354274272918701, 0.17406266927719116, 0.10484343767166138, 0.01428613718599081, 0.2853905260562897, -0.33506035804748535, 0.1488780975341797, 0.2400994449853897, 0.004716076422482729, 0.47619062662124634, 0.5193323493003845, 0.18209563195705414, -0.10008898377418518, 0.28029555082321167, -0.45260220766067505, -0.44629764556884766, 0.5742020010948181, 0.6646866798400879, -0.1062752977013588, 0.3626721203327179, 0.24511931836605072, 0.1142771989107132, 0.2167288213968277, 0.028666993603110313, -0.09647787362337112, -0.2393856793642044, 0.04632297158241272, 0.1761643886566162, 0.6279424428939819, -0.16939488053321838, 0.2754553258419037, 0.3819478452205658, -0.5615911483764648, -0.08170991390943527, 0.20968200266361237, -0.005805704742670059, -0.4569615125656128, 0.6615084409713745, 0.10227860510349274, -0.08248480409383774, 0.2481737583875656, -0.1884649395942688, -0.35973817110061646, -0.12572717666625977, 0.12900565564632416, 0.3407822251319885, 0.8576229810714722, -0.05676854029297829, -0.16068971157073975, 0.273851603269577, -0.13397863507270813, 0.45340603590011597, -0.18463370203971863, 0.37004077434539795, 0.09560821950435638, 0.175678551197052, -0.07004876434803009, 0.3279479146003723, -0.2675386965274811, -0.17981179058551788, 0.5668260455131531, 0.1593615859746933, 0.10057679563760757, -0.049499671906232834, -0.14232003688812256, 0.2000899612903595, 0.12973660230636597, -0.12657831609249115, -0.1714988499879837, -0.20021562278270721, -0.16539700329303741, 0.30824005603790283, -0.29126185178756714, -0.3591495752334595, -1.6765680313110352, -0.032980091869831085, -0.10146892815828323, -0.12945681810379028, 0.17923977971076965, 0.4489622116088867, 0.43936896324157715, -0.031821250915527344, 0.24592286348342896, 0.09814087301492691, 0.03136494755744934, -0.6188302040100098, 0.20034228265285492, -0.06873848289251328, 0.1893790066242218, 0.20166848599910736, -0.19596552848815918, -0.33080118894577026, -0.08262284100055695, -0.1813846230506897, 0.0593373067677021, 0.0666348859667778, 0.27726104855537415, -0.50398188829422, -0.24313224852085114, 0.0031065780203789473, 0.049071356654167175, -0.28400254249572754, -0.021755624562501907, -0.3662722706794739, -0.17124085128307343, 0.3061068654060364, -0.39970991015434265, -0.3118545114994049, 0.21954050660133362, -0.04056062921881676, -0.14680570363998413, -0.44792497158050537, 0.4770296812057495, 0.0908542275428772, -0.22622798383235931, 0.071909099817276, 0.14763398468494415, 0.12017253041267395, 0.5107946395874023, -0.6262174248695374, 0.4390571117401123, -0.4274682402610779, -0.13385872542858124, -0.8725995421409607, -0.2800968289375305, 0.28593823313713074, -0.03783159703016281, 0.3560640513896942, -0.13039173185825348, 0.16998881101608276, 0.5222334265708923, 0.4362280070781708, 0.14369750022888184, 0.06765266507863998, 0.2625333070755005, -0.041636548936367035, -0.32028570771217346, 0.181603342294693, 0.15745171904563904, -0.11280087381601334, 0.04916049912571907, 0.005767567548900843, 0.05894235521554947, -0.517229437828064, 0.09370428323745728, -0.08599913120269775, -0.25393086671829224, -0.25284576416015625, 0.31942370533943176, 0.32951509952545166, -0.05223797634243965, 0.48337024450302124, 0.017532791942358017, 0.2989896833896637, -0.4608863294124603, -0.06405022740364075, -0.16788922250270844, 0.2657746970653534, 0.31300511956214905, -4.743006229400635, 0.3259141743183136, -0.27867591381073, -0.43736305832862854, -0.3048883080482483, 0.22257733345031738, -0.055609364062547684, -0.35411617159843445, 0.15543608367443085, -0.2766155004501343, -0.09500608593225479, 0.4247715473175049, 0.19799821078777313, -0.21916911005973816, 0.049864187836647034, 0.0734872967004776], [0.5307411551475525, 0.1577949970960617, -0.09932510554790497, -0.05792888626456261, -0.04586317390203476, -0.08612244576215744, 0.1390453726053238, 0.30862534046173096, -0.5221816897392273, 0.14721433818340302, 0.5816322565078735, -0.05829117074608803, -0.05220805108547211, 0.03787670284509659, 0.08208835124969482, 0.3828488290309906, 0.16396310925483704, 0.16541658341884613, -0.0717976987361908, -0.23928608000278473, -0.017407307401299477, 0.03277524188160896, 0.16255316138267517, 0.07248895615339279, 0.13425324857234955, -0.15992555022239685, -0.007048613857477903, 0.10307077318429947, -0.025570891797542572, 0.1411428153514862, -0.0022285974118858576, -0.036134637892246246, -0.008952716365456581, 0.08665242046117783, -0.27156588435173035, 0.2998506426811218, -0.23404622077941895, -0.2796437740325928, -0.14192846417427063, -0.22530873119831085, -0.8763948678970337, -0.12104769796133041, -0.26172569394111633, 0.15630532801151276, 0.1280500441789627, -0.07010351121425629, -1.6681171655654907, -0.30699992179870605, 0.016603833064436913, -0.24040241539478302, 0.16731952130794525, 0.3898632526397705, 0.42153090238571167, 0.09985409677028656, -0.06728465855121613, 0.19334377348423004, 0.028027378022670746, 0.20159617066383362, -0.2266400307416916, 0.029378214851021767, 0.4239689111709595, 0.07941068708896637, -0.18338003754615784, 0.21465948224067688, -0.023546909913420677, 0.05551736801862717, -0.03537005931138992, 0.1850743591785431, 0.37512704730033875, 0.3339313864707947, -0.2207215577363968, -0.17716392874717712, -0.028014345094561577, -0.2033834457397461, 0.013567440211772919, 0.24374642968177795, 0.07504119724035263, 0.06477812677621841, -0.0481974221765995, 0.22983509302139282, -0.17474202811717987, 0.18300530314445496, 0.229051411151886, -0.20565670728683472, 0.16140270233154297, -0.15669220685958862, -0.31527647376060486, 0.07006832957267761, 0.1957486867904663, 0.0692766010761261, -0.3612537980079651, -0.028494942933321, 0.5747438669204712, 0.44978052377700806, -0.07406206429004669, -0.1648496687412262, -0.11569610983133316, 0.013437241315841675, 0.09328199923038483, 0.18188299238681793, 0.07816478610038757, -0.13524945080280304, 0.2916468381881714, -0.02198365330696106, -0.0896657332777977, -0.45229554176330566, -0.185794860124588, -0.3086738884449005, 0.16703206300735474, -2.0969395637512207, -0.4827866852283478, 0.2935839295387268, 0.0540151372551918, -0.07782492786645889, -0.09397874772548676, 0.32632359862327576, 0.6076021194458008, 0.3253922164440155, 0.18759337067604065, 0.05515063926577568, -0.5097011923789978, 0.37185394763946533, 0.20998403429985046, -0.46018409729003906, -0.05476488545536995, 0.08658268302679062, 0.254891574382782, -0.3494371473789215, -0.21908101439476013, -0.3616081774234772, 0.27544689178466797, 0.2618243098258972, -0.1484753042459488, 0.03952712193131447, -0.1386876106262207, 0.2739803194999695, 0.2956271171569824, 0.16332116723060608, 0.3125927746295929, -0.093584343791008, -0.20906947553157806, -0.10228578001260757, -2.452059030532837, 0.21762992441654205, 0.15697690844535828, -0.26403379440307617, -0.006485354155302048, -0.09236010909080505, 0.2845642864704132, 0.0678422674536705, 0.046543847769498825, 0.065061055123806, -0.22904996573925018, 0.3585968017578125, 0.18590562045574188, 0.0070201326161623, -0.6727056503295898, -0.5369791388511658, 0.3589589595794678, 0.003996025305241346, 0.1630922108888626, -0.3788696527481079, 0.15826573967933655, -0.17233765125274658, 0.5008168816566467, -0.18268486857414246, 0.13703428208827972, -0.13368985056877136, 0.25394850969314575, 0.32298222184181213, -0.39176586270332336, 0.2400161176919937, -0.08759944885969162, -0.31355521082878113, -0.1573781669139862, 0.16738185286521912, 0.3056527376174927, 0.24872185289859772, -0.02470768615603447, 0.31359148025512695, -0.27005764842033386, -0.03872821107506752, -0.3037531077861786, 0.004304479341953993, -0.18334795534610748, 0.640687882900238, 0.36066484451293945, -0.05118696391582489, 0.018812522292137146, 0.17979417741298676, 0.10662250965833664, 0.13401232659816742, 0.22727297246456146, -0.1380758136510849, 0.7657539248466492, -0.5944725871086121, -0.3272230923175812, 0.31501081585884094, 0.16714204847812653, 0.40023910999298096, 0.04055118188261986, 0.05991694703698158, 0.2704560458660126, -0.08448522537946701, -0.09119633585214615, 2.8765692710876465, 0.018494756892323494, -0.06963489204645157, 0.16283456981182098, 0.5616583824157715, -0.14405877888202667, 0.0027805594727396965, -0.04993874207139015, 0.29892346262931824, -0.15300041437149048, 0.20529882609844208, -0.2918950021266937, 0.19806160032749176, -0.04816124588251114, -0.23514017462730408, 0.32585379481315613, 0.056081969290971756, 0.3155151903629303, 0.25376349687576294, -0.12009143829345703, -0.021977009251713753, 0.04485389217734337, 0.46533098816871643, 0.034429751336574554, -1.345167636871338, 0.07153341919183731, 0.27267810702323914, -0.2487313151359558, 0.2427263855934143, -0.00648844987154007, -0.14694485068321228, -0.16016817092895508, 0.0344795398414135, -0.07979439198970795, 0.04485556110739708, 0.01963190920650959, 0.32728806138038635, 0.2025921642780304, 0.5297701358795166, -0.40447455644607544, 0.46555304527282715, -0.1662175953388214, 0.3764910399913788, -0.316616028547287, 0.0678611695766449, 0.0502532534301281, 0.15938715636730194, 0.2346351146697998, 0.03889548033475876, -0.13451343774795532, 0.09001047909259796, -0.12367116659879684, 0.1559424251317978, 0.03827393800020218, -0.20799921452999115, -0.001498290803283453, 0.04722483456134796, 0.10122180730104446, 0.03388334438204765, 0.04097692668437958, 0.15079152584075928, -0.15777093172073364, -0.43220648169517517, 0.14755235612392426, 0.1388702690601349, 0.09109243750572205, 0.23699906468391418, -0.05917210131883621, -3.625917434692383, 0.10508343577384949, -0.06341073662042618, 0.23778915405273438, 0.27639132738113403, -0.1837908923625946, 0.48551324009895325, 0.14713355898857117, 0.4946199655532837, -0.11993657052516937, -0.2612668573856354, -0.3026560842990875, -0.5461694598197937, 0.13098815083503723, 0.1633433997631073, 0.23923832178115845, -0.20552299916744232, 0.3883949816226959, -0.339327335357666, -0.13539735972881317, 0.022318510338664055, 0.4774189591407776, -0.0027676960453391075, 0.1692783087491989, 0.0050619225949049, 0.24512416124343872, -0.04276173189282417, 0.3623913526535034, 0.0743619054555893, -0.2749936282634735, 0.04310614988207817, -0.1471131145954132, -0.12084895372390747, -0.5678887367248535, -0.16004489362239838, -4.328042507171631, -0.2170926183462143, 0.06671979278326035, -0.18207958340644836, -0.17797090113162994, -0.09581296145915985, 0.17291586101055145, -0.03546858951449394, -0.06050196290016174, 0.4055875539779663, 0.24761122465133667, 0.08705778419971466, -0.16139079630374908, 0.44656893610954285, -0.013473517261445522, 0.24414561688899994, 0.5133020281791687, 0.08160742372274399, -0.18363097310066223, 0.2950615882873535, 0.00012539055023808032, 0.3708566725254059, -0.1912371665239334, 0.2798294425010681, 0.08775792270898819, 0.5553227066993713, -0.25348690152168274, 0.4421497583389282, -0.1763789802789688, 0.13876460492610931, -0.08451270312070847, 0.03161606192588806, 0.05517811328172684, 0.22749635577201843, 0.07617689669132233, 0.06281539797782898, 0.2549678683280945, 0.26127001643180847, 0.07199462503194809, 0.5254747867584229, 0.13561555743217468, 0.5982169508934021, 0.11286857724189758, 0.20227210223674774, 0.2027427703142166, 0.18390586972236633, -0.2779112160205841, -0.2916504144668579, -0.3548241853713989, 0.20426124334335327, 0.15372507274150848, -0.1719588190317154, 1.3402985334396362, 0.07810551673173904, 0.041722625494003296, 0.1003207191824913, 0.511685311794281, -0.2439170479774475, -0.03997141495347023, 0.08257276564836502, 0.14198002219200134, -0.15358886122703552, 0.41012001037597656, -0.7344793677330017, 0.2733455002307892, -0.0013303287560120225, -0.4795682728290558, 0.04168791323900223, 0.4641464948654175, 0.48530176281929016, -0.26632893085479736, 0.0398312583565712, 0.21772156655788422, -0.8882360458374023, 0.005358165130019188, 0.13368254899978638, -0.008443089202046394, 0.32736897468566895, -0.033476125448942184, -0.006922793574631214, -0.38728880882263184, 0.06647835671901703, -0.4660758376121521, 0.253366082906723, 0.08949748426675797, -0.31514546275138855, 0.18809756636619568, 0.015974586829543114, -0.4587566554546356, 0.43338337540626526, 0.3285831809043884, 0.1307305246591568, -0.05577472597360611, 0.1514863222837448, 0.309726357460022, 0.5479598045349121, -0.027344370260834694, -0.8912890553474426, 0.003628305858001113, -0.1963067650794983, 0.20922482013702393, -0.11537269502878189, -0.30203720927238464, -0.0017199133289977908, -0.46042704582214355, -0.11718019843101501, -0.4866022765636444, 0.2664119303226471, 0.22330337762832642, -0.10866725444793701, -0.25695568323135376, 0.3795211613178253, -0.36103296279907227, -0.1466473489999771, 0.5744692087173462, -0.1584549993276596, -0.15485014021396637, 0.2627531886100769, 0.10019809007644653, -0.1570107340812683, 0.07186966389417648, 0.17116795480251312, -0.39325854182243347, -0.04565094783902168, -0.06942907720804214, -0.15590356290340424, -0.2558871805667877, -0.5574759244918823, 0.19644352793693542, 0.4312596619129181, 0.3355826437473297, 0.041096705943346024, 0.016341866925358772, -0.13446806371212006, -0.10358653962612152, -0.15445512533187866, 0.027947530150413513, 0.20337048172950745, -0.6518224477767944, -0.458313912153244, -0.24147576093673706, -0.027312615886330605, 0.20437879860401154, 0.006381260696798563, -0.04076432064175606, 0.13255293667316437, -0.2170482873916626, -0.24466852843761444, 0.03459296002984047, 0.24215500056743622, -0.3385068476200104, -0.2686132788658142, 0.04834133759140968, 0.09842946380376816, -0.07444461435079575, 0.3191779553890228, 0.4068651497364044, -0.144913911819458, 0.17219196259975433, 0.1349446326494217, 0.06991983950138092, -0.4761047959327698, -1.255171537399292, 0.3199605643749237, 0.2903503179550171, -0.08155778050422668, -0.13306304812431335, 0.004536284599453211, 0.14700648188591003, 0.6289525032043457, -0.014528453350067139, -0.13912449777126312, -0.08685365319252014, -0.2189052551984787, 0.23915815353393555, -0.06717850267887115, 0.08089862763881683, -0.263943076133728, 0.3516584634780884, -0.4461767375469208, 0.09061295539140701, -0.13288173079490662, -0.001457715523429215, 0.4106248915195465, 0.1733277440071106, -0.34130772948265076, 0.15618988871574402, -0.06500814110040665, -0.30337533354759216, -0.226159006357193, 0.03856560215353966, -0.010429800488054752, 0.45130616426467896, -0.24359732866287231, -0.2647380530834198, -0.2100093811750412, -0.1979258805513382, -0.1302415132522583, -0.29844343662261963, 0.18597538769245148, 0.3920367956161499, 0.19005581736564636, -0.1309126317501068, 0.2646142542362213, 0.374496191740036, -0.18306872248649597, 0.39656826853752136, -0.08923447132110596, -0.34313729405403137, 0.21913482248783112, 0.013950977474451065, -0.2597404718399048, -0.3636692464351654, 0.021241333335638046, 0.2568703889846802, -0.09274996817111969, 0.0020934755448251963, 0.06182021647691727, -0.09537447243928909, -0.18488335609436035, 0.056469615548849106, 0.03724340349435806, -0.023129897192120552, -0.2387816309928894, -0.11874660849571228, 0.015059147030115128, 0.3423517644405365, -0.44370803236961365, 0.02317424677312374, -0.003570638131350279, -0.050897687673568726, -0.11799275875091553, 0.23547661304473877, -0.10617818683385849, 0.06212403625249863, -0.24122272431850433, 0.013979638926684856, 0.07912389189004898, -0.29486170411109924, 0.35681313276290894, 0.1775699406862259, 0.09767944365739822, 0.2936117351055145, -0.5464403629302979, -0.2090887427330017, -0.101974718272686, 0.21455886960029602, -0.24367724359035492, -0.08028801530599594, -0.0675458312034607, 0.33266741037368774, -0.11451432853937149, 0.015591426752507687, -0.1453009992837906, 0.11323803663253784, -0.21899768710136414, -0.2282419353723526, 0.025789236649870872, -0.045885100960731506, 0.19710296392440796, 0.06767472624778748, 0.30219385027885437, -0.18585041165351868, 0.10632060468196869, 0.05620260536670685, -0.07995431870222092, 0.25020602345466614, 0.16700930893421173, 0.5669469833374023, -0.33118936419487, -0.03332178667187691, -0.23498205840587616, -0.053239915519952774, 0.258573979139328, -0.15857894718647003, -0.33154305815696716, -0.4996405243873596, -0.3353780508041382, 0.5096929669380188, 0.1721615493297577, 1.8727471828460693, -0.07639815658330917, 0.0430617481470108, -0.032317303121089935, 0.01841902546584606, -0.41557249426841736, 0.20007450878620148, -0.034642890095710754, -0.41251838207244873, 0.09683815389871597, -0.27120524644851685, 0.3577684462070465, 0.0825549066066742, -0.06201087310910225, 0.2897200286388397, 0.6297339797019958, -0.11755185574293137, 0.2780090570449829, -0.10012762993574142, -0.3582439124584198, -0.5343498587608337, 0.34907424449920654, 0.5827316045761108, 0.24960874021053314, 0.13144949078559875, 0.030320357531309128, 0.1841321885585785, -0.04121696203947067, -0.09210201352834702, -0.40929654240608215, 0.3751060664653778, 0.0934293195605278, 0.08016709983348846, 0.3378883898258209, -0.1359861195087433, -0.04019777104258537, 0.3331858813762665, -0.2034125179052353, -0.1890389323234558, 0.22251589596271515, 0.07258469611406326, -0.23979252576828003, 0.44885846972465515, 0.0342697910964489, 0.13810618221759796, 0.16322997212409973, 0.06176050752401352, -0.19889162480831146, 0.08069925010204315, 0.30471715331077576, 0.09772840142250061, 0.44212567806243896, 0.09590066969394684, -0.15480388700962067, -0.11483815312385559, 0.019449694082140923, 0.26686957478523254, -0.391695111989975, -0.12067082524299622, 0.5518625974655151, 0.455466091632843, 0.11685966700315475, 0.0038645747117698193, -0.00011905083374585956, -0.23514455556869507, 0.4715827703475952, 0.26306915283203125, -0.5286319851875305, 0.3023689389228821, -0.15643566846847534, 0.3640859127044678, 0.22049114108085632, -0.12510335445404053, -0.10187187045812607, -0.40763646364212036, -0.1796228438615799, 0.4016856849193573, -0.2645722031593323, -0.09584637731313705, -2.7844951152801514, -0.1909523606300354, -0.057315923273563385, -0.07225660234689713, -0.17648647725582123, 0.3712746798992157, 0.3678414225578308, -0.0479881726205349, 0.32613053917884827, -0.02788759395480156, 0.416746586561203, -0.3700658082962036, 0.49282512068748474, -0.031085217371582985, -0.23369905352592468, -0.0702553316950798, -0.29289597272872925, -0.0026666552294045687, -0.16222400963306427, 0.03371253237128258, 0.49951010942459106, -0.01895039714872837, 0.034105174243450165, -0.26631277799606323, -0.37091121077537537, -0.057935722172260284, 0.0017608491471037269, -0.031237676739692688, 0.16204343736171722, -0.07950884103775024, -0.22738017141819, 0.24522456526756287, -0.4214327931404114, -0.11180951446294785, 0.0248583871871233, -0.03389366343617439, -0.2362673282623291, -0.23473915457725525, 0.30302250385284424, 0.2732190787792206, -0.041907183825969696, 0.11579058319330215, 0.14912977814674377, 0.127793088555336, 0.36269646883010864, -0.38688692450523376, 0.6409623622894287, -0.287105530500412, -0.14281168580055237, -0.5096839666366577, 0.20502571761608124, 0.16477128863334656, -0.13388915359973907, 0.05128460377454758, -0.17129197716712952, -0.06928427517414093, -0.045272890478372574, 0.2403920590877533, -0.46786871552467346, -0.10656671971082687, 0.057196397334337234, 0.2523220479488373, 0.08952026814222336, 0.20007097721099854, -0.09554886817932129, -0.291348934173584, -0.024427730590105057, 0.09582417458295822, 0.10168924927711487, -0.07748553901910782, 0.16154469549655914, -0.07907029241323471, -0.1998233050107956, -0.11509773135185242, -0.07207369804382324, 0.2735121250152588, 0.2655203938484192, 0.5427913665771484, -0.11498452723026276, 0.20738552510738373, 0.015890680253505707, 0.12661035358905792, -0.061444081366062164, 0.04548562318086624, -0.023734698072075844, -7.424933910369873, 0.15620015561580658, 0.17765666544437408, -0.2584953308105469, -0.255215048789978, -0.08929776400327682, 0.1033545583486557, -0.2696928381919861, 0.25286543369293213, -0.27615484595298767, 0.252090185880661, -0.15524284541606903, -0.1411903202533722, -0.3885238468647003, -0.133362278342247, -0.16816632449626923], [0.5785609483718872, 0.3148075342178345, -0.2575024366378784, 0.279490202665329, -0.019852548837661743, -0.3308331370353699, -0.036075152456760406, 0.2398877888917923, -0.11440739780664444, -0.08223330229520798, 0.34505999088287354, 0.25399094820022583, 0.19313429296016693, 0.17531728744506836, 0.0468454547226429, 0.017166417092084885, 0.20963571965694427, 0.5557012557983398, 0.04772072657942772, -0.2759910821914673, -0.5366681814193726, 0.05120223015546799, 0.17980451881885529, -0.007010403089225292, 0.22470346093177795, -0.1497248262166977, 0.6360471844673157, 0.26950764656066895, -0.3748750686645508, 0.28806543350219727, 0.17558284103870392, 0.12688693404197693, 0.05898718908429146, -0.16622145473957062, -0.2812778651714325, -0.13502278923988342, 0.24828162789344788, 0.14584048092365265, 0.046194951981306076, -0.21270865201950073, -0.4393545985221863, 0.07736716419458389, 0.20441816747188568, 0.28912943601608276, -0.28939688205718994, -0.2634519040584564, -1.9722700119018555, -0.13305065035820007, 0.008705602027475834, -0.04355696961283684, 0.19954515993595123, 0.2885684669017792, 0.3611646890640259, 0.34419411420822144, -0.07785003632307053, 0.15315240621566772, -0.3069749176502228, 0.12640823423862457, -0.24287593364715576, 0.0021689448039978743, 0.3406521677970886, 0.39486533403396606, -0.2312467396259308, 0.27300307154655457, 0.17496274411678314, 0.4359855055809021, -0.18517307937145233, 0.02368851937353611, -0.5395037531852722, 0.39731907844543457, 0.17802317440509796, -0.3989611566066742, -0.20760779082775116, -0.0990220382809639, -0.12852750718593597, -0.15480536222457886, 0.14006279408931732, -0.04044171795248985, -0.016290731728076935, -0.4483833909034729, -0.1773366630077362, -0.01243080198764801, 0.25565600395202637, -0.465427428483963, 0.11883972585201263, -0.1808834969997406, -0.1822522133588791, 0.16988693177700043, 0.328436017036438, 0.22691801190376282, -0.08731760829687119, -0.0050208913162350655, 0.22692561149597168, 0.38346320390701294, 0.07579471915960312, -0.05894679203629494, 0.36426210403442383, -0.2228970229625702, 0.029766499996185303, 0.154277503490448, -0.1787322610616684, -0.3261195719242096, 0.2968071699142456, -0.3464083969593048, -0.21228553354740143, -0.2370438426733017, 0.16833901405334473, -0.2806567847728729, 0.05153219774365425, -1.4433157444000244, -0.5148242712020874, 0.724331259727478, -0.05261484906077385, -0.036289431154727936, -0.17663957178592682, 0.12015923112630844, 0.5047543048858643, 0.12274371832609177, -0.0817706510424614, -0.0803857147693634, -0.4455159902572632, 0.6741006374359131, 0.22314535081386566, -0.40246379375457764, 0.2504982054233551, 0.19440102577209473, 0.28905969858169556, 0.09488844871520996, -0.39963003993034363, 0.05472472682595253, 0.4099225103855133, 0.4591849446296692, -0.15585993230342865, 0.00542288227006793, -0.08024358004331589, -0.18014459311962128, 0.22950699925422668, -0.08689311146736145, 0.28574487566947937, -0.23424535989761353, -0.24534229934215546, 0.17174404859542847, -2.14021897315979, 0.08874409645795822, 0.2507680356502533, -0.5125720500946045, -0.03474424034357071, 0.03196284919977188, 0.03650850057601929, -0.05835305154323578, -0.06986197084188461, 0.45302218198776245, -0.39086422324180603, 0.3570324182510376, -0.018609410151839256, -0.23224426805973053, -0.19282588362693787, -0.2979031801223755, 0.06055421009659767, 0.0647042989730835, 0.22969192266464233, -0.22584623098373413, 0.060947444289922714, -0.26767703890800476, 0.19601629674434662, -0.22072990238666534, 0.19751644134521484, 0.1564658135175705, 0.06397883594036102, 0.5224807262420654, -0.36919546127319336, 0.048092104494571686, 0.042347196489572525, -0.6107541918754578, -0.06037842109799385, 0.016840744763612747, -0.11650292575359344, 0.1540330946445465, 0.14663362503051758, 0.009433823637664318, -0.49146339297294617, 0.040436115115880966, -0.16562621295452118, -0.010045774281024933, 0.15059833228588104, 0.23674376308918, 0.38822856545448303, 0.29516398906707764, -0.03159826621413231, -0.11234725266695023, -0.12924888730049133, -0.47977104783058167, 0.4415411949157715, -0.1278616338968277, 1.0097424983978271, -0.3191361725330353, 0.10300125181674957, 0.40664801001548767, -0.10846231877803802, 0.5087236762046814, 0.031152306124567986, 0.3108465075492859, -0.19682474434375763, -0.1749509572982788, -0.39941564202308655, 2.5519702434539795, -0.16733112931251526, 0.13795220851898193, 0.022753089666366577, 0.2974444627761841, 0.1020347848534584, -0.34834787249565125, -0.19095945358276367, -0.30784353613853455, -0.4439251720905304, 0.4143815040588379, -0.07982023060321808, 0.2380782961845398, 0.07637444883584976, -0.07831420004367828, 0.17149510979652405, -0.0787324458360672, 0.6443976163864136, 0.2022676020860672, -0.2662292420864105, -0.12988229095935822, 0.012905963696539402, 0.5760864615440369, -0.025614431127905846, -1.140799880027771, -0.18910488486289978, 0.10720361769199371, 0.20002968609333038, -0.05755067616701126, 0.3102964460849762, -0.11128553003072739, -0.2886798083782196, -0.015277380123734474, 0.18703776597976685, 0.29678666591644287, -0.034573595970869064, 0.061071038246154785, -0.22134079039096832, 0.6491259336471558, -0.1366809755563736, 0.046931542456150055, -0.5398932695388794, 0.3158828914165497, 0.009329600259661674, 0.07845030725002289, 0.06098582223057747, 0.14412851631641388, 0.06784430891275406, -0.026680786162614822, 0.2251957803964615, 0.4265423119068146, -0.20817436277866364, 0.5510974526405334, -0.045271046459674835, -0.15715579688549042, -0.26550838351249695, 0.24664972722530365, -0.4665958881378174, 0.13838091492652893, -0.15394940972328186, -0.1556866616010666, -0.1439443677663803, -0.906684160232544, 0.2517596483230591, 0.6158941388130188, 0.29819679260253906, 0.2446628361940384, -0.29895955324172974, -2.8356010913848877, 0.09884606301784515, 0.12645478546619415, 0.21028751134872437, 0.3395193815231323, -0.4611438512802124, 0.2421467900276184, -0.010752921923995018, 0.21959368884563446, 0.05084601789712906, 0.03044852800667286, -0.014057373628020287, -0.3598206341266632, 0.618766725063324, -0.08306165784597397, 0.02417958900332451, 0.03422747552394867, -0.10376305878162384, 0.1578882783651352, -0.2793344259262085, -0.42280760407447815, 0.6255277991294861, 0.1461668461561203, 0.06293515115976334, -0.25444528460502625, -0.010569850914180279, -0.46521300077438354, 0.16568832099437714, 0.6156082153320312, -0.2532525360584259, 0.006355476099997759, 0.32807043194770813, 0.149372398853302, -0.6461771130561829, -0.12376783043146133, -5.30556058883667, 0.014920894987881184, -0.2629370093345642, 0.100638248026371, -0.1399763971567154, -0.1561092585325241, 0.12821123003959656, -0.06224624067544937, -0.25280246138572693, -0.13498136401176453, 0.19935014843940735, 0.26917922496795654, -0.1516987830400467, 0.4638076424598694, 0.3575024902820587, -0.013411839492619038, 0.31269967555999756, 0.13486847281455994, 0.15396058559417725, 0.7319799065589905, 0.050463974475860596, 0.39383450150489807, -0.0019292784854769707, 0.15322153270244598, 0.1928592473268509, 0.6876101493835449, -0.2543279528617859, 0.03975759819149971, -0.29612621665000916, -0.32449379563331604, 0.19234693050384521, -0.08613918721675873, -0.11662516742944717, 0.22826075553894043, -0.26438140869140625, -0.17593331634998322, 0.18223895132541656, 0.3019809424877167, 0.12764155864715576, 0.4138808250427246, -0.18278446793556213, 0.31298351287841797, 0.29021093249320984, 0.44922879338264465, 0.07172010838985443, 0.15022453665733337, -0.2683789134025574, -0.17757964134216309, -0.24057404696941376, 0.1783755123615265, -0.3095400631427765, 0.10065826028585434, 1.2040369510650635, 0.28112712502479553, -0.2861873209476471, -0.028634654358029366, 0.3495866656303406, -0.05900700017809868, -0.14981628954410553, -0.07790441811084747, 0.2014876753091812, -0.2784026861190796, 0.08858156204223633, -0.6745593547821045, -0.4076422452926636, -0.1667128950357437, -0.5430591106414795, -0.18091276288032532, 0.12519292533397675, 0.06341327726840973, -0.4251212775707245, 0.13854962587356567, 0.08713141083717346, -0.7302193641662598, 0.011097976006567478, 0.066465824842453, -0.3946041166782379, 0.21224460005760193, 0.09204479306936264, -0.1571807712316513, -0.33980727195739746, -0.3143748342990875, -0.24330511689186096, 0.4028675854206085, -0.23487013578414917, -0.6145169138908386, -0.16433820128440857, 0.23287433385849, -0.19759207963943481, 0.09590252488851547, 0.6299129128456116, 0.09050536155700684, 0.08899978548288345, 0.42231518030166626, 0.5724518299102783, 0.5416797399520874, 0.1949159950017929, -0.7254777550697327, 0.13691678643226624, -0.2791239619255066, 0.24920609593391418, -0.05621446669101715, -0.2695437967777252, -0.02077283151447773, -0.19205376505851746, -0.11439166963100433, -0.31875643134117126, 0.22187285125255585, 0.3725486099720001, -0.2826279401779175, 0.17072786390781403, 0.0443536713719368, -0.4408564865589142, 0.2479385882616043, 0.5049128532409668, -0.14657364785671234, 0.03134895861148834, -0.1336161494255066, 0.08145251125097275, 0.20205162465572357, 0.21397505700588226, 0.3186781108379364, -0.32697466015815735, -0.29919639229774475, -0.23096014559268951, -0.14704813063144684, -0.15051454305648804, -0.027209537103772163, -0.20393744111061096, 0.3318619728088379, 0.2692878544330597, -0.13658356666564941, 0.05851529911160469, -0.3548470735549927, -0.015689555555582047, -0.1939419060945511, 0.0547822043299675, 0.01866556890308857, -0.3120667636394501, -0.3250698149204254, 0.009769687429070473, -0.147829070687294, 0.18773478269577026, 0.6308939456939697, 0.3511500358581543, 0.06279847770929337, -0.4074563980102539, 0.12361340969800949, -0.14702947437763214, -0.25083106756210327, -0.20281362533569336, -0.1298423558473587, 0.034170594066381454, -0.20890870690345764, -0.054731693118810654, 0.1922510415315628, 0.46093153953552246, 0.22102978825569153, -0.0006747456500306726, -0.06908045709133148, 0.3017861843109131, -0.29390397667884827, -1.3537225723266602, 0.2298683077096939, 0.4550037980079651, 0.22170212864875793, -0.2652624547481537, 0.08206319063901901, 0.0069622076116502285, 0.5960018038749695, 0.15354984998703003, -0.2229703962802887, -0.08603249490261078, -0.22025783360004425, 0.3185215890407562, -0.10928594321012497, -0.04678425192832947, 0.28332144021987915, 0.04322758689522743, -0.5276585817337036, -0.09122683107852936, -0.6221126914024353, 0.19614361226558685, 0.4410179853439331, -0.0033730180002748966, -0.13653874397277832, 0.11741503328084946, 0.06752625852823257, -0.3764669895172119, -0.10611303150653839, -0.20828694105148315, -0.0527980774641037, 0.4135512113571167, 0.17307354509830475, -0.37776392698287964, -0.12509992718696594, 0.0698697566986084, -0.3206193149089813, 0.030741197988390923, 0.1922638863325119, 0.2073698341846466, 0.08358049392700195, -0.29934805631637573, 0.5306926965713501, 0.35141831636428833, -0.5281071066856384, 0.13663338124752045, -0.08445201814174652, -0.6121309399604797, 0.2469104677438736, -0.28467079997062683, -0.2559531629085541, -0.038956280797719955, -0.01035262830555439, -0.3956986963748932, -0.3377511501312256, 0.1657581925392151, 0.023288069292902946, -0.19443000853061676, 0.19862958788871765, 0.10711824148893356, -0.20420828461647034, 0.16376230120658875, -0.17928916215896606, 0.14397723972797394, 0.1400018185377121, 0.006568464916199446, -0.6402108669281006, 0.12980470061302185, -0.027652092278003693, -0.34798792004585266, 0.03618893399834633, 0.27396920323371887, -0.2436636984348297, -0.37329724431037903, -0.1331181824207306, -0.0797560065984726, 0.3553011417388916, -0.06339128315448761, 0.2651902139186859, 0.5171908140182495, 0.015558626502752304, 0.13224531710147858, -0.1303589940071106, -0.34248948097229004, 0.06282660365104675, 0.3098684847354889, -0.04272784665226936, -0.4874233901500702, -0.11802288144826889, 0.5410140156745911, -0.17016808688640594, -0.1271064281463623, -0.5583252310752869, 0.36618128418922424, 0.1650032103061676, -0.0353095717728138, -0.044954027980566025, 0.1367073655128479, 0.45294398069381714, 0.1146717444062233, -0.09919095039367676, 0.05750270560383797, 0.15059837698936462, 0.0655103474855423, -0.29906731843948364, 0.031171301379799843, -0.2924354374408722, 0.8349000811576843, -0.40132901072502136, -0.36080503463745117, -0.0699814036488533, -0.158515065908432, 0.6721622347831726, 0.19473333656787872, -0.05916643142700195, -0.33270373940467834, -0.1637261062860489, 0.2301030308008194, 0.12246030569076538, 1.412708044052124, 0.18923956155776978, -0.23266346752643585, -0.5216975212097168, -0.22835634648799896, 0.141316756606102, 0.4045755863189697, 0.3695722222328186, -0.30237025022506714, 0.07909587025642395, -0.17636162042617798, 0.31588873267173767, -0.19232888519763947, -0.07255366444587708, 0.3914405107498169, 0.3143247961997986, -0.06808836758136749, -0.19410613179206848, 0.13879995048046112, -0.4459497928619385, -0.5364449620246887, 0.3285145163536072, 0.3503197431564331, -0.28854092955589294, 0.5160841941833496, 0.31696048378944397, 0.10964963585138321, 0.5352010130882263, 0.3730444014072418, -0.4211527705192566, 0.03684120997786522, -0.03954737260937691, 0.0605916865170002, 0.6164668798446655, 0.10466287285089493, 0.09890437871217728, 0.3742281496524811, -0.466667115688324, -0.06567322462797165, 0.15444117784500122, 0.16255109012126923, -0.36984333395957947, 0.8879344463348389, 0.2114734798669815, -0.16644397377967834, -0.0307767316699028, -0.10007039457559586, -0.4689309895038605, -0.1454538106918335, 0.046053461730480194, 0.16713044047355652, 0.7320687770843506, -0.07895909994840622, 0.024301020428538322, 0.037402763962745667, -0.18400736153125763, 0.2840152084827423, -0.42805036902427673, -0.027907036244869232, 0.19254301488399506, 0.28973305225372314, 0.1287536472082138, 0.30497217178344727, -0.12543603777885437, -0.1897064596414566, 0.36617156863212585, 0.03617529198527336, 0.2784644067287445, -0.32197070121765137, -0.17699314653873444, 0.03875862807035446, 0.03450996056199074, -0.0836874470114708, -0.2993088662624359, 0.023773951455950737, 0.07516050338745117, 0.1960318237543106, -0.34757083654403687, -0.3972267210483551, -1.9869941473007202, -0.1804291158914566, -0.12513433396816254, -0.2859468162059784, -0.05448366701602936, 0.22510744631290436, 0.3838439881801605, 0.11384260654449463, 0.36127564311027527, 0.2197580337524414, 0.28586357831954956, -0.3664584159851074, 0.03417693451046944, -0.21009911596775055, 0.06693770736455917, 0.10813847184181213, -0.298103392124176, -0.3919217884540558, 0.22865940630435944, 0.03540036454796791, 0.35717135667800903, 0.22869683802127838, -0.030109161511063576, -0.4258277714252472, -0.04095492139458656, 0.34297898411750793, 0.11482777446508408, -0.16944415867328644, -0.017948370426893234, -0.08562858402729034, -0.13147872686386108, -0.08607462793588638, -0.6223291754722595, -0.23463021218776703, 0.6792938113212585, -0.41463157534599304, -0.12175149470567703, -0.31141558289527893, 0.5853988528251648, 0.008945725858211517, -0.10209544748067856, 0.018008597195148468, -0.06309622526168823, 0.19755452871322632, 0.4855637848377228, -0.7370905876159668, 0.5558829307556152, -0.09787490963935852, 0.13369953632354736, -0.5893588662147522, -0.15524815022945404, 0.32871928811073303, 0.09865694493055344, 0.1266206055879593, -0.2027951180934906, 0.04322144389152527, 0.2498273104429245, 0.01784142479300499, 0.09442555904388428, 0.1100873127579689, 0.19649739563465118, 0.18514558672904968, -0.05649614334106445, 0.13545095920562744, -0.02566923014819622, -0.07940308749675751, 0.1396011859178543, -0.2670508325099945, 0.37326788902282715, -0.3390343487262726, 0.36793041229248047, -0.21011677384376526, -0.06590379029512405, -0.39102670550346375, 0.3562769889831543, 0.388381689786911, 0.25272685289382935, 0.8987991809844971, -0.1449451893568039, 0.1691034436225891, -0.2706877291202545, -0.44670701026916504, -0.057100482285022736, 0.6155356168746948, 0.3068324029445648, -5.392980098724365, 0.3956244885921478, 0.2313133180141449, -0.09790831804275513, -0.15846097469329834, 0.12378636002540588, -0.2553398907184601, -0.19714492559432983, 0.052140314131975174, -0.0015090839006006718, -0.05681832507252693, -0.137388214468956, -0.08645424246788025, -0.210136279463768, 0.22533389925956726, 0.3860807716846466], [0.3447001278400421, 0.4524223804473877, -0.18074367940425873, 0.23137007653713226, 0.020626559853553772, -0.07076753675937653, 0.19618269801139832, 0.3956584334373474, -0.21913652122020721, -0.012416358105838299, 0.20905660092830658, 0.18345552682876587, 0.035792503505945206, -0.05675610899925232, -0.11717560887336731, 0.3552693724632263, 0.09543699771165848, 0.2788066565990448, -0.028191426768898964, -0.2953484058380127, -0.10818374156951904, -0.2352217733860016, 0.059170279651880264, 0.1371467411518097, 0.11764569580554962, -0.11743153631687164, 0.07809460908174515, 0.23508772253990173, 0.12329701334238052, -0.09645012766122818, 0.059096794575452805, -0.12911632657051086, 0.1465260237455368, 0.0690351203083992, -0.12239392846822739, 0.20745566487312317, -0.29534345865249634, -0.21966451406478882, -0.11913767457008362, -0.029579907655715942, -0.4217296540737152, -0.058479126542806625, -0.38640883564949036, 0.5193297266960144, -0.08375227451324463, -0.18451973795890808, -1.5149213075637817, 0.09522288292646408, 0.06797634065151215, -0.034159522503614426, 0.185328871011734, 0.5004745721817017, 0.6245365738868713, 0.23141081631183624, -0.05099703371524811, 0.20202769339084625, -0.08355854451656342, 0.3506785035133362, -0.185673788189888, 0.08116903901100159, -0.017533158883452415, 0.1536247879266739, -0.16656726598739624, 0.24951086938381195, -0.4199044704437256, 0.28812476992607117, -0.022576628252863884, 0.09641830623149872, 0.006252093240618706, 0.35522186756134033, -0.04473274201154709, -0.28766655921936035, -0.04919920861721039, 0.07199714332818985, 0.031581632792949677, 0.051694370806217194, 0.016573375090956688, 0.05185656622052193, 0.16519497334957123, 0.3380553722381592, -0.12679331004619598, 0.13913971185684204, 0.24404902756214142, -0.2728511393070221, 0.090074323117733, -0.0764111876487732, -0.21555742621421814, 0.3213179409503937, 0.04843299463391304, 0.027354437857866287, -0.07938806712627411, -0.02364533580839634, 0.5292577147483826, 0.2525016665458679, 0.026427138596773148, -0.14898444712162018, 0.3209938406944275, -0.3275814354419708, 0.12352430075407028, 0.24182440340518951, 0.019930757582187653, -0.007524501532316208, 0.21824359893798828, 0.0312275979667902, -0.10709139704704285, -0.11075586080551147, 0.07959207147359848, -0.35023072361946106, -0.043831098824739456, -2.354776620864868, -0.6488369703292847, 0.21824592351913452, -0.21067264676094055, -0.2248520851135254, -0.2074839472770691, 0.18490618467330933, 0.6197664737701416, 0.1855146288871765, 0.03493674471974373, -0.007183890789747238, -0.3388976454734802, 0.2524850368499756, 0.2369990050792694, -0.21722835302352905, 0.12491124868392944, 0.18370649218559265, 0.07003884017467499, -0.23903170228004456, -0.10125783830881119, -0.1532183587551117, 0.3343532383441925, 0.08401244133710861, -0.056071437895298004, 0.0792551189661026, -0.14334388077259064, -0.03366726636886597, 0.4802604913711548, 0.13378968834877014, 0.3147321939468384, 0.05845256894826889, -0.2701384723186493, -0.24677398800849915, -2.7190775871276855, 0.03900902718305588, 0.235055074095726, -0.4544000029563904, -0.13086552917957306, -0.05164378136396408, 0.2827395498752594, -0.14529283344745636, 0.023259276524186134, 0.205186665058136, -0.44749945402145386, 0.2573780119419098, 0.269911527633667, -0.24941396713256836, -0.3915403485298157, -0.29360678791999817, 0.4649527966976166, -0.023488489910960197, 0.15644954144954681, -0.3444688618183136, -0.126912921667099, -0.11984959989786148, 0.1861579269170761, -0.07747641205787659, 0.45125022530555725, 0.13421490788459778, 0.03229394927620888, 0.3229438364505768, -0.5192621350288391, 0.07544620335102081, 0.07941164076328278, -0.15162907540798187, -0.10229327529668808, 0.11782854050397873, 0.10442662984132767, 0.06072256714105606, 0.1907728761434555, 0.18141332268714905, -0.16039052605628967, -0.020308850333094597, -0.11997318267822266, -0.02323337085545063, -0.0937480628490448, 0.28024402260780334, 0.286306768655777, -0.22787435352802277, 0.017669091001152992, 0.12154778838157654, -0.054237399250268936, 0.013401856645941734, 0.3297675848007202, 0.05662690848112106, 0.8316726088523865, -0.5558686852455139, -0.4175523817539215, -0.13978266716003418, 0.5282934904098511, 0.4268423616886139, 0.16060970723628998, -0.11598633229732513, -0.012105296365916729, -0.027525002136826515, -0.492886483669281, 2.7442493438720703, 0.04579966887831688, 0.005811548791825771, -0.09623736888170242, 0.2503834366798401, -0.16649450361728668, -0.45073574781417847, -0.15408338606357574, -0.03608744591474533, -0.24536822736263275, 0.30806228518486023, -0.217135488986969, 0.19224268198013306, 0.12015046179294586, 0.07026225328445435, 0.31328076124191284, -0.15523755550384521, 0.3930293917655945, 0.16296333074569702, -0.36596569418907166, 0.21080543100833893, 0.31979063153266907, 0.7299997806549072, 0.18292668461799622, -1.2362606525421143, -0.024340372532606125, 0.031540121883153915, 0.05687626823782921, 0.1764766126871109, -0.018024049699306488, -0.052974771708250046, -0.09956489503383636, -0.234192356467247, 0.37142929434776306, -0.1517382711172104, -0.26474449038505554, 0.14328423142433167, 0.27852556109428406, 0.6747574210166931, -0.23605771362781525, 0.11549590528011322, -0.17406105995178223, 0.3560185730457306, -0.4277852475643158, 0.1549854427576065, 0.11252791434526443, 0.2600861191749573, 0.12017057090997696, -0.05239877849817276, -0.10488909482955933, -0.13426373898983002, 0.05551851913332939, 0.32061055302619934, 0.2087528556585312, 0.006097877398133278, -0.23990371823310852, 0.0005048076272942126, -0.21512863039970398, 0.15325602889060974, 0.09376472234725952, 0.007036845665425062, 0.2646814286708832, -0.7452900409698486, 0.46949344873428345, 0.2611183822154999, 0.19662517309188843, 0.1840396523475647, -0.09961992502212524, -3.8593459129333496, 0.13493089377880096, -0.1022760421037674, 0.1661524772644043, 0.2954908609390259, -0.14980363845825195, 0.5842723250389099, 0.08629847317934036, 0.30161428451538086, 0.01683560200035572, 0.13012970983982086, -0.19949005544185638, -0.4048558175563812, 0.427556574344635, -0.2507835626602173, 0.22158288955688477, -0.04435526579618454, -0.012743158265948296, -0.07712787389755249, -0.2587491273880005, -0.016858501359820366, 0.31259381771087646, -0.11861694604158401, 0.30621737241744995, -0.18684981763362885, 0.13135269284248352, -0.20371991395950317, 0.5475770235061646, 0.5102922916412354, -0.246053084731102, 0.11412941664457321, -0.025299815461039543, 0.016834566369652748, -0.5109283328056335, -0.14973454177379608, -4.067348957061768, -0.2605310082435608, -0.1278238147497177, -0.011932875029742718, -0.07990218698978424, 0.05617805942893028, 0.1101616770029068, -0.03073008358478546, -0.34563276171684265, 0.10335321724414825, -0.10933250188827515, 0.10688715428113937, -0.19197793304920197, 0.15910221636295319, -0.16945773363113403, -0.1974540650844574, 0.2612987160682678, -0.24864163994789124, -0.01454221922904253, 0.24172747135162354, -0.19890567660331726, 0.6192212700843811, 0.053043536841869354, 0.04038587212562561, 0.08064595609903336, 0.6263610124588013, -0.2723787724971771, 0.06534877419471741, -0.20923247933387756, 0.17596861720085144, 0.0005386259290389717, -0.3669428825378418, -0.043462224304676056, 0.07692401111125946, -0.23959118127822876, -0.03465736284852028, 0.47653767466545105, 0.03962234780192375, 0.12949712574481964, 0.5263107419013977, 0.10704829543828964, 0.44233396649360657, 0.5451017022132874, 0.20600755512714386, 0.5831525325775146, 0.1725325733423233, -0.3041025996208191, -0.4972594082355499, -0.29775527119636536, 0.08453387767076492, 0.1873580813407898, -0.04288513585925102, 1.0542539358139038, 0.20117227733135223, 0.1266300082206726, 0.09873323142528534, 0.5994876027107239, -0.11940178275108337, -0.2967788577079773, -0.03646309673786163, 0.21839511394500732, -0.017116498202085495, 0.15933692455291748, -0.31164678931236267, 0.08012548834085464, 0.06265068054199219, -0.4406210482120514, -0.16664020717144012, 0.33293503522872925, 0.19794325530529022, -0.2101842314004898, 0.19864006340503693, 0.2788715064525604, -0.807881772518158, -0.23405040800571442, 0.18089468777179718, -0.41490843892097473, 0.46081042289733887, 0.1936647742986679, -0.16826902329921722, -0.5132167339324951, -0.2976207733154297, -0.14987553656101227, -0.05810907483100891, -0.05538167059421539, -0.5471885204315186, 0.07693207263946533, 0.15249113738536835, -0.08402927964925766, 0.4531744122505188, 0.41687437891960144, 0.21820572018623352, 0.00924938265234232, 0.13421915471553802, 0.3008667826652527, 0.4945904016494751, 0.10905590653419495, -0.329753041267395, 0.016250932589173317, 0.0029517256189137697, 0.3912357687950134, -0.3342038094997406, -0.1584828943014145, 0.16422873735427856, -0.41221797466278076, 0.07693319767713547, -0.08316595107316971, 0.378357857465744, 0.566958487033844, -0.3481384813785553, -0.2350822240114212, 0.31887301802635193, -0.28854385018348694, -0.05036429688334465, 0.9160396456718445, -0.22767455875873566, -0.055984679609537125, 0.26850825548171997, 0.08256255090236664, -0.41763079166412354, -0.09686170518398285, 0.08861052989959717, -0.13799354434013367, -0.02675442025065422, -0.008398672565817833, 0.04183037579059601, -0.24678410589694977, -0.5906248688697815, 0.17975540459156036, 0.31669101119041443, 0.11684717237949371, -0.06379065662622452, 0.13587813079357147, -0.21879489719867706, 0.006895103957504034, 0.06671243160963058, 0.1002676859498024, 0.01631847396492958, -0.5038102865219116, -0.33488941192626953, 0.15139925479888916, 0.236502006649971, 0.022377213463187218, 0.27953916788101196, 0.31676343083381653, 0.036685701459646225, -0.479153573513031, -0.14276623725891113, 0.21542738378047943, -0.031157350167632103, -0.11777942627668381, -0.08407584577798843, 0.0882691890001297, 0.19034166634082794, -0.08178702741861343, 0.6322354674339294, 0.29046502709388733, -0.07667810469865799, -0.11497967690229416, 0.3635752499103546, 0.3373345732688904, -0.5964437127113342, -1.2349321842193604, -0.049557268619537354, 0.4687464237213135, -0.01124163344502449, 0.1483542025089264, -0.28535258769989014, 0.027623146772384644, 0.4574187695980072, 0.0174164567142725, 0.3083760738372803, 0.08286772668361664, -0.11759857088327408, 0.1581989973783493, -0.04452788457274437, -0.1442679613828659, -0.16162462532520294, 0.4364188015460968, -0.05668903887271881, -0.18582041561603546, -0.3598630726337433, 0.14727848768234253, 0.8309922814369202, 0.16504649817943573, -0.2558668553829193, 0.5277852416038513, 0.14279693365097046, -0.23628011345863342, 0.05148803070187569, -0.07819818705320358, -0.0714249461889267, 0.44019579887390137, 0.0014641218585893512, -0.06205548346042633, 0.01593131385743618, -0.10593511164188385, -0.07535188645124435, -0.22561484575271606, 0.13366135954856873, 0.2436046302318573, 0.18624556064605713, -0.15698572993278503, 0.17490150034427643, 0.5747823715209961, -0.3705105483531952, 0.1725296825170517, -0.09330569207668304, -0.35463789105415344, 0.2790188193321228, -0.07261925935745239, -0.3091181516647339, -0.4778093099594116, -0.014256018213927746, -0.03016076795756817, -0.22732162475585938, -0.21418456733226776, -0.1440993696451187, -0.08546750247478485, 0.07097660005092621, -0.06177966669201851, 0.10555235296487808, 0.009804912842810154, -0.31871670484542847, 0.0075886547565460205, 0.35227081179618835, 0.05807366967201233, -0.5373928546905518, -0.07784850895404816, 0.042498648166656494, 0.16716249287128448, 0.11840451508760452, 0.38111644983291626, -0.16074569523334503, -0.06462228298187256, -0.3068268895149231, 0.11011887341737747, 0.4232911169528961, 0.019004013389348984, 0.21483643352985382, 0.3262379765510559, -0.17925186455249786, -0.05106852576136589, -0.46949440240859985, -0.11440090835094452, -0.016675470396876335, 0.250729501247406, -0.27249565720558167, -0.23972450196743011, -0.2152336984872818, 0.13111180067062378, -0.1994732916355133, 0.018182646483182907, -0.34776484966278076, 0.3143472373485565, -0.31436875462532043, -0.07539551705121994, -0.24938854575157166, 0.11327125132083893, 0.03667615354061127, -0.306132972240448, 0.16801629960536957, 0.07146205753087997, 0.22374695539474487, -0.10007251054048538, -0.46445825695991516, 0.07310935854911804, -0.23016498982906342, 0.4959833025932312, -0.18765459954738617, -0.2862899899482727, -0.2308395504951477, -0.16990897059440613, 0.4165824353694916, -0.214385524392128, -0.329961895942688, -0.5094580054283142, -0.1827087700366974, 0.05043736472725868, 0.2644386291503906, 2.07197904586792, 0.23498982191085815, 0.009957266971468925, -0.36905431747436523, -0.06295402348041534, -0.02810724452137947, 0.24953396618366241, -0.06069966033101082, 0.05582519248127937, 0.342426598072052, -0.16033509373664856, 0.1628257781267166, 0.10297679901123047, -0.11171921342611313, 0.4319831430912018, 0.39258724451065063, -0.05237134173512459, 0.017629187554121017, 0.08668938279151917, -0.4294808506965637, -0.4143657088279724, 0.5585289597511292, 0.4170183837413788, -0.25225257873535156, 0.08645530790090561, 0.17437823116779327, -0.1209094375371933, 0.13932357728481293, 0.08635091036558151, -0.5639888048171997, 0.1475922018289566, 0.043818939477205276, -0.035465843975543976, 0.39310896396636963, -0.18176399171352386, 0.23279285430908203, 0.46012353897094727, -0.3517262935638428, -0.4045112729072571, 0.17631930112838745, -0.08201273530721664, -0.2487095445394516, 0.379434734582901, 0.1055111289024353, -0.17287680506706238, -0.011309748515486717, 0.04516620188951492, -0.17841802537441254, 0.1543731540441513, 0.3857833743095398, 0.4755738079547882, 0.27815282344818115, -0.021948322653770447, 0.11576059460639954, 0.2116355001926422, 0.08286480605602264, 0.3603249788284302, -0.5166584849357605, -0.20473513007164001, 0.30166688561439514, 0.36728745698928833, 0.25868356227874756, 0.12119118869304657, 0.1584727168083191, -0.17551866173744202, 0.5459074974060059, 0.3000308871269226, -0.1872665286064148, -0.023427864536643028, -0.2605274021625519, 0.49183258414268494, -0.005584720056504011, -0.2241080403327942, -0.3308589458465576, -0.028641900047659874, -0.2543359398841858, 0.1375277042388916, -0.22391773760318756, -0.41708678007125854, -3.07240629196167, -0.01642201468348503, -0.21774235367774963, -0.3410940170288086, 0.06866655498743057, 0.3591037094593048, 0.5783253312110901, -0.09219267219305038, 0.23132754862308502, 0.2881578505039215, 0.16824443638324738, -0.7365415692329407, 0.06177320331335068, -0.032572437077760696, -0.06895416975021362, -0.027677463367581367, -0.26132732629776, -0.37386274337768555, 0.2214473932981491, 0.045363955199718475, 0.16513457894325256, -0.028686638921499252, -0.0663866400718689, -0.41128623485565186, -0.12763820588588715, 0.17297708988189697, 0.019528906792402267, 0.02200772799551487, -0.049041830003261566, -0.14087054133415222, -0.16181889176368713, 0.09141352027654648, -0.2926284372806549, -0.11020255833864212, 0.11466003209352493, -0.08486581593751907, -0.16131862998008728, 0.007563705090433359, 0.44719117879867554, 0.2326740175485611, -0.0847594290971756, -0.1942214071750641, -0.0708196759223938, 0.10572756826877594, 0.3260864317417145, -0.5371776819229126, 0.39045193791389465, -0.15328477323055267, -0.27871400117874146, -0.5212051868438721, -0.22278492152690887, 0.1820930391550064, -0.09218429774045944, 0.11444631218910217, -0.16576988995075226, 0.152644082903862, 0.47280383110046387, 0.1402590125799179, -0.2538796067237854, -0.10229711979627609, -0.11498555541038513, 0.38820335268974304, 0.016548510640859604, 0.06678848713636398, 0.06322018057107925, -0.18826262652873993, 0.2393507957458496, 0.2525480389595032, -0.22282998263835907, 0.06586219370365143, -0.003241961123421788, -0.18474864959716797, 0.020355191081762314, -0.10694646090269089, 0.3389238715171814, 0.30177944898605347, 0.04637032747268677, 0.8391876816749573, 0.03622029721736908, 0.018372539430856705, -0.2508086860179901, -0.19725866615772247, -0.28869208693504333, 0.000867827795445919, 0.06128450483083725, -7.5302348136901855, 0.428621381521225, -0.09340716153383255, -0.287544846534729, 0.04513135552406311, -0.03084699809551239, 0.10923826694488525, -0.22827836871147156, 0.1338135451078415, -0.3267708420753479, 0.2941770553588867, -0.08541659265756607, -0.10150986909866333, -0.2707585096359253, 0.027357803657650948, 0.27512627840042114], [1.1098384857177734, 0.37164366245269775, -0.381176620721817, 0.24187366664409637, 0.0006831859354861081, -0.3073250949382782, 0.7015970349311829, 0.12044364213943481, -0.08762447535991669, -0.051256515085697174, 0.5409247875213623, 0.34309840202331543, -0.07265666872262955, -0.061684444546699524, -0.1907077580690384, -0.0931268036365509, 0.5551395416259766, 0.6021341681480408, 0.03904443234205246, -0.30569931864738464, -0.7872782349586487, 0.005065885838121176, 0.24187935888767242, 0.28760913014411926, -0.22377949953079224, 0.14122238755226135, 0.2901093065738678, 0.2404387891292572, -0.12938809394836426, -0.07774495333433151, -0.10291265696287155, -0.3754989802837372, 0.07218118011951447, -0.3429555594921112, 0.029135221615433693, 0.09529832750558853, 0.19843150675296783, -0.23149387538433075, -0.2818692624568939, -0.29931384325027466, -0.43800631165504456, -0.2651526927947998, 0.02167482301592827, 0.3582207262516022, -0.46813005208969116, -0.3857331871986389, -1.683410406112671, -0.1740507185459137, -0.16554491221904755, -0.19799081981182098, 0.5386286973953247, 0.551812469959259, -0.01879296638071537, 0.41992416977882385, 0.2017703801393509, 0.46077707409858704, -0.39304766058921814, 0.3109579384326935, -0.3219403922557831, 0.07405950129032135, -0.0036355173215270042, 0.026768773794174194, 0.023112831637263298, -0.10621251910924911, 0.11405029147863388, 0.13563233613967896, -0.1788915991783142, 0.0009328073938377202, 0.16806720197200775, 0.029633497819304466, -0.1891516149044037, -0.4743160009384155, -0.3020535111427307, -0.06172235310077667, 0.02096083015203476, -0.10480745881795883, 0.021853862330317497, -0.009672369807958603, 0.22877581417560577, -0.14788474142551422, -0.28522026538848877, 0.2455548495054245, 0.17294995486736298, -0.16832968592643738, 0.26016685366630554, -0.22804459929466248, 0.04712274670600891, 0.06647061556577682, 0.4685570001602173, 0.5255858898162842, -0.2548539340496063, -0.32257816195487976, 0.21285337209701538, 0.5774646401405334, -0.03563039377331734, -0.004720567259937525, 0.3753412365913391, -0.250945508480072, -0.07613181322813034, 0.2739666700363159, 0.13695338368415833, -0.40075457096099854, 0.32289889454841614, -0.16944977641105652, 0.03739173337817192, 0.1709408015012741, -0.14363867044448853, -0.5359428524971008, -0.14358466863632202, -1.315489649772644, -0.7504317760467529, 0.3958680033683777, -0.1767059564590454, 0.03292905166745186, -0.08563321083784103, -0.01339305192232132, 0.599499523639679, -0.009391619823873043, -0.01847747713327408, -0.10729863494634628, -0.2223581075668335, 0.6490059494972229, 0.13849470019340515, -0.27327972650527954, 0.0627308189868927, 0.2614690661430359, 0.06562352180480957, 0.14633160829544067, -0.4471282660961151, 0.19898803532123566, 0.26278817653656006, 0.20953072607517242, -0.09394264221191406, -0.1793094426393509, -0.26126062870025635, -0.21868938207626343, 0.31505855917930603, 0.09762115031480789, 0.0803927555680275, -0.1895121932029724, -0.4762963354587555, -0.07007551193237305, -1.4114271402359009, 0.15687675774097443, 0.6818944811820984, -0.3649888336658478, -0.10449699312448502, -0.16001945734024048, -0.023577509447932243, 0.25752320885658264, -0.06998970359563828, 0.47151124477386475, -0.26594078540802, -0.028690990060567856, 0.23007898032665253, -0.07761796563863754, -0.11020632833242416, -0.37036624550819397, 0.29992160201072693, 0.05138308182358742, 0.2693086266517639, -0.2782953083515167, 0.3355409801006317, -0.15577732026576996, 0.055840201675891876, 0.07643184065818787, 0.41733017563819885, 0.13048094511032104, 0.01675722375512123, 0.14872011542320251, -0.3129850924015045, -0.022438781335949898, -0.21301797032356262, -0.36506205797195435, -0.5066025257110596, -0.30174389481544495, 0.5575510263442993, 0.2096894532442093, -0.10878361761569977, -0.0037306691519916058, -0.3283771276473999, 0.29063987731933594, -0.270355224609375, -0.34818020462989807, 0.16534116864204407, 0.32483944296836853, 0.3054926097393036, 0.15426740050315857, -0.20973849296569824, -0.2005254030227661, -0.057073526084423065, -0.012872274033725262, 0.5084067583084106, -0.3708178997039795, 0.9619677066802979, -0.981546938419342, -0.3373410403728485, 0.6355301141738892, 0.04672054946422577, 0.15010015666484833, 0.05666253715753555, -0.11442669481039047, -0.37962156534194946, -0.0931190773844719, -0.3130790591239929, 2.4669134616851807, 0.433225154876709, 0.30868053436279297, 0.1622077375650406, -0.11047956347465515, 0.317117303609848, -0.27052509784698486, -0.3639834523200989, 0.03297312185168266, -0.1421603411436081, -0.012469571083784103, -0.13994963467121124, 0.4030947983264923, 0.2945151627063751, 0.028800608590245247, 0.34009721875190735, -0.43090173602104187, 0.07689009606838226, -0.014671212993562222, -0.08992912620306015, -0.040592268109321594, 0.0034309488255530596, 0.24390292167663574, 0.06743758916854858, -1.1226470470428467, -0.3198103606700897, 0.2920241355895996, -0.11225323379039764, 0.04848235845565796, 0.030435509979724884, -0.327976793050766, -0.030036471784114838, -0.1804148405790329, -0.06334253400564194, 0.3250495195388794, 0.11151152104139328, 0.06969969719648361, -0.014355666004121304, 0.3974454402923584, -0.22030529379844666, 0.3328404128551483, -0.5043799877166748, 0.43032312393188477, -0.20162208378314972, 0.03504449129104614, -0.12982796132564545, -0.1530401110649109, 0.17049019038677216, 0.22608786821365356, 0.38352760672569275, 0.006149639841169119, -0.5472995042800903, 0.10122634470462799, 0.02617250569164753, 0.1884186565876007, 0.04341411218047142, 0.0798405259847641, -0.16724272072315216, 0.05399664118885994, -0.14594222605228424, -0.0520569272339344, -0.35508742928504944, -0.526029109954834, 0.5039014220237732, 0.9434022307395935, 0.464884489774704, 0.16471542418003082, -0.06693337857723236, -2.1933493614196777, 0.4472641050815582, 0.13801522552967072, 0.36943748593330383, 0.4139738976955414, -0.22701780498027802, 0.5293917655944824, 0.11655662953853607, 0.36197543144226074, 0.25819799304008484, 0.487959086894989, 0.06005798280239105, -0.5745717287063599, 0.7264115810394287, -0.2798929214477539, 0.15431109070777893, 0.20868907868862152, 0.17790402472019196, 0.1386936753988266, -0.11214016377925873, -0.43724414706230164, 0.6825693249702454, 0.018161440268158913, 0.2034795880317688, 0.02312236651778221, 0.06266103684902191, -0.10064336657524109, 0.29401808977127075, 0.06045446917414665, -0.0580623559653759, 0.08499027043581009, 0.38080090284347534, 0.05748766288161278, -0.6087087988853455, -0.1941334307193756, -5.564284324645996, 0.046613238751888275, -0.18403106927871704, -0.34422120451927185, -0.2650395333766937, -0.1281028538942337, -0.12401387095451355, 0.01183092687278986, -0.16251550614833832, -0.14276041090488434, 0.14595992863178253, -0.02459990791976452, -0.30354100465774536, 0.394081175327301, 0.12540234625339508, -0.10985486954450607, 0.43098944425582886, 0.20451749861240387, 0.31322306394577026, 0.6463432908058167, 0.15385547280311584, 0.35896602272987366, -0.0543491393327713, 0.4141020178794861, 0.380521297454834, 0.5345375537872314, -0.40368223190307617, 0.21660766005516052, 0.05436290055513382, 0.45691707730293274, 0.14013522863388062, -0.18494795262813568, -0.11242693662643433, -0.027176031842827797, 6.38085839455016e-05, -0.1359768509864807, 0.07786348462104797, -0.08472657948732376, 0.11316850781440735, 0.12317446619272232, -0.016938896849751472, 0.30541083216667175, 0.06384851038455963, 0.12955018877983093, 0.3285328447818756, -0.15374009311199188, -0.22488972544670105, 0.07889855653047562, -0.27471527457237244, 0.3641522526741028, -0.10146719217300415, -0.05915716663002968, 1.1100250482559204, -0.2602936923503876, -0.15020589530467987, -0.05621493235230446, 0.339992880821228, -0.3066357374191284, -0.3289538621902466, 0.22921957075595856, 0.08471661061048508, 0.11298917233943939, 0.22653895616531372, -0.34999996423721313, -0.041785914450883865, -0.034867726266384125, -0.380094438791275, -0.4208572506904602, 0.35174623131752014, 0.3214159905910492, -0.5334429740905762, -0.04713794216513634, -0.025923456996679306, -0.8678482174873352, 0.12348365038633347, 0.21318624913692474, -0.538489818572998, 0.2935871481895447, 0.07162114977836609, -0.070003941655159, -0.6103450059890747, -0.5453150272369385, -0.0789092406630516, -0.07621724903583527, 0.36383217573165894, -0.13779103755950928, -0.09793291985988617, 0.20998692512512207, -0.5067195892333984, 0.45895302295684814, 0.712298572063446, 0.09568881243467331, 0.07222197949886322, 0.4615747034549713, 0.7901568412780762, 0.8305487632751465, 0.26187965273857117, -0.875998318195343, 0.37377026677131653, -0.09857048839330673, 0.37740248441696167, 0.24902313947677612, 0.053510963916778564, -0.22486837208271027, -0.6458735466003418, -0.16220474243164062, -0.4710082411766052, 0.4055975377559662, 0.4492543637752533, -0.05925874039530754, -0.04157219082117081, 0.3541111648082733, -0.20488251745700836, 0.05505918711423874, 0.5257643461227417, -0.17590594291687012, -0.08543328195810318, 0.3757117688655853, 0.23591025173664093, 0.031786609441041946, 0.18134617805480957, 0.22567254304885864, -0.012224012985825539, -0.5164220929145813, 0.07570402324199677, 0.23640987277030945, 0.1325177699327469, 0.0230962373316288, 0.07258870452642441, 0.189248189330101, 0.2804090976715088, -0.08798997849225998, -0.09609661996364594, -0.24323299527168274, -0.45517557859420776, -0.18446087837219238, 0.04136042296886444, -0.10324497520923615, -0.3232356607913971, -0.20262441039085388, -0.0899214968085289, -0.06913849711418152, 0.2176746279001236, 0.666705310344696, 0.082399882376194, -0.22636540234088898, -0.20270900428295135, 0.09740587323904037, 0.007601235993206501, -0.010065468959510326, -0.07600651681423187, 0.3459363281726837, 0.49750789999961853, -0.3276563584804535, -0.1654781699180603, 0.12390218675136566, 0.6581624746322632, -0.0798659697175026, 0.09509894251823425, -0.30139195919036865, 0.2617582082748413, -0.4955287277698517, -1.367078185081482, 0.22048041224479675, 0.6437692046165466, -0.19388574361801147, -0.39467909932136536, 0.002824686001986265, 0.06153392791748047, 0.39608442783355713, 0.13742892444133759, -0.41578561067581177, 0.2811791002750397, -0.07342837005853653, 0.04098731651902199, -0.3446972966194153, -0.2558710277080536, -0.0725589469075203, 0.08272957056760788, -0.8187685608863831, -0.05802396684885025, -0.5274215340614319, -0.08870857954025269, 0.0783277302980423, 0.10242763161659241, -0.19355838000774384, 0.2559420168399811, -0.31506234407424927, -0.6625882387161255, 0.04302240163087845, -0.10019644349813461, 0.21107985079288483, 0.6449973583221436, -0.08373859524726868, -0.156965970993042, -0.032874226570129395, 0.0792786031961441, -0.017214348539710045, 0.20359808206558228, 0.20808498561382294, 0.015908563509583473, -0.14583587646484375, -0.8255903124809265, 0.36541205644607544, 0.5981277823448181, -0.32743823528289795, 0.6144906282424927, 0.20221301913261414, -0.06869444251060486, 0.572460412979126, -0.3920419216156006, -0.17050610482692719, -0.20596076548099518, 0.115018330514431, -0.3239927291870117, -0.34074437618255615, -0.0898350328207016, 0.11458538472652435, -0.12922997772693634, -0.23570017516613007, 0.4361720085144043, 0.041899070143699646, 0.008851918391883373, -0.19264884293079376, -0.025400320068001747, 0.30674323439598083, 0.15878869593143463, -0.6082493662834167, -0.28266504406929016, -0.049699824303388596, -0.5736548900604248, -0.08514033257961273, 0.18145890533924103, -0.01473954040557146, -0.32798147201538086, -0.15431839227676392, -0.026039646938443184, 0.43689948320388794, -0.30196845531463623, -0.06489972025156021, 0.04908240959048271, -0.2699398398399353, 0.1402902603149414, -0.4362703859806061, -0.3196038603782654, 0.4720003604888916, 0.007135606836527586, -0.23696434497833252, -0.4577697813510895, -0.3503705561161041, 0.28570085763931274, -0.06060505658388138, 0.21969737112522125, -0.3742457628250122, -0.011041013523936272, -0.12433600425720215, -0.2451789528131485, -0.0234060101211071, 0.0076361652463674545, -0.02671889215707779, 0.3990926146507263, -0.3198101818561554, -0.34513774514198303, -0.020412597805261612, 0.08888591825962067, -0.1714680790901184, -0.12818807363510132, -0.08546408265829086, 0.24420049786567688, -0.027660997584462166, -0.17182110249996185, -0.1104893833398819, -0.17581959068775177, 0.4576486051082611, -0.3565090596675873, -0.14340463280677795, -0.6053083539009094, -0.29716745018959045, -0.16041415929794312, 0.4283989667892456, 1.1193069219589233, 0.19501137733459473, -0.07254362106323242, -0.4135824739933014, -0.06526266783475876, -0.1645352691411972, 0.3154040575027466, 0.21735769510269165, 0.036996807903051376, 0.26708266139030457, -0.4543381333351135, 0.1832258105278015, -0.03401002660393715, -0.35202768445014954, 0.2179255485534668, 0.4130919277667999, 0.25925740599632263, 0.16897477209568024, 0.4201262593269348, -0.5368403196334839, -0.049559399485588074, 0.7599155902862549, 0.5037884712219238, -0.18379268050193787, 0.1872972995042801, 0.16603149473667145, -0.39111918210983276, -0.13799403607845306, 0.08827454596757889, -0.1770458221435547, -0.12160563468933105, 0.18925756216049194, 0.028870562091469765, 0.5207251906394958, -0.14509181678295135, 0.14338411390781403, 0.2195747047662735, -0.6213560104370117, -0.33776989579200745, 0.5679574608802795, 0.0051315948367118835, -0.25470268726348877, 0.6953064799308777, 0.11278297007083893, -0.18626654148101807, 0.04636223614215851, -0.23718871176242828, -0.49281737208366394, -0.009119630791246891, -0.023772763088345528, 0.3396173417568207, 0.671380877494812, 0.009583628736436367, -0.02040031924843788, -0.19102460145950317, -0.13560061156749725, 0.12387236207723618, -0.4244038164615631, 0.2559243142604828, 0.5290893316268921, 0.15081743896007538, -0.22683952748775482, 0.22437645494937897, -0.04655391350388527, 0.06407169252634048, 0.2840734124183655, 0.17028860747814178, 0.1151743158698082, -0.12704364955425262, 0.2598802149295807, 0.3946201503276825, -0.15283021330833435, 0.038210444152355194, -0.2626393735408783, 0.17073749005794525, -0.19038574397563934, 0.4359077513217926, -0.03358341008424759, -0.3544382154941559, -1.6460402011871338, 0.14185760915279388, -0.3643280267715454, 0.3084649443626404, 0.020391112193465233, 0.5231463313102722, 0.5049334168434143, -0.12393128126859665, 0.15567316114902496, -0.09755581617355347, 0.2290288209915161, -0.5452006459236145, 0.460143119096756, -0.05449516326189041, 0.41650375723838806, -0.06576631963253021, 0.18116842210292816, -0.37057530879974365, -0.03507828339934349, -0.0416807122528553, 0.035559117794036865, 0.005832978989928961, -0.09541362524032593, -0.5768566727638245, -0.10869447886943817, 0.12878485023975372, 0.13159847259521484, -0.1203906461596489, -0.34158340096473694, -0.3811666965484619, -0.23673374950885773, 0.2485007643699646, -0.21397024393081665, -0.13747692108154297, 0.19422441720962524, 0.13457238674163818, -0.21954280138015747, 0.02375686727464199, 0.5797074437141418, -0.0008874628692865372, 0.009018327109515667, -0.01112753339111805, 0.20554795861244202, 0.3017279803752899, 0.44529691338539124, -0.5743907690048218, 0.2856772541999817, -0.2455640286207199, -0.04491877555847168, -0.8814147710800171, -0.13890428841114044, 0.18748460710048676, -0.015873868018388748, 0.1350862681865692, -0.19707557559013367, 0.1371707171201706, 0.4753788113594055, 0.5998958945274353, -0.07458746433258057, 0.3307690918445587, 0.037850409746170044, -0.06497014313936234, -0.16354213654994965, -0.03757673501968384, 0.28341689705848694, -0.14973439276218414, 0.04990902170538902, -0.062226030975580215, 0.0033792087342590094, -0.8217350840568542, -0.011539879254996777, -0.03861333429813385, -0.4945184886455536, -0.26774701476097107, 0.43895459175109863, 0.3129290044307709, -0.10419270396232605, 0.8546563386917114, -0.15615102648735046, 0.2505006790161133, -0.7182417511940002, -0.12596476078033447, -0.1769440770149231, 0.14313355088233948, 0.42234930396080017, -4.719553470611572, 0.05054439976811409, -0.11561528593301773, -0.4383021891117096, -0.07674739509820938, 0.3564739525318146, 0.020132210105657578, -0.2748687267303467, 0.2168857753276825, -0.2520102262496948, 0.08304765075445175, 0.6441771984100342, -0.038880109786987305, -0.06568796187639236, 0.2569843828678131, -0.09653939306735992], [0.7204251885414124, 0.2922567129135132, -0.6528365015983582, -0.09913422167301178, 0.03939398005604744, -0.1518409252166748, 0.2250509411096573, 0.2915179133415222, -0.3935646712779999, -0.3562074601650238, 0.39001426100730896, 0.06011049076914787, 0.35125264525413513, 0.022789226844906807, 0.08142369985580444, 0.2015635222196579, 0.053751133382320404, 0.2943956255912781, 0.22953791916370392, -0.13293588161468506, -0.7194260954856873, 0.014680773951113224, 0.42888596653938293, 0.07179015129804611, -0.07411069422960281, -0.20014990866184235, 0.39761489629745483, 0.13345499336719513, -0.016322899609804153, 0.03568349778652191, -0.13134238123893738, -0.23510560393333435, -0.3080466687679291, -0.21651728451251984, -0.34774529933929443, 0.03805219754576683, -0.19384698569774628, -0.1294141411781311, -0.0017562193097546697, -0.16727027297019958, -0.7882532477378845, -0.013378300704061985, -0.049583446234464645, 0.5965583324432373, -0.16927902400493622, -0.5476711988449097, -1.9907305240631104, -0.2077980637550354, 0.0543699711561203, 0.016908861696720123, 0.21208424866199493, 0.26748907566070557, 0.5628535747528076, 0.1265183687210083, -0.16812573373317719, 0.31460410356521606, -0.2836814224720001, 0.2551097869873047, -0.236893430352211, 0.005175594240427017, 0.38462403416633606, 0.3555903434753418, -0.0917293131351471, 0.037894438952207565, 0.1549346148967743, 0.3683921694755554, 0.05486275255680084, 0.012083926238119602, 0.2264624387025833, 0.18251632153987885, 0.0032433373853564262, -0.13307861983776093, -0.41025394201278687, 0.15542519092559814, -0.22044003009796143, -0.14808717370033264, -0.16816817224025726, 0.019719313830137253, 0.015334916301071644, 0.010184329003095627, -0.09811579436063766, 0.1992751657962799, 0.5412875413894653, -0.7991006970405579, 0.08307229727506638, -0.2830042541027069, -0.2644464373588562, 0.2918896973133087, 0.03688011318445206, 0.06063324585556984, -0.3282647132873535, -0.2778036594390869, 0.46406787633895874, 0.7242822647094727, 0.05911191552877426, -0.3430643677711487, 0.43270474672317505, 0.02687983587384224, -0.20535102486610413, 0.4945690333843231, 0.05949578434228897, -0.08732306957244873, 0.28064513206481934, -0.309612512588501, 0.08755041658878326, -0.23044463992118835, -0.16349540650844574, -0.3533046841621399, 0.2546291947364807, -1.1075482368469238, -0.38368162512779236, 0.3215741515159607, -0.17398414015769958, 0.00043903515324927866, -0.05598128214478493, 0.1754167526960373, 0.8310743570327759, 0.18236641585826874, 0.11421405524015427, -0.13554155826568604, -0.41487884521484375, 0.38608282804489136, 0.1729622185230255, -0.39729440212249756, 0.005991652142256498, -0.07286100089550018, 0.3557828664779663, -0.4008449912071228, -0.13083487749099731, 0.08221083879470825, 0.1715451329946518, 0.13732856512069702, -0.10427530109882355, 0.4737880229949951, -0.16979748010635376, 0.11851347982883453, 0.4481089413166046, 0.04221707582473755, 0.00867858249694109, -0.2268480807542801, -0.3423360288143158, -0.12068051844835281, -1.534400224685669, 0.09876953810453415, 0.3669358491897583, -0.3841533064842224, -0.39150184392929077, 0.06151757016777992, 0.16868416965007782, -0.0868065357208252, -0.2903044819831848, 0.12834668159484863, -0.34832972288131714, 0.19690825045108795, -0.014807427302002907, -0.6177995204925537, -0.6535336971282959, -0.245001882314682, 0.4923027455806732, -0.046118613332509995, 0.26611587405204773, -0.2161606252193451, 0.3803490996360779, -0.19677814841270447, 0.16420571506023407, -0.26556676626205444, 0.6926112771034241, 0.23263594508171082, -0.30156880617141724, 0.09592059999704361, -0.588793933391571, 0.3732214868068695, 0.18552008271217346, -0.3328211307525635, -0.7588042616844177, 0.1052071675658226, 0.2859611511230469, 0.25845107436180115, -0.3034324049949646, 0.07203342765569687, -0.3206111490726471, 0.10866276174783707, -0.14953409135341644, -0.38479578495025635, 0.3799040913581848, 0.3840802311897278, 0.34364330768585205, 0.08249879628419876, -0.37324994802474976, 0.11730020493268967, -0.15165044367313385, -0.09973393380641937, 0.5016915798187256, -0.0328696072101593, 0.9230495095252991, -0.8404399752616882, -0.09816250950098038, 0.8336393237113953, 0.28313276171684265, 0.31123867630958557, 0.045151568949222565, -0.014453358948230743, -0.222639799118042, -8.977302786661312e-05, -0.1564776450395584, 2.172402858734131, 0.0819973424077034, 0.04596591740846634, 0.27468979358673096, 0.22461563348770142, -0.27709487080574036, -0.553168773651123, -0.12474364042282104, 0.46826937794685364, -0.4469988942146301, 0.4481266438961029, 0.018555743619799614, 0.3693547248840332, 0.11130587011575699, 0.11343690007925034, 0.7322737574577332, -0.0809035673737526, 0.3863826394081116, 0.04367099329829216, -0.3986155390739441, -0.09466314315795898, 0.2636648118495941, 0.481767863035202, -0.13616599142551422, -1.384118914604187, -0.20140446722507477, -0.2358010709285736, 0.09315026551485062, -0.0278200414031744, 0.089194156229496, -0.1126202717423439, -0.34507474303245544, -0.39044663310050964, -0.05871386080980301, 0.18096095323562622, 0.05614333972334862, 0.08923935145139694, 0.16966527700424194, 0.805633544921875, 0.08264148235321045, 0.48600149154663086, -0.18438665568828583, 0.8111492395401001, -0.2873530387878418, -0.37835395336151123, -0.019644904881715775, 0.5484118461608887, 0.5495572090148926, -0.03921661898493767, 0.20176924765110016, 0.004147180821746588, -0.33128461241722107, 0.3727157413959503, 0.14466071128845215, 0.2370372861623764, 0.06616391986608505, -0.22996029257774353, -0.22132648527622223, 0.3103342354297638, 0.0005957119865342975, -0.14366230368614197, 0.16818125545978546, -0.993209719657898, 0.419277548789978, 0.6500119566917419, 0.573993444442749, -0.013581514358520508, -0.23250438272953033, -2.0490546226501465, 0.4631047248840332, 0.5078552961349487, 0.38947492837905884, 0.07539425045251846, -0.16579172015190125, 0.25361013412475586, -0.08240672945976257, 0.5049386620521545, -0.02538030780851841, 0.09278041869401932, 0.20947934687137604, -0.8428027033805847, 0.6242424249649048, -0.2824735641479492, 0.19919425249099731, 0.08140932768583298, 0.3440302312374115, 0.13001957535743713, -0.5137099027633667, -0.003528796834871173, 0.6189684271812439, -0.20717814564704895, 0.22098611295223236, -0.10900592803955078, 0.14094896614551544, -0.0006165126105770469, 0.46287208795547485, 0.023086898028850555, -0.2828645408153534, 0.2542785108089447, 0.3919038474559784, -0.13985754549503326, -0.3100357949733734, -0.15885527431964874, -5.414004802703857, -0.20014354586601257, 0.22431564331054688, -0.1501758098602295, -0.21111531555652618, -0.2213706225156784, 0.08707790076732635, 0.058124903589487076, -0.3356900215148926, 0.10784371197223663, 0.1847977638244629, 0.2924209237098694, -0.13609077036380768, 0.4680469036102295, 0.030151961371302605, 0.005796090699732304, 0.1790110468864441, 0.3495061695575714, -0.26260411739349365, 1.0303783416748047, -0.3649228811264038, 0.22395290434360504, -0.05857279151678085, 0.19777227938175201, 0.2099791169166565, 0.25432950258255005, -0.34755924344062805, -0.23779693245887756, -0.24368460476398468, 0.1795634925365448, -0.017692234367132187, -0.4436641037464142, 0.0065210540778934956, 0.052256230264902115, -0.2668832242488861, -0.18775099515914917, 0.0430058017373085, 0.30572646856307983, 0.7086290717124939, 0.2228320986032486, -0.05599338561296463, 0.3731602728366852, 0.512233316898346, 0.1151462122797966, 0.32198747992515564, -0.09308966994285583, -0.409171462059021, -0.05678447708487511, -0.2049131840467453, 0.22741128504276276, 0.2285320907831192, -0.1874132603406906, 1.1914911270141602, -0.15376850962638855, -0.0930248573422432, -0.1359996795654297, 0.5267974138259888, -0.35830891132354736, -0.5174944996833801, -0.008830373175442219, 0.352679580450058, -0.009041190147399902, 0.07696332037448883, -0.5039352774620056, 0.10446936637163162, -0.45462629199028015, -0.7995988130569458, -0.13297782838344574, -0.06470154970884323, 0.35156387090682983, -0.6525751352310181, 0.4542290270328522, 0.3058995008468628, -1.009323239326477, -0.15366585552692413, 0.019357094541192055, -0.5625606775283813, 0.20880825817584991, 0.29481616616249084, -0.2212899923324585, -0.478069931268692, -0.6261472105979919, 0.00904421042650938, -0.031061729416251183, 0.25480300188064575, -0.786657452583313, 0.17628876864910126, 0.11979326605796814, -0.40311768651008606, 0.18585170805454254, 0.8344869017601013, 0.18357966840267181, 0.265516996383667, 0.09163670986890793, 0.6333149075508118, 0.5690966844558716, 0.22628253698349, -0.6626699566841125, 0.15260031819343567, 0.058127615600824356, 0.4954240322113037, -0.1725550889968872, -0.29399406909942627, 0.1793293058872223, -0.294082373380661, -0.09280573576688766, -0.42576196789741516, 0.25486886501312256, 0.6779276132583618, -0.2013329416513443, -0.3869445025920868, 0.17688167095184326, -0.6323364973068237, 0.3066384494304657, 0.6111520528793335, -0.11843173205852509, 0.28720197081565857, -0.05636580288410187, 0.1776779592037201, -0.0022248944733291864, -0.03369826450943947, 0.2524033486843109, -0.019657030701637268, 0.042242515832185745, 0.04337750002741814, -0.32340213656425476, -0.28397467732429504, -0.37043848633766174, -0.1572507917881012, 0.1699945330619812, 0.6583364605903625, 0.03393685817718506, -0.2268618792295456, -0.3887849748134613, -0.18240495026111603, -0.03973953798413277, 0.24546559154987335, -0.06669414788484573, -0.6808598041534424, -0.18594862520694733, -0.0195626150816679, -0.033340923488140106, 0.10911345481872559, 0.27903541922569275, 0.057425037026405334, 0.2333092987537384, -0.19748623669147491, -0.047057610005140305, -0.1718754917383194, -0.2359359860420227, -0.08306392282247543, -0.41914060711860657, 0.29072657227516174, 0.2773672342300415, -0.1879122108221054, 0.29693782329559326, 0.5627525448799133, 0.013417653739452362, 0.013835560530424118, -0.03366050869226456, 0.3459014594554901, -0.6351521611213684, -1.3321049213409424, 0.030450094491243362, 0.785821259021759, 0.07061653584241867, 0.08690014481544495, 0.017391029745340347, 0.0720847025513649, 0.36799588799476624, -0.02817412093281746, -0.3307947516441345, 0.17042705416679382, -0.696334958076477, 0.34396493434906006, -0.08474645018577576, -0.10639182478189468, -0.10996424406766891, 0.1297561526298523, -0.4048272669315338, -0.201219379901886, -0.25706997513771057, -0.03875764086842537, 0.4271408021450043, 0.38057056069374084, 0.07354824990034103, 0.21135103702545166, -0.33449479937553406, -0.46461740136146545, -0.0726458877325058, -0.07809078693389893, 0.045164890587329865, 0.3429087698459625, -0.09085182100534439, -0.4917086660861969, -0.12801511585712433, 0.06416140496730804, 0.22977998852729797, 0.09712939709424973, 0.23374229669570923, 0.3190220594406128, 0.004977862350642681, -0.2500949501991272, 0.4622251093387604, 0.6179308295249939, -0.27510109543800354, 0.17486253380775452, 0.1307862401008606, -0.6469157934188843, 0.21981066465377808, -0.4427202641963959, -0.4970467984676361, -0.2371329665184021, 0.07611840963363647, -0.17496047914028168, -0.16042542457580566, -0.12507857382297516, -0.03785170987248421, -0.036600347608327866, -0.098556287586689, 0.2846148610115051, -0.10712804645299911, -0.16026045382022858, -0.3246113657951355, -0.1344820261001587, 0.08706726133823395, 0.10790827125310898, -0.42270714044570923, 0.037057943642139435, -0.3704337179660797, -0.08302558958530426, 0.1843615621328354, 0.3094240427017212, -0.1490301787853241, -0.23935475945472717, -0.43727749586105347, -0.3052310049533844, 0.2036689966917038, -0.13339181244373322, 0.14842407405376434, 0.5136575698852539, -0.04066326841711998, 0.2868351936340332, -0.15129944682121277, -0.3725210130214691, 0.0010866011725738645, -0.0017984756268560886, -0.10362124443054199, -0.45895808935165405, -0.2939078211784363, 0.1545707732439041, -0.26891881227493286, -0.09619557857513428, -0.2085793912410736, 0.3245637118816376, -0.023798445239663124, -0.08651238679885864, 0.19768023490905762, -0.1145068109035492, 0.2659863233566284, 0.20610018074512482, -0.31507736444473267, -0.02152525819838047, 0.17921005189418793, 0.36839744448661804, -0.3563598692417145, -0.21100766956806183, -0.07379884272813797, 0.7235746383666992, -0.2932160198688507, -0.4967423379421234, 0.10062693804502487, -0.32617074251174927, 0.3873959183692932, -0.12592720985412598, -0.019217340275645256, -0.1606050729751587, -0.10240424424409866, -0.007330323103815317, 0.1833181530237198, 1.5448362827301025, 0.3625316321849823, -0.22884118556976318, -0.6608131527900696, 0.08856454491615295, 0.3209530711174011, -0.019692562520503998, -0.16620370745658875, -0.069063700735569, 0.31564176082611084, -0.053022757172584534, 0.1569126397371292, -0.0301265437155962, -0.04764855280518532, 0.5784053802490234, 0.31784406304359436, 0.0643961951136589, -0.1012120321393013, 0.045404788106679916, -0.22440877556800842, -0.3673888146877289, 0.6280643939971924, 0.5622439384460449, -0.2649036943912506, 0.18809501826763153, 0.3850056827068329, 0.3135409653186798, 0.3121773302555084, -0.01776443049311638, 0.10248418897390366, 0.09978719800710678, 0.3518633246421814, 0.193874791264534, 0.30414697527885437, -0.2685335874557495, 0.07293928414583206, 0.1836642175912857, -0.6541152000427246, -0.08992152661085129, 0.16084545850753784, -0.29859474301338196, -0.2708391845226288, 0.7694938778877258, 0.3637423813343048, -0.425481915473938, 0.26505494117736816, -0.1292334944009781, -0.6166707277297974, -0.5184412598609924, 0.07055776566267014, 0.19109657406806946, 0.9121700525283813, -0.2082076072692871, -0.17899534106254578, -0.12463818490505219, 0.10651765763759613, 0.32977575063705444, 0.04708162322640419, 0.22682087123394012, 0.1641310453414917, 0.3000708222389221, 0.21027174592018127, 0.27688997983932495, -0.0032854757737368345, -0.12935751676559448, 0.22411198914051056, 0.052038706839084625, 0.029011443257331848, 0.016835583373904228, -0.08121313154697418, 0.40978866815567017, -0.1439526230096817, 0.07343469560146332, -0.2471562772989273, -0.10751555860042572, -0.337146520614624, 0.15466319024562836, -0.23254215717315674, -0.6751155853271484, -1.9025070667266846, 0.030914386734366417, -0.043010272085666656, 0.07614829391241074, -0.2088060826063156, 0.6190413236618042, 0.43595942854881287, 0.1388789415359497, 0.18865333497524261, 0.25309017300605774, 0.17935305833816528, -0.3474445044994354, 0.4299423098564148, -0.27807578444480896, -0.4464033246040344, 0.2325526624917984, 0.01604023203253746, -0.44315627217292786, -0.04478966444730759, -0.13434064388275146, 0.30990299582481384, 0.2306969314813614, 0.03421557694673538, -0.5193118453025818, -0.2811041474342346, 0.11422446370124817, 0.43653666973114014, -0.17567725479602814, 0.030229344964027405, -0.08474861830472946, -0.48356711864471436, 0.31926894187927246, -0.6459596753120422, -0.010346629656851292, 0.4380418062210083, 0.047160424292087555, -0.23766818642616272, -0.11999143660068512, 0.7538294196128845, 0.26293638348579407, -0.26258015632629395, 0.10097850114107132, -0.2010362595319748, 0.20306982100009918, 0.31768783926963806, -0.46778765320777893, 0.6593502759933472, -0.5182035565376282, -0.2771613895893097, -0.8053392767906189, -0.14446115493774414, 0.31440502405166626, -0.12969021499156952, 0.19914598762989044, -0.08108578622341156, -0.1459224969148636, 0.45716413855552673, 0.44913268089294434, 0.03217551112174988, 0.04173128679394722, -0.022972257807850838, 0.1350780576467514, 0.19417010247707367, 0.1970016360282898, 0.1408829689025879, -0.20063555240631104, 0.2983449697494507, -0.2560182809829712, 0.20369699597358704, -0.513143002986908, 0.2654392123222351, -0.052985113114118576, -0.16862700879573822, -0.3664093613624573, 0.227594256401062, 0.20063014328479767, -0.2235361486673355, 0.9211313724517822, -0.132714182138443, 0.24251942336559296, -0.28374359011650085, -0.46086958050727844, 0.06959427893161774, 0.4824390411376953, 0.3552611768245697, -4.655203819274902, 0.6498163342475891, -0.31916749477386475, -0.18236932158470154, -0.36344102025032043, 0.08768617361783981, -0.13638027012348175, -0.08570994436740875, 0.06056438386440277, -0.23093008995056152, 0.15887287259101868, -0.04700927436351776, -0.1771891862154007, -0.42613229155540466, 0.33053845167160034, -0.007796761114150286], [0.6484487056732178, 0.25659823417663574, -0.3002198040485382, 0.21414338052272797, -0.1292828768491745, -0.1935265064239502, 0.1795242726802826, 0.1241556853055954, -0.19396452605724335, 0.052391670644283295, 0.31672486662864685, 0.1776239573955536, 0.04742519184947014, -0.07979854196310043, 0.0646962970495224, 0.15149091184139252, 0.21392281353473663, 0.6120859384536743, -0.10008721798658371, -0.5415059328079224, -0.6705514192581177, 0.21230387687683105, 0.10154195874929428, 0.1548701673746109, 0.4113903343677521, -0.15861931443214417, 0.37637871503829956, 0.30752864480018616, 0.1260448396205902, 0.17590241134166718, 0.07974816113710403, -0.13944900035858154, 0.15179434418678284, -0.21321074664592743, -0.5223620533943176, -0.2720506489276886, -0.08224364370107651, 0.05868721753358841, -0.22215062379837036, -0.6163292527198792, -0.611303448677063, 0.3642875552177429, -0.10754083096981049, 0.5967914462089539, -0.34282320737838745, -0.19449858367443085, -1.6703076362609863, 0.009197202511131763, -0.10095497965812683, -0.056295935064554214, 0.2595897614955902, 0.6304958462715149, 0.26063913106918335, 0.5236965417861938, -0.1298910528421402, 0.5565465688705444, 0.05096594616770744, 0.3659968078136444, -0.186243936419487, -0.19845536351203918, 0.5968817472457886, 0.2690398693084717, -0.19457384943962097, 0.1673867106437683, 0.02274816296994686, 0.18830111622810364, -0.10831384360790253, -0.024692824110388756, 0.020447509363293648, 0.2428881824016571, -0.24678726494312286, -0.4591277837753296, -0.2851015329360962, -0.007577689830213785, -0.14616572856903076, -0.03461044281721115, 0.4371302127838135, -0.038036100566387177, 0.05952644720673561, 0.021858489140868187, -0.2869769334793091, 0.5017054080963135, 0.28203532099723816, -0.38562384247779846, 0.10415513068437576, -0.09269726276397705, -0.5196777582168579, 0.0793858990073204, 0.3602685332298279, -0.06865880638360977, -0.19420494139194489, -0.25275492668151855, 0.02327726036310196, 0.370124876499176, 0.3120533525943756, -0.10483697056770325, 0.15748564898967743, -0.1583166867494583, -0.12354658544063568, 0.2069312334060669, -0.11221295595169067, -0.24254904687404633, 0.42640650272369385, -0.32684648036956787, -0.2153002768754959, -0.12121105194091797, 0.22793464362621307, -0.25012004375457764, 0.429203063249588, -0.8713513016700745, -0.2783186733722687, 0.20135842263698578, -0.2034693956375122, -0.17477451264858246, 0.01717527210712433, 0.25766757130622864, 0.23973384499549866, 0.12997055053710938, -0.20306065678596497, 0.09432294964790344, -0.25996097922325134, 0.5449663400650024, 0.4678688049316406, -0.3429902195930481, 0.07218142598867416, -0.002687628846615553, 0.18010467290878296, 0.0892396867275238, -0.6408762335777283, -0.20914794504642487, 0.4731738269329071, 0.5535939335823059, 0.0807279646396637, -0.07858940213918686, -0.09265457838773727, 0.05378312990069389, 0.08329404145479202, 0.5324487686157227, 0.041139278560876846, -0.07951438426971436, -0.25813353061676025, 0.33867424726486206, -1.8412729501724243, 0.0781312882900238, 0.2724849283695221, -0.657099187374115, 0.31654679775238037, -0.4979212284088135, 0.009441133588552475, 0.13501320779323578, 0.047184545546770096, 0.27307984232902527, -0.12995126843452454, 0.05944483354687691, 0.03287776932120323, -0.08539565652608871, -0.3955673277378082, -0.11555767059326172, 0.44824424386024475, -0.32576555013656616, 0.026810212060809135, -0.14827995002269745, 0.05526135861873627, -0.13370098173618317, 0.007985610514879227, -0.3382388949394226, 0.42268311977386475, 0.16335801780223846, -0.0009111538529396057, 0.3669131100177765, -0.4387664198875427, 0.13746216893196106, -0.1700447052717209, -0.49499401450157166, -0.1358211487531662, -0.07964832335710526, 0.4849090576171875, 0.2758663594722748, 0.10586149990558624, -0.08753610402345657, -0.46434640884399414, 0.20856544375419617, -0.08611676096916199, -0.28991687297821045, -0.10077980160713196, 0.18204866349697113, 0.3455742597579956, 0.2550736963748932, -0.24923177063465118, -0.0009476154227741063, -0.3101203143596649, -0.27788862586021423, 0.5247228145599365, -0.32423722743988037, 1.203004002571106, -0.6558941006660461, -0.1257103979587555, 0.9848430752754211, 0.07678006589412689, 0.38212820887565613, -0.1679091602563858, 0.2673085927963257, 0.34852758049964905, -0.524431049823761, -0.3724607527256012, 1.9718782901763916, 0.14248335361480713, 0.3189930021762848, -0.07024196535348892, 0.07766836136579514, 0.3324861526489258, -0.054623715579509735, -0.034634772688150406, 0.02685801312327385, -0.5306718945503235, 0.18609429895877838, -0.10727694630622864, 0.5579255819320679, 0.05343111604452133, -0.19580121338367462, 0.3165070414543152, -0.21219299733638763, 0.2833518385887146, -0.062428925186395645, -0.23690107464790344, 0.19817157089710236, 0.027739839628338814, 0.656582772731781, 0.2644844353199005, -1.271135687828064, -0.4027484655380249, 0.3484724164009094, 0.14322511851787567, -0.24088475108146667, 0.05024686083197594, -0.09017223864793777, -0.30816391110420227, 0.01106064673513174, 0.025370819494128227, 0.41738471388816833, 0.04750553146004677, -0.07256157696247101, -0.011616582050919533, 0.5262368321418762, -0.28141364455223083, 0.32819563150405884, -0.30753254890441895, 0.6103820204734802, 0.09530986100435257, 0.03954781964421272, -0.020801272243261337, 0.3525238633155823, -0.0046810489147901535, 0.01948460377752781, -0.30832213163375854, 0.1942751258611679, -0.7270112037658691, 0.0821441188454628, 0.3717299699783325, 0.007889628410339355, -0.08816011250019073, 0.233682319521904, -0.02256738767027855, -0.008883070200681686, -0.1803930550813675, -0.059511058032512665, -0.23750565946102142, -1.133431077003479, 0.17776915431022644, 0.6864004135131836, 0.2690944969654083, 0.4433603882789612, -0.08847961574792862, -1.9963059425354004, 0.14673052728176117, -0.04692080616950989, 0.3884420394897461, 0.09789253026247025, -0.08163154870271683, 0.16092002391815186, -0.10455560684204102, 0.8258495330810547, 0.23374956846237183, -0.47953101992607117, 0.0012516611022874713, -0.41260138154029846, 0.4858641028404236, -0.06367892771959305, 0.23031489551067352, 0.027686910703778267, 0.1555505245923996, 0.20791789889335632, -0.08061795681715012, -0.19423708319664001, 0.7302989363670349, 0.2922546863555908, 0.1161496639251709, -0.24216406047344208, -0.06996840238571167, -0.10615378618240356, 0.0967734158039093, 0.11305136233568192, -0.27729928493499756, 0.22346024215221405, 0.3387719988822937, 0.13811005651950836, -0.4093729555606842, 0.0014733774587512016, -5.673423767089844, 0.03461835905909538, -0.44154247641563416, -0.13396857678890228, -0.24141250550746918, 0.1447572410106659, 0.1490759253501892, -0.2926689386367798, -0.14490917325019836, -0.178560271859169, -0.11302151530981064, 0.1360795646905899, -0.05944123491644859, 0.5205782651901245, 0.15645505487918854, 0.2914186120033264, 0.5446150302886963, 0.19479703903198242, -0.29593703150749207, 0.45282870531082153, -0.07909390330314636, 0.13296593725681305, 0.12831050157546997, 0.1124652773141861, 0.604597270488739, 0.6380133032798767, -0.3106318712234497, 0.17006409168243408, -0.0956755056977272, -0.08219774067401886, -0.037628449499607086, 0.03589821606874466, 0.23802481591701508, -0.1373850554227829, 0.01382489874958992, -0.29520362615585327, 0.8559762239456177, 0.41718432307243347, -0.10008684545755386, 0.6938343644142151, -0.39355045557022095, 0.23673078417778015, 0.1594548374414444, 0.1217656061053276, 0.01471735630184412, 0.26012909412384033, -0.2740922272205353, -0.20983779430389404, -0.31688299775123596, 0.27723249793052673, -0.2724369168281555, 0.07142701745033264, 0.9952694773674011, 0.029280776157975197, 0.06148633360862732, -0.18990643322467804, 0.30797573924064636, -0.22382594645023346, -0.5940805077552795, -0.04909270256757736, 0.33662936091423035, -0.28625544905662537, -0.018481917679309845, -0.6954535841941833, -0.11167342960834503, 0.055454496294260025, -0.4312134385108948, -0.12427870184183121, 0.28611230850219727, 0.32842114567756653, -0.27115267515182495, 0.09116853773593903, 0.24160446226596832, -0.9979473352432251, 0.13885292410850525, 0.14413908123970032, -0.18863599002361298, 0.28690457344055176, 0.08462980389595032, -0.08887763321399689, -0.4911366105079651, -0.3390715420246124, -0.38103389739990234, 0.11679860204458237, 0.2045801877975464, -0.49452337622642517, -0.312650203704834, 0.045625098049640656, -0.5628282427787781, 0.35979849100112915, 0.8083833456039429, 0.027011429890990257, 0.2470254898071289, 0.5500829219818115, 0.6069178581237793, 0.35570573806762695, 0.09390277415513992, -0.83717280626297, 0.22774511575698853, -0.2522977590560913, 0.44377440214157104, 0.3543705940246582, -0.014240751042962074, -0.3092992603778839, -0.5047898292541504, -0.07048605382442474, -0.6296632885932922, 0.6574779152870178, 0.3946981430053711, -0.21569104492664337, -0.5395153164863586, 0.37003570795059204, -0.5815175771713257, 0.12622542679309845, 0.665464460849762, -0.05903223901987076, -0.07049385458230972, 0.2474917769432068, -0.028765656054019928, -0.23915281891822815, -0.003956660628318787, 0.572044312953949, -0.08665789663791656, -0.7242282032966614, -0.025572584941983223, 0.023719672113656998, 0.12342353165149689, -0.4613281190395355, 0.154109925031662, 0.22150997817516327, -0.031794436275959015, -0.12122833728790283, 0.05941852554678917, -0.3750765025615692, -0.3189225196838379, -0.22965632379055023, -0.22964231669902802, -0.04536248743534088, -0.04246887192130089, -0.07569605112075806, -0.32816630601882935, -0.11146879941225052, 0.3500984311103821, 0.23812329769134521, 0.4237572252750397, 0.056702472269535065, -0.1604733169078827, 0.4306989014148712, 0.08326129615306854, 0.1224474310874939, -0.4428371489048004, 0.20542362332344055, 0.05185111239552498, 0.09544089436531067, -0.0637039989233017, -0.11279930919408798, 0.28106963634490967, 0.17133009433746338, 0.2317657470703125, -0.19364434480667114, 0.36422061920166016, -0.6480626463890076, -1.0669797658920288, 0.21396975219249725, 0.5628154873847961, 0.16229766607284546, -0.5538377165794373, 0.1969386339187622, -0.008782830089330673, 0.5644367337226868, 0.32159900665283203, -0.12698324024677277, -0.026907185092568398, 0.15525415539741516, -0.09241835027933121, -0.09848346561193466, 0.04650329798460007, -0.11134325712919235, 0.0021735806949436665, -0.1880495399236679, 0.23034697771072388, -0.3795470595359802, 0.06630507856607437, 0.14266477525234222, 0.31392380595207214, -0.1639460176229477, 0.13841910660266876, 0.12747281789779663, -0.730850100517273, -0.11763426661491394, 0.030523361638188362, -0.1584140509366989, 0.5088194608688354, -0.2826322913169861, -0.4748972952365875, -0.18398241698741913, 0.24379336833953857, -0.2631966471672058, 0.056539326906204224, 0.006371124181896448, 0.1332482546567917, -0.1188238337635994, -0.6365293860435486, 0.12566255033016205, 0.13486012816429138, -0.6054434180259705, 0.26298579573631287, -0.35471683740615845, -0.3932149112224579, 0.6130787134170532, -0.21393024921417236, -0.23569180071353912, -0.19061285257339478, -0.03596010431647301, -0.24766798317432404, 0.139045849442482, 0.07782541960477829, -0.07426232099533081, 0.10838889330625534, -0.26778823137283325, 0.15349642932415009, -0.16110101342201233, -0.30987548828125, -0.3291633427143097, 0.14557698369026184, 0.36527425050735474, 0.14630191028118134, -0.6440690755844116, 0.1592072695493698, -0.31985417008399963, -0.1636190563440323, 0.003635355271399021, 0.11991553008556366, -0.21552161872386932, -0.39273202419281006, -0.2853102684020996, 0.23058564960956573, 0.08726880699396133, -0.0038052487652748823, 0.3197728395462036, 0.28571227192878723, 0.2231302708387375, 0.11373846232891083, -0.19333608448505402, 0.08773276954889297, 0.3373870849609375, 0.16508150100708008, -0.2717909514904022, -0.5484955310821533, -0.29510095715522766, 0.5080958008766174, -0.3889530599117279, -0.1144862249493599, -0.4018869996070862, 0.24711371958255768, 0.20722204446792603, -0.1215369701385498, 0.21473443508148193, 0.12170930951833725, 0.36116471886634827, 0.056103479117155075, 0.3393842279911041, -0.466711163520813, 0.08610018342733383, 0.35867321491241455, -0.022500351071357727, -0.2247844636440277, -0.2511439323425293, 0.6130011677742004, -0.325760155916214, -0.19034448266029358, -0.43428558111190796, -0.07322660833597183, 0.4962446391582489, 0.30526408553123474, -0.1441795974969864, -0.4668620228767395, -0.1756899207830429, 0.35287928581237793, 0.11014338582754135, 0.8770435452461243, 0.26343414187431335, -0.38508397340774536, -0.5899534225463867, -0.08565942943096161, -0.08713933825492859, 0.24066120386123657, 0.17365029454231262, 0.051036883145570755, 0.22252948582172394, -0.4623744487762451, 0.09110789746046066, -0.05318420007824898, -0.1947067677974701, 0.34994885325431824, 0.3732794225215912, -0.10665655881166458, -0.25730887055397034, -0.04610646888613701, -0.38999539613723755, -0.5070480704307556, 0.25610029697418213, 0.79278564453125, -0.1184491440653801, 0.6325525045394897, 0.09451427310705185, 0.1084144338965416, 0.19050690531730652, 0.006285990122705698, -0.19905173778533936, -0.044761091470718384, 0.0935949832201004, -0.2978505492210388, 0.4870675206184387, -0.4991447627544403, -0.2876473367214203, 0.405729204416275, -0.4794005751609802, 0.17007732391357422, 0.1376577764749527, 0.06312248855829239, -0.35573533177375793, 0.6554283499717712, 0.11406547576189041, -0.2588944733142853, 0.11074265092611313, -0.3913886845111847, -0.07786556333303452, -0.22621384263038635, -0.05554576590657234, 0.4022931754589081, 0.8085488677024841, -0.062050387263298035, -0.23841717839241028, 0.05788412690162659, -0.19131506979465485, 0.38329991698265076, -0.32407912611961365, 0.22716772556304932, 0.38049450516700745, 0.35666218400001526, -0.07500346750020981, 0.12440013885498047, -0.04615848511457443, -0.30821678042411804, 0.10381180047988892, 0.32321488857269287, -0.3128799796104431, -0.38071900606155396, 0.10731378942728043, 0.15775632858276367, 0.1929447054862976, -0.015907710418105125, -0.012582821771502495, -0.0019238997483626008, -0.2390296906232834, 0.09059851616621017, -0.22117333114147186, 0.055734362453222275, -1.5080530643463135, -0.1899162381887436, 0.3095415532588959, 0.076108917593956, -0.01974845491349697, 0.48217806220054626, 0.7437402009963989, -0.22741751372814178, 0.14438073337078094, -0.0668715313076973, 0.20140860974788666, -0.303994745016098, 0.16725651919841766, -0.1288001984357834, 0.014870204962790012, -0.1204548180103302, -0.017166392877697945, -0.03920247033238411, 0.14306972920894623, 0.3760717809200287, 0.03821941092610359, -0.15502002835273743, -0.28820326924324036, -0.5141083002090454, -0.1791449785232544, 0.4560098648071289, -0.03106475993990898, 0.040183376520872116, -0.06590792536735535, -0.1457129567861557, -0.3430769741535187, -0.05591023340821266, -0.37782931327819824, -0.44308415055274963, 0.37379351258277893, -0.43016576766967773, -0.03533978760242462, -0.34687575697898865, 0.6704549193382263, 0.1554095596075058, -0.16546574234962463, -0.06485657393932343, -0.4114091396331787, 0.0044463155791163445, 0.5672427415847778, -0.5235934853553772, 0.6666660904884338, -0.2823218107223511, 0.025230873376131058, -0.593140184879303, 0.30517375469207764, -0.0857786163687706, 0.1129201203584671, 0.12704412639141083, -0.2587147057056427, 0.2274172455072403, 0.16476024687290192, 0.08646020293235779, -0.2666337788105011, 0.15853974223136902, 0.2815794050693512, 0.15012779831886292, 0.6187343597412109, -0.11967094987630844, 0.31247448921203613, -0.20178526639938354, 0.06638823449611664, -0.32915836572647095, 0.14859551191329956, -0.6504626274108887, -0.2158171534538269, -0.28601011633872986, -0.27125439047813416, -0.34117695689201355, 0.47513332962989807, 0.25850915908813477, 0.514214038848877, 0.7972248792648315, -0.13413432240486145, 0.015683291479945183, -0.3662220537662506, -0.19737429916858673, -0.07168460637331009, 0.18427368998527527, 0.3659580945968628, -4.462320804595947, 0.28670334815979004, 0.09615246951580048, -0.26004138588905334, -0.04375050216913223, 0.2927035391330719, -0.14896628260612488, -0.3086601793766022, 0.23890654742717743, 0.0017706354847177863, 0.003357168287038803, 0.5308617353439331, -0.029874255880713463, -0.3272594213485718, 0.28486159443855286, 0.1559397280216217], [0.42004629969596863, 0.2273925393819809, -0.3178039491176605, 0.2148059606552124, -0.02855256013572216, 0.36154910922050476, -0.08131814748048782, 0.5090610980987549, -0.5220199227333069, 0.0009197073522955179, 0.3193252682685852, 0.26314789056777954, -0.06383749842643738, -0.07701874524354935, 0.13950592279434204, 0.3768203556537628, 0.1960640698671341, 0.6980289220809937, 0.08654581755399704, -0.41283807158470154, 0.17802725732326508, 0.13075318932533264, 0.02049638144671917, -0.1574060320854187, 0.2735731601715088, 0.09485621005296707, 0.36817026138305664, -0.01594850979745388, 0.05170322582125664, -0.006396596319973469, -0.06548383831977844, 0.13860520720481873, 0.07123056054115295, -0.17395879328250885, -0.013249611482024193, -0.11931648850440979, 0.16333192586898804, 0.1833871603012085, 0.2022663801908493, -0.07119918614625931, -0.5110628008842468, -0.2801785469055176, 0.028702082112431526, 0.5841333866119385, 0.046633899211883545, -0.36797967553138733, -2.1175308227539062, -0.05942028760910034, -0.007115378975868225, -0.11133335530757904, 0.11011745780706406, 0.675032913684845, 0.04969460889697075, 0.5695787668228149, 0.03896727040410042, -0.022804757580161095, 0.08967441320419312, 0.4286254346370697, -0.3810642957687378, -0.19780895113945007, 0.18073707818984985, 0.31266656517982483, 0.05123623460531235, 0.23162133991718292, -0.12045303732156754, 0.8705500960350037, 0.34065011143684387, 0.3689241409301758, -0.14192214608192444, 0.1846320480108261, 0.19012334942817688, -0.4704032838344574, -0.2204969823360443, 0.19437077641487122, -0.18467873334884644, -0.13256563246250153, -0.1144423633813858, 0.08895780891180038, 0.1032177209854126, 0.2054310441017151, 0.1431341916322708, -0.03132049739360809, 0.30864623188972473, -0.023029474541544914, 0.3612312972545624, 0.07763948291540146, 0.12248452752828598, 0.022876594215631485, -0.06894586980342865, 0.4772334694862366, -0.6237476468086243, -0.1879424899816513, 0.7096387147903442, 0.4323735237121582, 0.029233664274215698, 0.026036471128463745, 0.5701544880867004, -0.22980564832687378, 0.004151429049670696, 0.4694252908229828, -0.09284457564353943, -0.21760106086730957, -0.11691273748874664, -0.34327515959739685, -0.46009233593940735, -0.37248605489730835, 0.036502476781606674, -0.5568951368331909, 0.17396409809589386, -1.2824314832687378, -0.5601001977920532, 0.1183934360742569, -0.1431102454662323, 0.06569430232048035, -0.3041022717952728, 0.2852189242839813, 0.6636991500854492, -0.1128649190068245, -0.15334664285182953, 0.1982199102640152, -0.3376927971839905, 0.5651946663856506, 0.07453086227178574, -0.12122665345668793, 0.3518535792827606, -0.18735960125923157, 0.24754466116428375, -0.27856987714767456, 0.006883683614432812, -0.06760425120592117, 0.3897469937801361, 0.295820027589798, -0.28746044635772705, 0.20532582700252533, -0.20282141864299774, -0.3284826874732971, 0.2409764528274536, 0.10677723586559296, -0.12296285480260849, -0.34686967730522156, -0.5924711227416992, -0.26913872361183167, -1.8251456022262573, 0.1454305648803711, 0.5166967511177063, -0.14626768231391907, -0.06341377645730972, -0.43467947840690613, 0.5276256799697876, -0.2813971936702728, 0.014972232282161713, 0.4999818205833435, -0.3650839626789093, 0.36394593119621277, -0.3837754428386688, -0.43758437037467957, -0.34478068351745605, -0.746069610118866, 0.282153844833374, 0.14792868494987488, 0.31278738379478455, -0.6699944138526917, 0.04662308841943741, 0.014247331768274307, -0.003038667142391205, 0.1140144094824791, 0.31565406918525696, 0.2214358150959015, 0.0064656734466552734, 0.07470063120126724, -0.49340692162513733, 0.03755969554185867, 0.23540152609348297, -0.16120368242263794, -0.2879994809627533, -0.01584911160171032, -0.029728541150689125, -0.0001969917502719909, -0.23913156986236572, -0.04630134999752045, -0.28088825941085815, 0.3380751311779022, -0.23385655879974365, -0.2985888123512268, 0.004815276246517897, 0.33331358432769775, 0.2006363421678543, 0.001345334341749549, -0.3964560925960541, 0.04454788938164711, -0.020244166254997253, -0.10727015882730484, 0.35266822576522827, -0.001508578541688621, 0.7442920207977295, -0.9113849401473999, -0.15904490649700165, -0.21670250594615936, 0.25207799673080444, 0.2734639048576355, 0.10401483625173569, -0.5001252293586731, -0.13837376236915588, 0.13843785226345062, -0.6952692866325378, 2.091413736343384, -0.09631054103374481, 0.19323793053627014, 0.2986237704753876, 0.24907511472702026, -0.30565229058265686, -0.393948495388031, -0.43586432933807373, 0.08749599754810333, -0.5691896677017212, 0.3191991448402405, -0.16911013424396515, 0.4508131444454193, 0.1765635907649994, -0.10671952366828918, 0.2209053933620453, -0.16965997219085693, 0.6783422827720642, 0.04729307070374489, -0.37367674708366394, 0.22684171795845032, 0.4093173146247864, 0.2839905023574829, -0.08841508626937866, -1.0895689725875854, 0.05151999369263649, 0.27472251653671265, 0.1247788742184639, -0.14698602259159088, -0.3220871388912201, -0.26237788796424866, -0.11162776499986649, -0.23286990821361542, 0.5486592650413513, -0.09551701694726944, -0.29912474751472473, 0.28198152780532837, 0.47044846415519714, 0.43202731013298035, -0.11561781913042068, 0.2887641489505768, -0.15243519842624664, 0.03381512686610222, -0.08709101378917694, 0.006981465499848127, -0.03384193405508995, 0.3168603181838989, 0.27496880292892456, -0.22370684146881104, 0.47777101397514343, -0.00832418818026781, -0.11330388486385345, 0.5024834275245667, -0.10530803352594376, -0.3966509997844696, -0.19163334369659424, -0.10182061046361923, -0.18847410380840302, 0.42894211411476135, -0.3634181320667267, -0.00534475315362215, 0.039259396493434906, -0.8439539074897766, 0.6037737727165222, 0.586542546749115, 0.14828045666217804, 0.04348811134696007, -0.0692083090543747, -2.665996551513672, 0.12447454035282135, 0.07056222856044769, 0.24506156146526337, 0.36159026622772217, 0.03083239123225212, 0.3899381160736084, 0.2028806060552597, 0.22885076701641083, -0.07381059229373932, 0.20935213565826416, 0.27953195571899414, -0.5373263955116272, 0.35989847779273987, -0.1934337615966797, 0.2695726454257965, -0.13091744482517242, -0.07650976628065109, -0.22515764832496643, -0.5702300071716309, -0.07968048006296158, 0.7154898643493652, -0.2114519625902176, 0.28966620564460754, 0.09097374230623245, 0.11327266693115234, -0.34926483035087585, 0.4009760618209839, 0.10262340307235718, -0.26227185130119324, -0.15716490149497986, 0.19390547275543213, 0.021560532972216606, -0.4384046494960785, -0.10533114522695541, -5.141091823577881, 0.2891349494457245, -0.16111759841442108, 0.28768032789230347, 0.14073528349399567, -0.2894752025604248, 0.5016459226608276, -0.13357426226139069, -0.2888053059577942, -0.03414367884397507, -0.009224689565598965, 0.061049118638038635, -0.029710570350289345, 0.4185963571071625, -0.253788024187088, 0.17108042538166046, 0.4514893591403961, 0.0747755616903305, -0.12791720032691956, 0.404817670583725, -0.5190821886062622, 0.39378994703292847, -0.25050967931747437, -0.06137290224432945, -0.012441211380064487, 0.7336867451667786, -0.6128091812133789, -0.02436109259724617, -0.05354234576225281, -0.021319808438420296, 0.24150869250297546, -0.2534865438938141, -0.15547794103622437, 0.13035544753074646, -0.027342792600393295, -0.49634939432144165, -0.014714470133185387, 0.06415688246488571, 0.09446899592876434, 0.5823941230773926, 0.09012550860643387, 0.4076196849346161, 0.3574715554714203, 0.11219491064548492, 0.5545669198036194, 0.19043304026126862, -0.5146379470825195, -0.4647168517112732, -0.3590315878391266, -0.06898049265146255, 0.3296453356742859, -0.09732969850301743, 1.2585694789886475, 0.31482213735580444, 0.05917889624834061, 0.09124653786420822, 0.17628145217895508, -0.035657159984111786, -0.25978752970695496, 0.0045961071737110615, 0.22119340300559998, -0.18537069857120514, 0.2520016133785248, -0.19714058935642242, -0.18090742826461792, -0.24619518220424652, -0.6517978310585022, -0.21084809303283691, -0.0226863045245409, 0.118410125374794, -0.46635138988494873, 0.007620940450578928, -0.08438906073570251, -0.8943735361099243, -0.05798039585351944, 0.40529489517211914, -0.47446826100349426, 0.8062083125114441, -0.20533019304275513, -0.10518182069063187, -0.45666712522506714, -0.42349088191986084, -0.3665059804916382, 0.09450285136699677, -0.18805904686450958, -0.5326153039932251, 0.022890998050570488, 0.37318456172943115, -0.4265846312046051, 0.2426605373620987, 0.2983080744743347, 0.11353492736816406, 0.06781663745641708, 0.4939570128917694, 0.05240219458937645, 0.7665788531303406, 0.3590444028377533, -0.6635112762451172, 0.0005158644635230303, 0.3408660888671875, 0.42387107014656067, -0.43134239315986633, -0.38218656182289124, 0.10654820501804352, -0.3147496283054352, 0.023513751104474068, -0.5172862410545349, 0.38865038752555847, 0.6814265251159668, -0.15463124215602875, 0.09882722049951553, -0.10958157479763031, -0.5886741876602173, 0.056897200644016266, 0.7318513989448547, -0.42120644450187683, -0.18780788779258728, 0.24138741195201874, 0.2907351851463318, 0.22987738251686096, -0.03813454508781433, 0.2642683982849121, -0.1701403111219406, -0.3509797155857086, -0.3179146647453308, -0.03510765731334686, -0.6042917966842651, -0.5789995193481445, 0.08051290363073349, 0.21829761564731598, 0.5479958653450012, 0.44497886300086975, -0.4454045593738556, -0.07284549623727798, 0.04698031768202782, 0.020518096163868904, 0.14792650938034058, -0.19028796255588531, -0.17279458045959473, -0.7748920917510986, -0.1438928246498108, 0.17650790512561798, -0.0193769671022892, 0.41616812348365784, 0.20975935459136963, 0.32651790976524353, -0.4569271206855774, 0.02769065462052822, -0.026368454098701477, -0.27053022384643555, -0.3394128680229187, -0.039801500737667084, 0.21278893947601318, -0.12358026206493378, 0.2347661852836609, 0.42129695415496826, 0.3484048545360565, 0.08505798876285553, -0.11182010918855667, 0.230909064412117, 0.30110299587249756, -0.38487085700035095, -1.3463019132614136, 0.07430059462785721, 0.352136492729187, -0.22884126007556915, -0.2043030560016632, 0.019698917865753174, -0.01986173540353775, 0.6167494058609009, -0.05420498177409172, -0.1567869633436203, 0.0008665714412927628, -0.1375482678413391, 0.05740797892212868, -0.10206609219312668, 0.14198854565620422, -0.12155917286872864, 0.3178916871547699, -0.5034959316253662, -0.3968360424041748, -0.3759635090827942, 0.06633558869361877, 0.6178403496742249, 0.3880407214164734, -0.04284289851784706, 0.43809646368026733, 0.05304355174303055, -0.3759980797767639, -0.04781271889805794, -0.2722455561161041, 0.09496112167835236, 0.05968725308775902, 0.07935911417007446, -0.3120720088481903, -0.2974109351634979, 0.15548200905323029, 0.13700956106185913, 0.1449389010667801, 0.24597232043743134, 0.22822360694408417, 0.5291222929954529, -0.4274642765522003, 0.4348456859588623, 0.38282889127731323, -0.3484512269496918, 0.5132346153259277, 0.28652071952819824, -0.522229790687561, 0.24871449172496796, -0.49441665410995483, -0.7231011390686035, -0.48896676301956177, 0.1357812136411667, -0.03771578520536423, -0.30454087257385254, -0.1736772358417511, -0.17798279225826263, 0.0345035046339035, -0.005823130719363689, 0.22236868739128113, -0.06713587790727615, 0.1323125809431076, -0.4303758144378662, 0.1333526223897934, 0.614673376083374, 0.04616192728281021, -0.4158146381378174, -0.14790962636470795, -0.0014434236800298095, -0.2881499230861664, 0.15876445174217224, 0.39575037360191345, 0.07622881978750229, -0.055099159479141235, -0.30800557136535645, -0.018261952325701714, 0.272235244512558, -0.06963244080543518, -0.015941958874464035, 0.3112542927265167, 0.05925896018743515, 0.24357368052005768, -0.4266163110733032, -0.3161463439464569, -0.0824526995420456, 0.3095591962337494, -0.23616768419742584, -0.379643052816391, -0.3088997006416321, 0.38001880049705505, -0.3536991775035858, 0.13403737545013428, -0.12857185304164886, 0.46623504161834717, 0.09458712488412857, -0.4985380172729492, -0.19190934300422668, -0.05609709024429321, 0.398136168718338, -0.127249613404274, 0.1906018853187561, 0.10339738428592682, 0.22238285839557648, 0.1843767613172531, 0.07312440127134323, 0.08888841420412064, -0.2530430555343628, 0.4663909077644348, -0.30717334151268005, -0.1926800012588501, -0.08986569195985794, 0.010326252318918705, 0.17954686284065247, -0.23687633872032166, 0.009112684987485409, -0.3690013885498047, -0.26369887590408325, -0.10427863150835037, -0.1030440405011177, 1.2172605991363525, 0.14857321977615356, -0.3134264647960663, -0.5680331587791443, 0.1939801573753357, 0.1631155014038086, -0.1267416775226593, -0.016685932874679565, -0.19141285121440887, 0.5260481238365173, -0.09008254110813141, 0.38289591670036316, 0.021476199850440025, -0.12722881138324738, 0.9911451935768127, 0.39306068420410156, 0.17826367914676666, 0.015155889093875885, -0.11293324828147888, -0.24666179716587067, -0.797886312007904, 0.46195483207702637, 0.37195059657096863, -0.1466405838727951, 0.032474957406520844, 0.45740219950675964, -0.17711563408374786, 0.31110596656799316, -0.17997196316719055, 0.19694799184799194, -0.07550378888845444, -0.1732669174671173, 0.14155350625514984, 0.2852743864059448, -0.27119824290275574, -0.14049580693244934, 0.4254227578639984, -0.44100427627563477, 0.05286466330289841, 0.26886287331581116, -0.01603923738002777, -0.4771522283554077, 1.0862889289855957, 0.5539579391479492, -0.2340800166130066, 0.2517629861831665, -0.14300426840782166, -0.18176941573619843, -0.050437673926353455, 0.4477691948413849, 0.22820499539375305, 0.950951337814331, 0.20638740062713623, -0.04736923426389694, -0.06445532292127609, -0.1600607931613922, 0.13340109586715698, -0.3880375623703003, -0.2593636214733124, 0.33607861399650574, 0.20672111213207245, -0.04480155557394028, 0.043648235499858856, -0.2982344627380371, -0.16189880669116974, 0.5001519918441772, 0.0815965086221695, -0.10304456949234009, 0.1951928734779358, -0.1539071947336197, -0.11280084401369095, 0.147691011428833, -0.37594279646873474, -0.0985679104924202, -0.1700473576784134, 0.37421467900276184, 0.2791142165660858, -0.21399135887622833, -0.5486230254173279, -2.1940741539001465, 0.12481735646724701, -0.1935611218214035, -0.2749987542629242, -0.17275670170783997, 0.053071536123752594, 0.5714371800422668, -0.04473249241709709, 0.5262801647186279, -0.04648246616125107, 0.43448033928871155, -0.6023740768432617, 0.3974073827266693, 0.002243105322122574, -0.06302090734243393, 0.25929710268974304, 0.06184421479701996, -0.26732200384140015, 0.14526762068271637, 0.03817683830857277, 0.22791486978530884, 0.1458331048488617, 0.15466953814029694, -0.37012583017349243, -0.02013256959617138, 0.08537543565034866, 0.20966659486293793, 0.009827624075114727, -0.4298902451992035, 0.03800546005368233, -0.3118661344051361, 0.2403213381767273, -0.6563912034034729, -0.09272222965955734, 0.35666224360466003, -0.09178036451339722, -0.028681669384241104, -0.08445321768522263, 0.7568366527557373, 0.28510135412216187, 0.16325458884239197, -0.060412272810935974, -0.28147798776626587, 0.3661496639251709, 0.514598548412323, -0.21222658455371857, 0.6475047469139099, -0.28956368565559387, -0.5516353249549866, -0.6823927164077759, -0.13132788240909576, 0.3769875764846802, -0.3575885593891144, 0.29005056619644165, -0.3776881694793701, 0.12052907049655914, 0.23731586337089539, 0.1956803798675537, -0.4419557452201843, -0.15613976120948792, -0.15387463569641113, 0.6456604599952698, -0.1653035432100296, 0.4412462115287781, 0.18598957359790802, -0.30428194999694824, 0.48776775598526, 0.0869181826710701, -0.2538193464279175, -0.21791884303092957, 0.07135547697544098, -0.16800673305988312, 0.027167318388819695, 0.3001399338245392, -0.03987778723239899, 0.15146376192569733, -0.1219090148806572, 0.7747189402580261, -0.29146894812583923, 0.3028591573238373, -0.2636696696281433, -0.2848920226097107, -0.06948958337306976, 0.3561301529407501, 0.1846410632133484, -5.4184699058532715, 0.8572429418563843, -0.24739065766334534, -0.17270906269550323, -0.2865268290042877, 0.19787199795246124, 0.07343097031116486, -0.03814787417650223, 0.22452092170715332, -0.14336183667182922, 0.06612430512905121, 0.4492960274219513, -0.003070813836529851, -0.24917960166931152, 0.12919628620147705, 0.27504202723503113], [0.4264143109321594, -0.17967718839645386, -0.6434247493743896, 0.25085049867630005, 0.035816773772239685, 0.09068145602941513, 0.5960693359375, -0.4035581946372986, -0.48509681224823, -0.3039485216140747, 0.454135537147522, 0.14955829083919525, -0.14351369440555573, -0.043748389929533005, -0.009757159277796745, -0.004158507566899061, 0.4541216194629669, 0.6971136331558228, 0.011629265733063221, -0.38957253098487854, -0.6057184338569641, -0.027945777401328087, 0.4011981189250946, -0.038424767553806305, 0.35568538308143616, -0.1766500622034073, 0.45706498622894287, 0.2977967858314514, 0.091221883893013, 0.02164311334490776, -0.048815540969371796, -0.054419733583927155, 0.11401420086622238, -0.41585350036621094, 0.01718408800661564, -0.21513420343399048, -0.17918312549591064, 0.18958505988121033, -0.26560714840888977, -0.32774484157562256, -0.5085354447364807, 0.17554078996181488, -0.4186824560165405, 0.6364060640335083, -0.002822565846145153, -0.5563004612922668, -1.7181048393249512, -0.0272607933729887, 0.31835415959358215, -0.08426373451948166, 0.15346378087997437, 0.4451305866241455, 0.09374891966581345, 0.20503447949886322, -0.09370383620262146, -0.10932193696498871, -0.2581048309803009, 0.40238797664642334, -0.3798094093799591, -0.35195982456207275, 0.017606310546398163, 0.22038660943508148, -0.14867770671844482, 0.16758674383163452, -0.1225721687078476, 0.24739643931388855, 0.388607919216156, 0.1671815812587738, 0.04935561120510101, -0.11942563205957413, 0.10245858877897263, -0.6328909397125244, -0.32280558347702026, 0.2810116410255432, -0.028668828308582306, -0.510351300239563, -0.31514647603034973, 0.03407686948776245, -0.06640699505805969, 0.07550869882106781, 0.3141357898712158, 0.05248850956559181, -0.026903145015239716, -0.2085568904876709, 0.07762117683887482, -0.2659914195537567, -0.20246243476867676, 0.27903300523757935, -0.09414853155612946, -0.028513625264167786, -0.27862635254859924, -0.19245697557926178, 0.7154009342193604, 0.5742121338844299, 0.4324597418308258, 0.3844929039478302, 0.08479515463113785, -0.09192444384098053, -0.00965917482972145, 0.5125258564949036, 0.06499495357275009, -0.6057524085044861, -0.052408162504434586, -0.4559422731399536, -0.17086663842201233, -0.3304138481616974, 0.14664216339588165, -0.7131276726722717, 0.05157763510942459, -1.0508424043655396, -0.4690251052379608, 0.16716909408569336, -0.1011027991771698, -0.027793148532509804, -0.01909642480313778, 0.06610982120037079, 0.478172242641449, 0.2470877766609192, 0.17805325984954834, -0.14800451695919037, -0.2176479548215866, 0.5005098581314087, -0.16898126900196075, -0.13000436127185822, 0.5104151368141174, -0.04747501388192177, 0.19172200560569763, -0.0727669820189476, -0.37982606887817383, -0.1935940533876419, 0.456436425447464, 0.19600063562393188, -0.41791000962257385, -0.021978043019771576, -0.5885230898857117, -0.2199753224849701, 0.27248042821884155, 0.07916474342346191, 0.025694677606225014, -0.4908982217311859, -0.4376768469810486, 0.03468549624085426, -1.0351858139038086, 0.24856619536876678, 0.6089925169944763, -0.3292436897754669, 0.15175282955169678, 0.0016309021739289165, 0.2120966613292694, -0.2271665781736374, -0.14145785570144653, -0.1976524144411087, -0.4456906318664551, 0.31386443972587585, 0.16616782546043396, -0.2024078369140625, -0.5006861686706543, -0.31899961829185486, 0.306527704000473, -0.008432138711214066, 0.35096779465675354, -0.123467355966568, 0.12720485031604767, -0.0649135485291481, 0.16852207481861115, 0.11154583841562271, 0.12244748324155807, 0.39197126030921936, -0.24879692494869232, 0.24131684005260468, -0.56847083568573, 0.29812300205230713, -0.12133321166038513, -0.37927091121673584, -0.2242073118686676, -0.44212624430656433, 0.10902683436870575, 0.34113383293151855, -0.3540339767932892, -0.3536132574081421, -0.4488133490085602, 0.1739518642425537, -0.2579908072948456, -0.21156299114227295, 0.11832587420940399, 0.27607831358909607, 0.19682669639587402, 0.07613048702478409, -0.31362977623939514, -0.02175205387175083, -0.14968428015708923, 0.12065915018320084, 0.10887768864631653, -0.17634348571300507, 0.9454134106636047, -0.8243939876556396, -0.2184923142194748, 0.6950529217720032, 0.20720244944095612, 0.2856350243091583, -0.4377342760562897, -0.14553555846214294, -0.12175540626049042, -0.2752087116241455, -0.5974302291870117, 2.083570718765259, 0.04238859564065933, 0.20739755034446716, 0.19125975668430328, 0.16489171981811523, 0.32802727818489075, -0.21252664923667908, -0.26321497559547424, 0.13294829428195953, -0.36384111642837524, 0.24117209017276764, 0.0036305806133896112, 0.4641665816307068, 0.22057810425758362, 0.06175776198506355, 0.10065627843141556, -0.3611881136894226, 0.5328329205513, 0.013098446652293205, -0.09214016050100327, -0.03142445161938667, 0.5134793519973755, 0.25014862418174744, 0.12160719931125641, -1.3798418045043945, -0.07210581749677658, 0.32238757610321045, 0.008428990840911865, 0.15906673669815063, 0.18127688765525818, -0.23458454012870789, -0.16675613820552826, -0.12599818408489227, 0.12410388886928558, 0.3787508010864258, 0.03547511249780655, 0.0711115300655365, 0.266402006149292, 0.6009855270385742, -0.33954349160194397, 0.4451790750026703, -0.13042552769184113, 0.8152122497558594, 0.16182993352413177, -0.3607936501502991, -0.05620820075273514, 0.5575588345527649, 0.13649140298366547, -0.3246121406555176, 0.22868309915065765, 0.17685504257678986, -0.42337876558303833, 0.19608820974826813, 0.0355423204600811, -0.032552942633628845, -0.02014736272394657, -0.0634882003068924, -0.30855631828308105, 0.33773162961006165, -0.15980665385723114, 0.14145250618457794, -0.08425597101449966, -0.9124220609664917, 0.5734186172485352, 0.8109927177429199, 0.5232158303260803, 0.21807879209518433, -0.10416659712791443, -1.8513282537460327, 0.2062862068414688, 0.15135222673416138, 0.618975043296814, 0.49699878692626953, -0.2156108021736145, 0.3976612091064453, 0.12207981199026108, 0.5356937646865845, 0.20219717919826508, 0.24665617942810059, 0.1208140179514885, -0.4342056214809418, 0.6185730695724487, -0.0950581356883049, 0.0682675838470459, 0.10151118040084839, 0.34092897176742554, 0.07366244494915009, -0.2548607587814331, -0.17692197859287262, 0.6416918635368347, 0.014736374840140343, 0.30680716037750244, 0.02459418773651123, 0.3070206940174103, 0.20026752352714539, 0.29771915078163147, 0.02125130034983158, 0.02751735784113407, 0.2584642469882965, 0.32092005014419556, 0.1342156082391739, -0.019086329266428947, -0.003031589090824127, -5.796515941619873, -0.38285624980926514, 0.02581910789012909, 0.3602757453918457, -0.39976656436920166, -0.20617108047008514, 0.14377719163894653, -0.14490725100040436, -0.15417587757110596, 0.14219360053539276, -0.10860413312911987, 0.2948458790779114, 0.05687594786286354, 0.2543717324733734, -0.09888681769371033, 0.1455514132976532, 0.5716022849082947, 0.3620777726173401, -0.2616991698741913, 0.232817143201828, -0.05923795327544212, 0.02740882709622383, -0.26902058720588684, 0.5184040069580078, 0.20317667722702026, 0.6850553750991821, 0.0011982641881331801, -0.07827454060316086, -0.47741562128067017, 0.09971702098846436, -0.16464483737945557, -0.23941554129123688, 0.021881436929106712, -0.17267325520515442, 0.14101065695285797, -0.25366172194480896, 0.3055852949619293, 0.23444901406764984, 0.236370250582695, 0.14357009530067444, 0.0865439847111702, 0.23132552206516266, 0.21281808614730835, 0.592223048210144, 0.10037580877542496, 0.04503999650478363, -0.07400104403495789, -0.053100038319826126, -0.33260589838027954, 0.5408440828323364, 0.3855375349521637, 0.1380971372127533, 1.2584563493728638, 0.16513659060001373, -0.2036958783864975, -0.037833865731954575, 0.22094391286373138, -0.35053592920303345, -0.3507029414176941, 0.15683068335056305, 0.22642093896865845, -0.18447622656822205, 0.068257175385952, -0.3985597789287567, 0.29065898060798645, -0.17311717569828033, -0.4040927588939667, -0.3232050836086273, 0.10929182916879654, 0.1316695362329483, -0.4342919886112213, 0.28602319955825806, 0.3912377953529358, -0.8991212248802185, 0.2619304060935974, 0.2835139334201813, -0.41761553287506104, 0.4994097054004669, 0.05769457295536995, -0.1736239343881607, -0.535589873790741, -0.415619432926178, 0.1040714830160141, 0.06688134372234344, 0.007509543560445309, -0.6564937233924866, 0.1201135665178299, 0.40957197546958923, -0.3880353569984436, 0.7604873776435852, 0.6378149390220642, -0.18977420032024384, 0.07216175645589828, 0.34510165452957153, 0.733942985534668, 0.7619447112083435, 0.3140929043292999, -0.952644407749176, -0.04002980887889862, -0.13467910885810852, 0.4235246181488037, 0.1265951246023178, -0.10353287309408188, -0.0048979055136442184, -0.5963317155838013, 0.09102053195238113, -0.602648913860321, 0.3902089595794678, 0.31221625208854675, -0.2087622880935669, -0.2531510293483734, 0.22003790736198425, -0.2988704442977905, 0.18071207404136658, 0.7639701962471008, -0.308927446603775, -0.11061431467533112, 0.043060895055532455, 0.42674872279167175, 0.08192594349384308, -0.09195122867822647, 0.3365585505962372, -0.09561334550380707, -0.27739793062210083, -0.2610009014606476, -0.13832823932170868, 0.06486700475215912, -0.15938496589660645, 0.0957472026348114, 0.2789626121520996, 0.5405193567276001, -0.1370535045862198, -0.42716184258461, -0.20803003013134003, -0.13447141647338867, -0.36892732977867126, 0.017314188182353973, -0.004448149353265762, -0.0561562143266201, -0.5205808877944946, -0.6214097738265991, -0.06367960572242737, -0.047054171562194824, 0.0931011289358139, -0.24888110160827637, 0.23582035303115845, -0.23788326978683472, 0.002408061409369111, 0.2139149308204651, 0.14214414358139038, -0.45459312200546265, 0.13815876841545105, 0.30626147985458374, -0.18014301359653473, -0.0929996445775032, -0.046344511210918427, -0.00525008887052536, -0.3087370991706848, 0.13821028172969818, 0.2383727729320526, 0.15391841530799866, -0.46240025758743286, -1.3579925298690796, 0.11520159989595413, 0.7441489696502686, 0.2549109160900116, 0.099256731569767, -0.19144992530345917, -0.04659478738903999, 0.5636792778968811, 0.13146564364433289, -0.3826539218425751, 0.021577676758170128, -0.1109330803155899, -0.10624363273382187, -0.16086360812187195, 0.06870701164007187, -0.1745392233133316, 0.006426789332181215, -0.5297554731369019, 0.06148435175418854, -0.32825639843940735, -0.0749078094959259, 0.274321049451828, 0.22956383228302002, -0.34154555201530457, 0.30690547823905945, -0.27649426460266113, -0.4278038740158081, -0.2844034731388092, -0.10051419585943222, 0.18666589260101318, 0.5118732452392578, -0.13645386695861816, -0.20628714561462402, -0.2758970260620117, -0.04024519398808479, -0.016509229317307472, 0.01212796475738287, 0.40592387318611145, 0.042820751667022705, -0.1891581267118454, -0.40141189098358154, 0.2325563281774521, 0.1841786503791809, -0.22040531039237976, 0.228135347366333, 0.31505951285362244, -0.20796199142932892, 0.3068249523639679, -0.5811530947685242, -0.5018618702888489, -0.5800038576126099, 0.015567597933113575, 0.06728705763816833, 0.052999742329120636, 0.04123888537287712, 0.05834966152906418, -0.15221703052520752, -0.18648391962051392, 0.2072025090456009, -0.4075557589530945, -0.11767388135194778, -0.1342633068561554, -0.08205253630876541, 0.3174329996109009, -0.0364057682454586, -0.4023468494415283, 0.298166960477829, -0.25065186619758606, -0.24545931816101074, -0.13485825061798096, 0.1130286157131195, 0.16600432991981506, -0.47365736961364746, -0.30349016189575195, 0.15543311834335327, 0.17941994965076447, -0.5358485579490662, -0.011354963295161724, 0.21647246181964874, 0.018806258216500282, 0.016105633229017258, -0.5102248787879944, -0.206373393535614, 0.10889727622270584, -0.031517233699560165, -0.07766341418027878, -0.4688551425933838, -0.38821491599082947, 0.3310758173465729, -0.11256497353315353, 0.33200040459632874, -0.43541085720062256, 0.4068196415901184, -0.3909814953804016, -0.2977016568183899, -0.07610373944044113, 0.33865731954574585, 0.024530433118343353, 0.08049345761537552, 0.20056700706481934, -0.40808796882629395, -0.2057681828737259, 0.34224194288253784, -0.1722795069217682, -0.03295949101448059, -0.4021143913269043, 0.5588693618774414, -0.7775605916976929, -0.06780951470136642, 0.15136303007602692, -0.05620788782835007, 0.5343273282051086, 0.016876185312867165, -0.058281492441892624, -0.18735487759113312, -0.09600462764501572, -0.0016667816089466214, -0.1979990452528, 0.8555772304534912, 0.4943554401397705, -0.4534183740615845, -0.35305044054985046, -0.2892822027206421, -0.258419007062912, 0.45456838607788086, -0.15600629150867462, -0.028579015284776688, 0.182070791721344, -0.32834553718566895, 0.2929878830909729, -0.12025117874145508, -0.29658421874046326, 0.35792943835258484, 0.3470379710197449, -0.00016881314513739198, -0.2131497710943222, -0.09060251712799072, -0.4403330683708191, -0.41921719908714294, 0.2431124746799469, 0.60517418384552, -0.09072315692901611, 0.16747848689556122, 0.22836972773075104, 0.4134199917316437, 0.27085185050964355, 0.003034553024917841, 0.22095628082752228, -0.0575181320309639, 0.08678276836872101, 0.17606933414936066, 0.532307505607605, -0.3286586105823517, 0.31515905261039734, 0.4508320987224579, -0.8251277208328247, 0.0483698844909668, 0.20115675032138824, -0.3634975254535675, -0.2347603291273117, 0.5061566829681396, 0.27211251854896545, -0.22561423480510712, 0.12395220249891281, -0.11394008994102478, -0.4862673282623291, 0.08650824427604675, 0.33508431911468506, 0.35537847876548767, 0.8633039593696594, -0.21374636888504028, 0.04595337063074112, -0.042310599237680435, 0.1886080801486969, 0.36274442076683044, -0.32199886441230774, 0.23997396230697632, 0.4500301778316498, 0.6373756527900696, 0.03955933824181557, 0.13190169632434845, -0.17476220428943634, -0.1522393524646759, 0.4026354253292084, 0.3744896948337555, -0.16061055660247803, -0.31203025579452515, 0.07596976310014725, 0.4846992790699005, -0.14374545216560364, -0.2803981304168701, 0.0934653952717781, -0.01752985082566738, -0.03495657816529274, 0.14802302420139313, -0.3224411606788635, -0.32061541080474854, -1.179579496383667, 0.19064486026763916, -0.41848883032798767, -0.1668177843093872, -0.20470000803470612, 0.4825284481048584, 0.22126884758472443, -0.1432502418756485, 0.26391759514808655, -0.0504668653011322, 0.4042366147041321, -0.1525406539440155, 0.29288163781166077, -0.14949700236320496, -0.17339815199375153, 0.2824651896953583, 0.2106238305568695, -0.32767367362976074, -0.03919380530714989, 0.09270258247852325, 0.3749942481517792, 0.06696021556854248, 0.11009736359119415, -0.3657461404800415, -0.3153618574142456, -0.10296785086393356, 0.08667167276144028, -0.2758171260356903, -0.27048924565315247, -0.15183106064796448, -0.5919833779335022, 0.46799615025520325, -0.5987131595611572, -0.19435875117778778, 0.7668650150299072, 0.12478321045637131, -0.35612183809280396, -0.20253030955791473, 0.7502781748771667, 0.2931360602378845, 0.0732782855629921, 0.217148557305336, -0.24324575066566467, 0.00016295525711029768, 0.4192388951778412, -0.5766802430152893, 0.7282149791717529, -0.4438748359680176, -0.5730844736099243, -0.7134286165237427, -0.23685142397880554, 0.5227223038673401, -0.2091471552848816, 0.23020441830158234, -0.19225041568279266, -0.08906491100788116, 0.7647525668144226, 0.3765466511249542, -0.23856015503406525, 0.14083680510520935, -0.08846184611320496, 0.2741926610469818, -0.09702157229185104, 0.11155640333890915, 0.2821349799633026, -0.2698206901550293, 0.08207421004772186, -0.39680591225624084, 0.20047494769096375, -0.7009730339050293, 0.2751310169696808, -0.17918169498443604, -0.3394192159175873, -0.2856033146381378, 0.49285176396369934, -0.1584865152835846, 0.23470443487167358, 0.8706846833229065, -0.26029762625694275, 0.019155103713274002, -0.3543490469455719, -0.3639131188392639, 0.0014144981978461146, 0.7688367366790771, 0.34065166115760803, -3.751650333404541, 0.4830845296382904, 0.29048725962638855, -0.2307508885860443, 0.18817541003227234, 0.1958247572183609, 0.019494401291012764, 0.07427921891212463, 0.05646907910704613, 0.010594410821795464, 0.052825987339019775, 0.5204260349273682, -0.164042666554451, -0.47974714636802673, 0.10674441605806351, -0.10116756707429886]])]))"
            ]
          },
          "metadata": {
            "tags": []
          },
          "execution_count": 21
        }
      ]
    },
    {
      "cell_type": "code",
      "metadata": {
        "id": "7cd-3cliksXd",
        "colab": {
          "base_uri": "https://localhost:8080/"
        },
        "outputId": "e9c0517c-8a6d-477d-c973-3f862ad70098"
      },
      "source": [
        "def nearest_big_talk(big_talk):\n",
        "    big_talk_embedding = ctx_encoder(**ctx_tokenizer(big_talk, return_tensors=\"pt\"))[0][0].numpy()\n",
        "    scores, retrieved_examples = dataset_with_embeddings.get_nearest_examples('embeddings', big_talk_embedding, k=10)\n",
        "    return retrieved_examples['basic']\n",
        "\n",
        "big_talks = [\n",
        "    \"\"\"If you could have anyone (dead or alive) on your personal board of directors what 1-3 people would you choose?\"\"\",\n",
        "]\n",
        "\n",
        "for big_talk in big_talks:\n",
        "  print(\"big talk:\", big_talk)\n",
        "  print(\"nearest big talks:\")\n",
        "  [print(\" - \", n_q) for n_q in nearest_big_talk(big_talk)]\n",
        "  print(\"~~~~~~~~~~~~~\")\n"
      ],
      "execution_count": 36,
      "outputs": [
        {
          "output_type": "stream",
          "text": [
            "big talk: If you could have anyone (dead or alive) on your personal board of directors what 1-3 people would you choose?\n",
            "nearest big talks:\n",
            " -  If you could have anyone (dead or alive) on your personal board of directors what 1-3 people would you choose?\n",
            " -  In only one sentence, how would you explain the fundamentals of your profession that would contain the most information in the fewest words possible?\n",
            " -  If you had to save three things from your house (Other than pets or people) what would you take?\n",
            " -  Let’s say a young person comes to you and says, “I want to be the next you, not exactly a duplicate of what you do but some version of what that will be 30 years from now.” what skill do you tell them to invest in?\n",
            " -  What single book is the best introduction to your field (or specialization within your field) for laypeople? \n",
            " -  What insight about life have you acquired, that seems obvious to you but might not be obvious to everyone else?\n",
            " -  When you feel upset, how - ideally - would you like to be comforted?\n",
            " -  You are (insert skill). Are there things you think you know about (skill) that maybe other people undervalue that you could instruct us with?\n",
            " -  If you were given a free decade you could take off in a parallel reality and then return to the life you had at the exact same time, what would you do with that decade?\n",
            " -  Would you rather be poor but esteemed, or rich but ignored?\n",
            "~~~~~~~~~~~~~\n"
          ],
          "name": "stdout"
        }
      ]
    },
    {
      "cell_type": "code",
      "metadata": {
        "id": "R4ZydjCcYHV5"
      },
      "source": [
        "import json\n",
        "import requests\n",
        "API_TOKEN = os.environ[\"API_TOKEN\"]\n",
        "API_URL = \"https://api-inference.huggingface.co/models/gpt2\"\n",
        "headers = {\"Authorization\": f\"Bearer {API_TOKEN}\"}\n",
        "\n",
        "def query(payload):\n",
        "    data = json.dumps(payload)\n",
        "    response = requests.request(\"POST\", API_URL, headers=headers, data=data)\n",
        "    return json.loads(response.content.decode(\"utf-8\"))\n",
        "\n",
        "data = query(\"Can you please let us know more details about your \")"
      ],
      "execution_count": 25,
      "outputs": []
    },
    {
      "cell_type": "code",
      "metadata": {
        "colab": {
          "base_uri": "https://localhost:8080/"
        },
        "id": "yHPPh_bTePhy",
        "outputId": "997eb1aa-e188-42cc-f528-23aaf107d7e0"
      },
      "source": [
        "data"
      ],
      "execution_count": 26,
      "outputs": [
        {
          "output_type": "execute_result",
          "data": {
            "text/plain": [
              "[{'generated_text': \"Can you please let us know more details about your iphone?\\n\\nIf you can't find your iphone in the store, we won't be able to match it with yours.\\n\\nUnfortunately, many customers don't get the\"}]"
            ]
          },
          "metadata": {
            "tags": []
          },
          "execution_count": 26
        }
      ]
    },
    {
      "cell_type": "code",
      "metadata": {
        "id": "YozRkkZ5ecMq"
      },
      "source": [
        "data = [query(e) for e in df.basic]"
      ],
      "execution_count": 34,
      "outputs": []
    },
    {
      "cell_type": "code",
      "metadata": {
        "colab": {
          "base_uri": "https://localhost:8080/"
        },
        "id": "G5siRMgQe6VO",
        "outputId": "71d11162-944b-4334-ce55-5ff7e4aabcd5"
      },
      "source": [
        "data"
      ],
      "execution_count": 35,
      "outputs": [
        {
          "output_type": "execute_result",
          "data": {
            "text/plain": [
              "[[{'generated_text': \"What insight about life have you acquired, that seems obvious to you but might not be obvious to everyone else? What insight does it take to become happy?\\n\\n1. It's easy to get happy. You've already done some positive things;\"}],\n",
              " [{'generated_text': 'In only one sentence, how would you explain the fundamentals of your profession that would contain the most information in the fewest words possible? How would they tell you which class would be most effective in your profession? Would you even be able to answer these'}],\n",
              " [{'generated_text': 'If you could have anyone (dead or alive) on your personal board of directors what 1-3 people would you choose?\\n\\nIf I could choose just one person, what would it be like with my 2 people and their 2 children?\\n'}],\n",
              " [{'generated_text': 'When was the last time you changed your mind about something?\\n\\n\\nWell, I still remember the first time I did it. I wrote that one-word thing to my mom after the first time I saw her -- the kind of thing that people'}],\n",
              " [{'generated_text': 'Name a writer or publication you disagree with but still read.\\n\\nPlease share this article:\\n\\n\\nTweet\\n\\nWhat are your thoughts about this topic? What are you writing about? Share with your friends.'}],\n",
              " [{'generated_text': 'What single book is the best introduction to your field (or specialization within your field) for laypeople? \\xa0Do you have friends who are well versed in the subject (e.g., the reader)? \\xa0Or do you have a'}],\n",
              " [{'generated_text': 'What do you look for in a very close friend? Your sense of self?\" \"Uh, yeah. My feelings are very positive.\" I was kind of a little surprised, and I know when you have a sense of loss, the more you see'}],\n",
              " [{'generated_text': \"What have you learned about yourself in the past year? And what have you learned with regard to your goals, goals, goals as a person and other interests as well?\\n\\nWe try to understand which parts of life we've learned, and what\"}],\n",
              " [{'generated_text': \"In what ways is your family especially odd?\\n\\nWell I like to come to Disney World and do things I wouldn't do in Los Angeles, so to talk about going to Disney World (the real thing) is really an adventure for me.\"}],\n",
              " [{'generated_text': 'What book have you recommended the most?\\n\\nIn the past, I\\'ve mentioned several books using the \"gag\" method, which is a much simpler form of argumentation. It allows us to apply different levels of logic to different things.'}],\n",
              " [{'generated_text': \"Which one of your friends do you envy the most? Do you hate the person? Who is doing the telling (and getting the ball rolling)? If this is my current favorite, then yes. This year…\\n\\nAnd here's the truth of\"}],\n",
              " [{'generated_text': \"If you were braver, what would you be doing with your life?\\n\\nThe answer isn't, 'I'll be spending it with my kids' like you are now doing. It's just that you want to have a healthy and balanced\"}],\n",
              " [{'generated_text': 'What’s your worst intellectual habit?\\n\\n[A: \"Not that good. It was as if I had fallen into love with all the other people. How could they have been so cruel?\" A] My heart stopped. I don'}],\n",
              " [{'generated_text': 'What’s a view that you hold but can’t defend?’’ And who’s always onside?’’I‖ sure it’ is me. But most of all, if you'}],\n",
              " [{'generated_text': 'Would you rather be poor but esteemed, or rich but ignored?\\n\\nLately my life has been more than enough to keep me focused. I have moved out of my comfort zone and I have set out to become a better human being. I'}],\n",
              " [{'generated_text': 'When you feel upset, how - ideally - would you like to be comforted? As opposed to just feeling upset. This is your problem, not mine. I am not going to get there by writing, and you are probably not going to get'}],\n",
              " [{'generated_text': \"What’s the first piece of media you consume every day?\\n\\nLAWRENCE: I'm a huge advocate of our democratic liberties and democratic rules. I'm opposed to surveillance as a way of giving people a sense of freedom.\"}],\n",
              " [{'generated_text': 'What might your friends be most surprised to learn that you\\'d love to try professionally? And where might you find that chance? \"Let\\'s take a look at what\\'s in store for you,\" says the author; he won\\'t divulge your name'}],\n",
              " [{'generated_text': \"What unfortunate character trait can be traced back directly to something in your past? You would think if you're a boy who is having an affair with another boy but a 13 year old girl has cheated on him and his cousin. Is there anything bad that\"}],\n",
              " [{'generated_text': \"When might you have been able to ask for more if you hadn't lost confidence? Ask my friend, and I'd be your best friend. If you have a hard time with that in mind, maybe you might find this a worthwhile topic. In\"}],\n",
              " [{'generated_text': 'What do you need to believe in order to get through the day? Why do you feel sorry for yourself and for others?\\n\\nWhen I started a blog you were probably thinking \"it\\'s too much work to be a successful online author.\" But'}],\n",
              " [{'generated_text': 'What makes a person a good traveling companion? Why is it that when you travel and talk about others you become less aware of your feelings of superiority? Do you feel like you can call a horse home if you want him too?\\n\\nIf you'}],\n",
              " [{'generated_text': \"Are you where you want to be at this stage of your life? Don't despair, the real problem is that you are not being present in your dream when the dream comes true. It is all just a dream and you will probably know that when\"}],\n",
              " [{'generated_text': \"Do you think other people regard you as a good listener?\\n\\nWell, I don't think people see anyone as good. I think it is a good person to listen. I think people just think, 'I like this guy.' People think\"}],\n",
              " [{'generated_text': \"Which of your talents is the world in danger of overlooking?\\n\\nA: I do. I have done many things in life that I really don't want to do; I've got two wonderful daughters, a really good husband and a really good\"}],\n",
              " [{'generated_text': 'What did school help to kill in you?\\n\\nWhat did schooling help you? If you have to go to the doctor you probably have to get up in that morning. Sometimes you can just get lost in the middle of the day, too,'}],\n",
              " [{'generated_text': 'What inspires you to learn?'}],\n",
              " [{'generated_text': \"Who is the person who has most influenced the way you think? It would be the Lord, we hope.\\n\\nDo you know why you love me so much? I love you unconditionally. But I don't love you enough. I feel\"}],\n",
              " [{'generated_text': 'What would you want to correct about your school or university education? Are no grades, only financial aid for teachers and a guarantee of tuition reimbursement? Do you care what your child gets in college; what does your child get out of college and how do'}],\n",
              " [{'generated_text': \"When does someone become 'grown up'?\\n\\nLemme ask the question.\\n\\nWho do you grow up to, you're asking in this chat.\\n\\nWhen I was 10, I'd be a boy, and my parents would\"}],\n",
              " [{'generated_text': 'What are your ambitions? I believe in the idea of an unbridled free and open Internet, which means that no government power has to shut down a program like this once, for that matter, it is the citizens which decide the rules and how'}],\n",
              " [{'generated_text': \"If you had to save three things from your house (Other than pets or people) what would you take?\\n\\nA lot of stuff. Some things that were probably good but didn't seem to suit you (like the kitchen, the trash,\"}],\n",
              " [{'generated_text': 'If you had to write a book, what would it be about? Would I look a bit different or feel more like myself? How would I live? Would my children be more or less different? Were my spouses just that good or bad?'}],\n",
              " [{'generated_text': 'What do other people not understand about you? So can I tell them you\\'re a professional?\\n\\n\"Look, I appreciate all the feedback you\\'re having. It\\'s great to hear and appreciate some of the same feelings I\\'m giving back.'}],\n",
              " [{'generated_text': \"What kind of character trait that you don't possess do you find attractive in others? I mean, if that's what you're looking for. If you look as if it's a good thing your parents are in prison, when all goes well their\"}],\n",
              " [{'generated_text': 'What’s a decision that seemed small at the time, but led to a big impact in your life today?\\n\\nJUERUSALEM: At the time, the decision to go for the Tour de France was that there were'}],\n",
              " [{'generated_text': \"In your field of work how do you spot an amateur? We're here to help.\\n\\nThere are many different jobs that can be taken up to 5 times the normal salary, so whether this person works in retail or in manufacturing, they have\"}],\n",
              " [{'generated_text': 'Between the ages 10 and 20, what did you have as a formative intellectual experience that helped make you into who you are?\\n\\nLily: I developed a love for science that took me through a really great start in my life. I'}],\n",
              " [{'generated_text': 'If you were given a free decade you could take off in a parallel reality and then return to the life you had at the exact same time, what would you do with that decade?\\n\\n\"What if they came back into your life and told'}],\n",
              " [{'generated_text': 'Let’s say a young person comes to you and says, “I want to be the next you, not exactly a duplicate of what you do but some version of what that will be 30 years from now.” what skill do you tell them to invest in?'}],\n",
              " [{'generated_text': 'You are (insert skill). Are there things you think you know about (skill) that maybe other people undervalue that you could instruct us with?\\n\\nThis is not because you are \"weak\". You are still weak. If there is something'}],\n",
              " [{'generated_text': 'What is the most significant constraint for making (insert project) bigger and better?\\n\\nBecause we have many project managers, we have an increasing number of people. We can create more things, but we can do a lot more than this. I'}],\n",
              " [{'generated_text': 'Ulysses bucket list: \"Tell me something you have done, or want to do, that you think I should do? It can be anything, as challenging as you want it to be, or as easy. As long as you give me the rest of my life to complete it, I promise I will do it.\"'}],\n",
              " [{'generated_text': 'What’s your favorite quote ?\\n\\nIt\\'s such a great way to introduce yourself here, but I think that would only come up to 15 minutes here. But I\\'m quite sure it\\'s the same as your \"Hello\" line.'}]]"
            ]
          },
          "metadata": {
            "tags": []
          },
          "execution_count": 35
        }
      ]
    },
    {
      "cell_type": "code",
      "metadata": {
        "id": "KZyGx50IfPF_"
      },
      "source": [
        ""
      ],
      "execution_count": null,
      "outputs": []
    }
  ]
}